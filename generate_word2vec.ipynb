{
 "metadata": {
  "language_info": {
   "codemirror_mode": {
    "name": "ipython",
    "version": 3
   },
   "file_extension": ".py",
   "mimetype": "text/x-python",
   "name": "python",
   "nbconvert_exporter": "python",
   "pygments_lexer": "ipython3",
   "version": "3.7.7-final"
  },
  "orig_nbformat": 2,
  "kernelspec": {
   "name": "python_defaultSpec_1599702986063",
   "display_name": "Python 3.7.7 64-bit ('tensorflow2_env': conda)"
  }
 },
 "nbformat": 4,
 "nbformat_minor": 2,
 "cells": [
  {
   "cell_type": "code",
   "execution_count": 45,
   "metadata": {},
   "outputs": [],
   "source": [
    "import numpy as np\n",
    "import pandas as pd\n",
    "import matplotlib.pyplot as plt\n",
    "from gensim.models.word2vec import Word2Vec\n",
    "from konlpy.tag import Okt\n",
    "okt = Okt()"
   ]
  },
  {
   "cell_type": "code",
   "execution_count": 46,
   "metadata": {},
   "outputs": [],
   "source": [
    "data = pd.read_json('1.json', encoding='utf-8')\n",
    "data = data.iloc[:, 0]"
   ]
  },
  {
   "cell_type": "code",
   "execution_count": 47,
   "metadata": {},
   "outputs": [],
   "source": [
    "title=[]\n",
    "genre = []\n",
    "lyrics=[]\n",
    "for i in data:\n",
    "    title.append(i['title'])\n",
    "    cnt = i['type']\n",
    "    cnt = cnt.split(',')\n",
    "    genre.append(cnt[0])\n",
    "    lyrics.append(i['release'])\n",
    "\n",
    "data = pd.DataFrame({'title':title, 'genre':genre, 'lyrics':lyrics})"
   ]
  },
  {
   "cell_type": "code",
   "execution_count": 48,
   "metadata": {},
   "outputs": [],
   "source": [
    "lyric_temp = []\n",
    "for i in range(data.shape[0]):\n",
    "    lyric_temp.append(data['lyrics'].iloc[i].lower())"
   ]
  },
  {
   "cell_type": "code",
   "execution_count": 49,
   "metadata": {
    "tags": []
   },
   "outputs": [],
   "source": [
    "import re\n",
    "p = re.compile('[a-z]+')\n",
    "lyric_temp = []\n",
    "temp_1 = []\n",
    "temp_2 = []\n",
    "for i in range(data.shape[0]):\n",
    "    # 영어 가사가 있는 노래는 완전 제외\n",
    "    # if not p.search(data['lyrics'].iloc[i]) and len(data['lyrics'].iloc[i]) > 20:\n",
    "\n",
    "    # 영어 가사가 있는 부분을 삭제\n",
    "    if len(data['lyrics'].iloc[i]) > 20:\n",
    "        lyric_temp.append(data['lyrics'].iloc[i].replace('[a-z]+', ''))\n",
    "        temp_1.append(data['title'].iloc[i])\n",
    "        temp_2.append(data['genre'].iloc[i])"
   ]
  },
  {
   "cell_type": "code",
   "execution_count": 50,
   "metadata": {},
   "outputs": [],
   "source": [
    "data = pd.DataFrame({'title' : temp_1, 'genre' : temp_2, 'lyrics' : lyric_temp})"
   ]
  },
  {
   "cell_type": "code",
   "execution_count": 51,
   "metadata": {},
   "outputs": [
    {
     "output_type": "execute_result",
     "data": {
      "text/plain": "                     title genre  \\\n0                다시 여기 바닷가    댄스   \n1         눈누난나 (NUNU NANA)  랩/힙합   \n2              마리아 (Maria)    댄스   \n3                그 여름을 틀어줘    댄스   \n4        How You Like That  랩/힙합   \n...                    ...   ...   \n4421                  당신만이   발라드   \n4422      겁나 (Feat. 매드클라운)   발라드   \n4423                시간과 낙엽   발라드   \n4424                    내일  록/메탈   \n4425  New York (Feat. 백지영)  랩/힙합   \n\n                                                 lyrics  \n0     예아 호우 예예예싹쓰리 인더 하우스커커커커커몬 싹 쓰리 투 렛츠고나 다시 또 설레어...  \n1     I’m trying to give usomething moreSo come with...  \n2     욕을 하도 먹어 체했어 하도서러워도 어쩌겠어 I do모두들 미워하느라 애썼네날 무너...  \n3     이 여름 다시 한번 설레고 싶다그때 그 여름을 틀어줘그 여름을 들려줘그때 그 여름을...  \n4     보란 듯이 무너졌어바닥을 뚫고 저 지하까지옷 끝자락 잡겠다고저 높이 두 손을 뻗어봐...  \n...                                                 ...  \n4421  눈부신 햇살이 비춰주어도 제게 무슨 소용있겠어요 이토록 아름다운 당신만이 나에게 빛...  \n4422  너무 살가웠던 네가언제나 다정했던 네가꼭 오늘 따라다른 사람 같아어떻게 해야 해자꾸...  \n4423  맨발로 기억을 거닐다 떨어지는 낙엽에 그간 잊지 못한 사람들을 보낸다 맨발로 기억을...  \n4424  모두가 돌아간 자리행복한 걸음으로 갈까정말 바라던 꿈들을 이룬 걸까밀렸던 숙제를 하...  \n4425  느낌이 와 너와 통한다는 feel이더 얘기해 도란도란 둘이우린 똑 닮은 데칼코마니넌...  \n\n[4426 rows x 3 columns]",
      "text/html": "<div>\n<style scoped>\n    .dataframe tbody tr th:only-of-type {\n        vertical-align: middle;\n    }\n\n    .dataframe tbody tr th {\n        vertical-align: top;\n    }\n\n    .dataframe thead th {\n        text-align: right;\n    }\n</style>\n<table border=\"1\" class=\"dataframe\">\n  <thead>\n    <tr style=\"text-align: right;\">\n      <th></th>\n      <th>title</th>\n      <th>genre</th>\n      <th>lyrics</th>\n    </tr>\n  </thead>\n  <tbody>\n    <tr>\n      <th>0</th>\n      <td>다시 여기 바닷가</td>\n      <td>댄스</td>\n      <td>예아 호우 예예예싹쓰리 인더 하우스커커커커커몬 싹 쓰리 투 렛츠고나 다시 또 설레어...</td>\n    </tr>\n    <tr>\n      <th>1</th>\n      <td>눈누난나 (NUNU NANA)</td>\n      <td>랩/힙합</td>\n      <td>I’m trying to give usomething moreSo come with...</td>\n    </tr>\n    <tr>\n      <th>2</th>\n      <td>마리아 (Maria)</td>\n      <td>댄스</td>\n      <td>욕을 하도 먹어 체했어 하도서러워도 어쩌겠어 I do모두들 미워하느라 애썼네날 무너...</td>\n    </tr>\n    <tr>\n      <th>3</th>\n      <td>그 여름을 틀어줘</td>\n      <td>댄스</td>\n      <td>이 여름 다시 한번 설레고 싶다그때 그 여름을 틀어줘그 여름을 들려줘그때 그 여름을...</td>\n    </tr>\n    <tr>\n      <th>4</th>\n      <td>How You Like That</td>\n      <td>랩/힙합</td>\n      <td>보란 듯이 무너졌어바닥을 뚫고 저 지하까지옷 끝자락 잡겠다고저 높이 두 손을 뻗어봐...</td>\n    </tr>\n    <tr>\n      <th>...</th>\n      <td>...</td>\n      <td>...</td>\n      <td>...</td>\n    </tr>\n    <tr>\n      <th>4421</th>\n      <td>당신만이</td>\n      <td>발라드</td>\n      <td>눈부신 햇살이 비춰주어도 제게 무슨 소용있겠어요 이토록 아름다운 당신만이 나에게 빛...</td>\n    </tr>\n    <tr>\n      <th>4422</th>\n      <td>겁나 (Feat. 매드클라운)</td>\n      <td>발라드</td>\n      <td>너무 살가웠던 네가언제나 다정했던 네가꼭 오늘 따라다른 사람 같아어떻게 해야 해자꾸...</td>\n    </tr>\n    <tr>\n      <th>4423</th>\n      <td>시간과 낙엽</td>\n      <td>발라드</td>\n      <td>맨발로 기억을 거닐다 떨어지는 낙엽에 그간 잊지 못한 사람들을 보낸다 맨발로 기억을...</td>\n    </tr>\n    <tr>\n      <th>4424</th>\n      <td>내일</td>\n      <td>록/메탈</td>\n      <td>모두가 돌아간 자리행복한 걸음으로 갈까정말 바라던 꿈들을 이룬 걸까밀렸던 숙제를 하...</td>\n    </tr>\n    <tr>\n      <th>4425</th>\n      <td>New York (Feat. 백지영)</td>\n      <td>랩/힙합</td>\n      <td>느낌이 와 너와 통한다는 feel이더 얘기해 도란도란 둘이우린 똑 닮은 데칼코마니넌...</td>\n    </tr>\n  </tbody>\n</table>\n<p>4426 rows × 3 columns</p>\n</div>"
     },
     "metadata": {},
     "execution_count": 51
    }
   ],
   "source": [
    "data"
   ]
  },
  {
   "cell_type": "code",
   "execution_count": 52,
   "metadata": {},
   "outputs": [],
   "source": [
    "sw_file = open('./korean_stopwords.txt', 'r', encoding='utf-8')\n",
    "sw_list = []\n",
    "for sw in sw_file.readlines():\n",
    "  sw_list.append(sw.replace('\\n', ''))\n",
    "sw_list += ['은', '는', '이']\n",
    "sw_file.close()"
   ]
  },
  {
   "cell_type": "code",
   "execution_count": 53,
   "metadata": {},
   "outputs": [
    {
     "output_type": "execute_result",
     "data": {
      "text/plain": "[['호우',\n  '쓰리다',\n  '인더',\n  '하우스',\n  '커커커커커몬',\n  '쓰리다',\n  '투',\n  '렛츠고',\n  '다시',\n  '설레다',\n  '이렇게',\n  '만나다',\n  '지금',\n  '공기',\n  '다시다',\n  '널',\n  '볼',\n  '순',\n  '없다',\n  '거',\n  '라고',\n  '추억',\n  '뿐',\n  '이라',\n  '서랍',\n  '속',\n  '꼭',\n  '넣다',\n  '두다',\n  '흐르다',\n  '속',\n  '서너',\n  '기억',\n  '점점',\n  '희미하다',\n  '가다',\n  '끝나다',\n  '알다',\n  '여름',\n  '바닷가',\n  '단둘',\n  '파도',\n  '취해',\n  '서',\n  '노래',\n  '꿈',\n  '꾸다',\n  '바닷가',\n  '이제',\n  '말',\n  '싶다',\n  '더욱',\n  '빛나다',\n  '별',\n  '되어다',\n  '고다',\n  '덥다',\n  '막',\n  '짜증',\n  '괜찮다',\n  '따뜻하다',\n  '퐁당',\n  '빠지다',\n  '버리다',\n  '널',\n  '젠',\n  '가지',\n  '않다',\n  '거',\n  '모래',\n  '위',\n  '펴다',\n  '펴다',\n  '펴다',\n  '편지',\n  '써다',\n  '밀물',\n  '밀려오다',\n  '지우다',\n  '추억',\n  '되다',\n  '뻔하다',\n  '첫',\n  '느낌',\n  '랑',\n  '다시',\n  '한번',\n  '받다',\n  '보고',\n  '싶다',\n  '흐르다',\n  '속',\n  '서너',\n  '기억',\n  '점점',\n  '희미하다',\n  '가다',\n  '끝나다',\n  '알다',\n  '여름',\n  '바닷가',\n  '단둘',\n  '파도',\n  '취해',\n  '서',\n  '노래',\n  '꿈',\n  '꾸다',\n  '바닷가',\n  '이제',\n  '말',\n  '싶다',\n  '더욱',\n  '빛나다',\n  '별',\n  '되어다',\n  '강',\n  '건너',\n  '맞닿다',\n  '나소',\n  '중',\n  '한',\n  '사랑',\n  '영원하다',\n  '간직',\n  '해주다',\n  '여름',\n  '바닷가',\n  '단둘',\n  '파도',\n  '취해',\n  '서',\n  '노래',\n  '꿈',\n  '꾸다',\n  '바닷가',\n  '이제',\n  '말',\n  '싶다',\n  '더욱',\n  '빛나다',\n  '별',\n  '되어다'],\n ['I',\n  '’',\n  'm',\n  'trying',\n  'to',\n  'give',\n  'usomething',\n  'moreSo',\n  'come',\n  'with',\n  'me',\n  'and',\n  'fly',\n  'awayaway',\n  'away',\n  'away',\n  'away',\n  '난',\n  '눈누난나',\n  '눈',\n  '누누',\n  '난나',\n  'Put',\n  '’',\n  'em',\n  'up',\n  'in',\n  'the',\n  'air',\n  '누나',\n  '누나',\n  'Like',\n  'this',\n  'oh',\n  '나나',\n  '누나',\n  '누나',\n  '에이',\n  '나르다',\n  '지금',\n  '원하다',\n  'Gimme',\n  'more',\n  'Gimme',\n  'moreGimme',\n  'more',\n  'Gimme',\n  'moreBaby',\n  'baby',\n  'yeah',\n  'I',\n  'want',\n  'it',\n  '리',\n  '리',\n  '리',\n  '이리',\n  '온유',\n  '난',\n  '떨다',\n  '마',\n  '그만',\n  '원한',\n  '다',\n  '면',\n  '솔직하다',\n  '보다',\n  'too',\n  'much',\n  '우',\n  'baby',\n  '오다',\n  '가져가다',\n  'I',\n  'could',\n  'give',\n  'u',\n  'everything',\n  'anythingBaby',\n  'can',\n  'u',\n  'handle',\n  'it',\n  '뭐라다',\n  'still',\n  'don',\n  '’',\n  't',\n  'give',\n  'a',\n  'what',\n  '맘대로',\n  '계속',\n  '떠들다',\n  'they',\n  'talk',\n  'about',\n  'me',\n  '뭐라다',\n  '뭐라다',\n  '카노',\n  'F',\n  'U',\n  '난',\n  '눈누난나',\n  '눈',\n  '누누',\n  '난나',\n  'Put',\n  '’',\n  'em',\n  'up',\n  'in',\n  'the',\n  'air',\n  '누나',\n  '누나',\n  'Like',\n  'this',\n  'oh',\n  '나나',\n  '누나',\n  '누나',\n  '에이',\n  'I',\n  '’',\n  'm',\n  'still',\n  'Jessi',\n  'from',\n  'the',\n  'blockU',\n  'know',\n  'I',\n  'got',\n  'the',\n  'keys',\n  'to',\n  'the',\n  'lock',\n  '안',\n  '보다',\n  '남',\n  '눈치',\n  'I',\n  'just',\n  'do',\n  'me',\n  '날',\n  '보기',\n  '위해',\n  '들다',\n  '뒤꿈치',\n  'Wake',\n  'up',\n  'bless',\n  'looking',\n  'fresh',\n  '어딜',\n  '가든',\n  'flex',\n  'got',\n  'the',\n  'Son',\n  'my',\n  'chest',\n  '싸이',\n  '오빠',\n  '말',\n  '꼴리다',\n  '대로',\n  '해',\n  'no',\n  'red',\n  'lights',\n  '올림픽대로',\n  'aye',\n  '뭐라다',\n  'still',\n  'don',\n  '’',\n  't',\n  'give',\n  'a',\n  'what',\n  '맘대로',\n  '계속',\n  '떠들다',\n  'they',\n  'talk',\n  'about',\n  'me',\n  '뭐라다',\n  '뭐라다',\n  '카노',\n  'F',\n  'U',\n  '난',\n  '눈누난나',\n  '눈',\n  '누누',\n  '난나',\n  'Put',\n  '’',\n  'em',\n  'up',\n  'in',\n  'the',\n  'air',\n  '누나',\n  '누나',\n  'Like',\n  'this',\n  'oh',\n  '나나',\n  '누나',\n  '누나',\n  '에이',\n  'I',\n  '’',\n  'm',\n  'trying',\n  'to',\n  'give',\n  'usomething',\n  'moreSo',\n  'come',\n  'with',\n  'me',\n  'and',\n  'fly',\n  'awayaway',\n  'away',\n  'away',\n  'away',\n  '난',\n  '눈누난나',\n  '눈',\n  '누누',\n  '난나',\n  'Put',\n  '’',\n  'em',\n  'up',\n  'in',\n  'the',\n  'air',\n  '누나',\n  '누나',\n  'Like',\n  'this',\n  'oh',\n  '나나',\n  '누나',\n  '누나',\n  '에이'],\n ['욕',\n  '먹다',\n  '체',\n  '서럽다',\n  '어쩌겠어',\n  'I',\n  'do',\n  '미워하다',\n  '애쓰다',\n  '날',\n  '무너',\n  '뜨다',\n  '리',\n  '면',\n  '밥',\n  '되다',\n  '외로워',\n  '서',\n  '어떡하다',\n  '미움',\n  '삼키다',\n  '어화',\n  '낼',\n  '힘',\n  '도',\n  '없다',\n  '여유도',\n  '없다',\n  '뭐',\n  '그리다',\n  '아니꼽다',\n  '가다',\n  '길',\n  '그냥',\n  '가왜',\n  '그렇다',\n  '서럽다',\n  '마리아',\n  '마리아',\n  '널',\n  '위',\n  '한',\n  '말',\n  '이야',\n  '빛나다',\n  '밤',\n  '이야',\n  '널',\n  '괴롭히다',\n  '마오',\n  '마리아',\n  '널',\n  '위',\n  '한',\n  '말',\n  '이야',\n  '뭐',\n  '아등바등',\n  '해이',\n  '밉다',\n  '아름답다',\n  '(',\n  'yeah',\n  ')',\n  'Oh',\n  'na',\n  'ah',\n  'ah',\n  '(',\n  'yeah',\n  ')',\n  '널',\n  '위',\n  '한',\n  '말',\n  '이야',\n  '(',\n  'yeah',\n  ')',\n  'Oh',\n  'na',\n  'ah',\n  'ah',\n  '(',\n  'yeah',\n  ')',\n  '아름답다',\n  '마리아',\n  'No',\n  'frame',\n  'no',\n  'fake',\n  '지끈',\n  '지다',\n  '끌다',\n  '하늘',\n  '하늘색',\n  '살다',\n  '게',\n  '다',\n  '뻔',\n  '해내다',\n  '갈다',\n  '길다',\n  '바꾸다',\n  '뭐',\n  '위기',\n  '기회',\n  '다',\n  '바꾸다',\n  '뭐',\n  '굳이',\n  '울다',\n  '꼴',\n  '보고',\n  '싶다',\n  '옜다',\n  '눈물',\n  '외로워',\n  '서',\n  '어떡하다',\n  '미움',\n  '삼키다',\n  '어화',\n  '낼',\n  '힘',\n  '도',\n  '없다',\n  '이유',\n  '도',\n  '없다',\n  '마음',\n  '더럽히다',\n  '타락하다',\n  '아직',\n  '이르다',\n  '마리아',\n  '마리아',\n  '널',\n  '위',\n  '한',\n  '말',\n  '이야',\n  '빛나다',\n  '밤',\n  '이야',\n  '널',\n  '괴롭히다',\n  '마오',\n  '마리아',\n  '널',\n  '위',\n  '한',\n  '말',\n  '이야',\n  '뭐',\n  '아등바등',\n  '해이',\n  '밉다',\n  '아름답다',\n  '(',\n  'yeah',\n  ')',\n  'Oh',\n  'na',\n  'ah',\n  'ah',\n  '(',\n  'yeah',\n  ')',\n  '널',\n  '위',\n  '한',\n  '말',\n  '이야',\n  '(',\n  'yeah',\n  ')',\n  'Oh',\n  'na',\n  'ah',\n  'ah',\n  '(',\n  'yeah',\n  ')',\n  '아름답다',\n  '마리아',\n  '마리아',\n  '마리아',\n  '널',\n  '위',\n  '한',\n  '말',\n  '이야',\n  '빛나다',\n  '밤',\n  '이야',\n  '널',\n  '괴롭히다',\n  '마오',\n  '마리아',\n  '널',\n  '위',\n  '한',\n  '말',\n  '이야',\n  '뭐',\n  '아등바등',\n  '해이',\n  '밉다',\n  '아름답다',\n  '(',\n  'yeah',\n  ')',\n  'Oh',\n  'na',\n  'ah',\n  'ah',\n  '(',\n  'yeah',\n  ')',\n  '널',\n  '위',\n  '한',\n  '말',\n  '이야',\n  '(',\n  'yeah',\n  ')',\n  '널',\n  '위',\n  '한',\n  '말',\n  '이야',\n  '(',\n  'yeah',\n  ')',\n  '아름답다',\n  '마리아'],\n ['여름',\n  '다시',\n  '한번',\n  '설레다',\n  '싶다',\n  '여름',\n  '틀어주다',\n  '여름',\n  '들려주다',\n  '여름',\n  '틀어주다',\n  '한번',\n  '불다',\n  '1',\n  '2',\n  'SSAK',\n  '3',\n  'Okay',\n  'okay',\n  'okayAlright',\n  'alright',\n  'alright',\n  '바다',\n  '부르다',\n  'Go',\n  'back',\n  'Go',\n  'back',\n  'Go',\n  'back',\n  '그해',\n  '여름',\n  '손잡다',\n  '뛰어들다',\n  'OohUh',\n  'uh',\n  'uh',\n  'I',\n  '’',\n  'm',\n  'UD',\n  '-',\n  'UD',\n  'MY',\n  'NEW',\n  'I',\n  '.',\n  'D',\n  '시절',\n  '날',\n  '웃다',\n  '울리다',\n  '멜로디',\n  '하늘',\n  '우릴',\n  '향',\n  '열리다',\n  'uh',\n  '곁',\n  '에는',\n  'uhRE',\n  '?',\n  'PLAY',\n  '계절',\n  '멈추다',\n  '마',\n  '요',\n  '밤새다',\n  'Play',\n  '해주다',\n  '여름',\n  '틀어주다',\n  '여름',\n  '들려주다',\n  '많이',\n  '설레다',\n  '차다',\n  '많이',\n  '뜨겁다',\n  '여름',\n  '틀어주다',\n  '한번',\n  '불다',\n  '올라타다',\n  '라',\n  '타',\n  '라',\n  '타',\n  '파도',\n  '타고',\n  'We',\n  'flow',\n  '흐르다',\n  '흐르다',\n  '닿다',\n  '수',\n  '왠지',\n  '왠지',\n  '왠지',\n  '올해',\n  '여름',\n  '바람',\n  '널',\n  '떠올리다',\n  '그날',\n  'oohI',\n  'love',\n  'it',\n  'like',\n  'ityeah',\n  'I',\n  'like',\n  'it',\n  '돈',\n  '없다',\n  '깡',\n  '없다',\n  '예일',\n  '없다',\n  '감',\n  '없다',\n  'Youth',\n  'Flex',\n  '계절',\n  '아끼다',\n  '마',\n  '요',\n  '밤새다',\n  'Play',\n  '해주다',\n  '여름',\n  '틀어주다',\n  '여름',\n  '들려주다',\n  '많이',\n  '설레다',\n  '차다',\n  '많이',\n  '뜨겁다',\n  '여름',\n  '틀어주다',\n  '한번',\n  '불다',\n  '여름',\n  '도',\n  '늘다',\n  '그해',\n  '여름',\n  '오늘이',\n  '가장',\n  '젊다',\n  '여름',\n  '계절',\n  '머무르다',\n  '싶다',\n  '영원하다',\n  '으음',\n  '음',\n  '1',\n  '2',\n  '3',\n  '여름',\n  '틀어주다',\n  '여름',\n  '들려주다',\n  '많이',\n  '사랑',\n  '차다',\n  '많이',\n  '설레다',\n  '여름',\n  '틀어주다',\n  '한번',\n  '불다'],\n ['보다',\n  '듯이',\n  '무너지다',\n  '바닥',\n  '뚫다',\n  '지하',\n  '옷',\n  '끝',\n  '자락',\n  '잡다',\n  '높이',\n  '두',\n  '손',\n  '뻗다',\n  '보다',\n  '다시',\n  '캄캄하다',\n  '곳',\n  'light',\n  'up',\n  'the',\n  'sky',\n  '두',\n  '눈',\n  '보다',\n  'I',\n  '’',\n  'll',\n  'kiss',\n  'you',\n  'goodbye',\n  '실컷',\n  '비웃다',\n  '꼴',\n  '좋다',\n  '이제',\n  'Ha',\n  'how',\n  'you',\n  'like',\n  'that',\n  '?',\n  'You',\n  'gon',\n  '’',\n  'like',\n  'that',\n  'that',\n  'that',\n  'that',\n  'thatHow',\n  'you',\n  'like',\n  'that',\n  '?',\n  'How',\n  'you',\n  'like',\n  'that',\n  'that',\n  'that',\n  'that',\n  'thatNow',\n  'look',\n  'at',\n  'you',\n  'now',\n  'look',\n  'at',\n  'meLook',\n  'at',\n  'you',\n  'now',\n  'look',\n  'at',\n  'me',\n  'Look',\n  'at',\n  'you',\n  'now',\n  'look',\n  'at',\n  'meHow',\n  'you',\n  'like',\n  'thatNow',\n  'look',\n  'at',\n  'you',\n  'now',\n  'look',\n  'at',\n  'meLook',\n  'at',\n  'you',\n  'now',\n  'look',\n  'at',\n  'me',\n  'Look',\n  'at',\n  'you',\n  'now',\n  'look',\n  'at',\n  'meHow',\n  'you',\n  'like',\n  'thatYour',\n  'girl',\n  'need',\n  'it',\n  'all',\n  'and',\n  'that',\n  '’',\n  's',\n  'a',\n  'hundred',\n  '백',\n  '개',\n  '중',\n  '백',\n  '몫',\n  '원하다',\n  'Karma',\n  'come',\n  'and',\n  'get',\n  'some',\n  '어쩔',\n  '수',\n  '없다',\n  'What',\n  '’',\n  's',\n  'up',\n  ',',\n  'I',\n  '’',\n  'm',\n  'right',\n  'back',\n  '방아쇠',\n  'cock',\n  'backPlain',\n  'Jane',\n  'get',\n  'hijackedDon',\n  '’',\n  't',\n  'like',\n  'me',\n  '?',\n  'Then',\n  'tell',\n  'me',\n  'how',\n  'you',\n  'like',\n  'that',\n  '더',\n  '캄캄하다',\n  '곳',\n  'shine',\n  'like',\n  'the',\n  'stars',\n  '미소',\n  '띠',\n  '며',\n  'I',\n  '’',\n  'll',\n  'kiss',\n  'you',\n  'goodbye',\n  '실컷',\n  '비웃다',\n  '꼴',\n  '좋다',\n  '이제',\n  'Ha',\n  'how',\n  'you',\n  'like',\n  'that',\n  '?',\n  'You',\n  'gon',\n  '’',\n  'like',\n  'that',\n  'that',\n  'that',\n  'that',\n  'thatHow',\n  'you',\n  'like',\n  'that',\n  '?',\n  'How',\n  'you',\n  'like',\n  'that',\n  'that',\n  'that',\n  'that',\n  'thatNow',\n  'look',\n  'at',\n  'you',\n  'now',\n  'look',\n  'at',\n  'meLook',\n  'at',\n  'you',\n  'now',\n  'look',\n  'at',\n  'me',\n  'Look',\n  'at',\n  'you',\n  'now',\n  'look',\n  'at',\n  'meHow',\n  'you',\n  'like',\n  'thatNow',\n  'look',\n  'at',\n  'you',\n  'now',\n  'look',\n  'at',\n  'meLook',\n  'at',\n  'you',\n  'now',\n  'look',\n  'at',\n  'me',\n  'Look',\n  'at',\n  'you',\n  'now',\n  'look',\n  'at',\n  'meHow',\n  'you',\n  'like',\n  'that',\n  '날개',\n  '잃다',\n  '채',\n  '추락',\n  '날다',\n  '두운',\n  '나날',\n  '속',\n  '갇히다',\n  '날',\n  '쯤',\n  '넌',\n  '날',\n  '끝내다',\n  'Look',\n  'up',\n  'in',\n  'the',\n  'sky',\n  'it',\n  '’',\n  's',\n  'a',\n  'bird',\n  'it',\n  '’',\n  's',\n  'a',\n  'planeBring',\n  'out',\n  'your',\n  'boss',\n  'bishBLACKPINK',\n  '!',\n  'How',\n  'you',\n  'like',\n  'that',\n  'You',\n  'gon',\n  '’',\n  'like',\n  'that',\n  'How',\n  'you',\n  'like',\n  'that']]"
     },
     "metadata": {},
     "execution_count": 53
    }
   ],
   "source": [
    "tokenized_data = []\n",
    "for sentence in data['lyrics']:\n",
    "    temp_X = okt.morphs(sentence, stem=True) # 토큰화\n",
    "    temp_X = [word for word in temp_X if not word in sw_list] # 불용어 제거\n",
    "    tokenized_data.append(temp_X)\n",
    "tokenized_data[:5]"
   ]
  },
  {
   "cell_type": "code",
   "execution_count": 54,
   "metadata": {
    "tags": []
   },
   "outputs": [
    {
     "output_type": "stream",
     "name": "stdout",
     "text": "가사의 최대 길이 : 1122\n가사의 평균 길이 : 214.28264798915498\n"
    },
    {
     "output_type": "display_data",
     "data": {
      "text/plain": "<Figure size 432x288 with 1 Axes>",
      "image/svg+xml": "<?xml version=\"1.0\" encoding=\"utf-8\" standalone=\"no\"?>\r\n<!DOCTYPE svg PUBLIC \"-//W3C//DTD SVG 1.1//EN\"\r\n  \"http://www.w3.org/Graphics/SVG/1.1/DTD/svg11.dtd\">\r\n<!-- Created with matplotlib (https://matplotlib.org/) -->\r\n<svg height=\"262.19625pt\" version=\"1.1\" viewBox=\"0 0 388.965625 262.19625\" width=\"388.965625pt\" xmlns=\"http://www.w3.org/2000/svg\" xmlns:xlink=\"http://www.w3.org/1999/xlink\">\r\n <defs>\r\n  <style type=\"text/css\">\r\n*{stroke-linecap:butt;stroke-linejoin:round;}\r\n  </style>\r\n </defs>\r\n <g id=\"figure_1\">\r\n  <g id=\"patch_1\">\r\n   <path d=\"M 0 262.19625 \r\nL 388.965625 262.19625 \r\nL 388.965625 0 \r\nL 0 0 \r\nz\r\n\" style=\"fill:none;\"/>\r\n  </g>\r\n  <g id=\"axes_1\">\r\n   <g id=\"patch_2\">\r\n    <path d=\"M 46.965625 224.64 \r\nL 381.765625 224.64 \r\nL 381.765625 7.2 \r\nL 46.965625 7.2 \r\nz\r\n\" style=\"fill:#ffffff;\"/>\r\n   </g>\r\n   <g id=\"patch_3\">\r\n    <path clip-path=\"url(#pf87895946e)\" d=\"M 62.183807 224.64 \r\nL 68.27108 224.64 \r\nL 68.27108 223.103186 \r\nL 62.183807 223.103186 \r\nz\r\n\" style=\"fill:#1f77b4;\"/>\r\n   </g>\r\n   <g id=\"patch_4\">\r\n    <path clip-path=\"url(#pf87895946e)\" d=\"M 68.27108 224.64 \r\nL 74.358352 224.64 \r\nL 74.358352 218.492743 \r\nL 68.27108 218.492743 \r\nz\r\n\" style=\"fill:#1f77b4;\"/>\r\n   </g>\r\n   <g id=\"patch_5\">\r\n    <path clip-path=\"url(#pf87895946e)\" d=\"M 74.358352 224.64 \r\nL 80.445625 224.64 \r\nL 80.445625 204.277212 \r\nL 74.358352 204.277212 \r\nz\r\n\" style=\"fill:#1f77b4;\"/>\r\n   </g>\r\n   <g id=\"patch_6\">\r\n    <path clip-path=\"url(#pf87895946e)\" d=\"M 80.445625 224.64 \r\nL 86.532898 224.64 \r\nL 86.532898 125.899687 \r\nL 80.445625 125.899687 \r\nz\r\n\" style=\"fill:#1f77b4;\"/>\r\n   </g>\r\n   <g id=\"patch_7\">\r\n    <path clip-path=\"url(#pf87895946e)\" d=\"M 86.532898 224.64 \r\nL 92.62017 224.64 \r\nL 92.62017 39.838092 \r\nL 86.532898 39.838092 \r\nz\r\n\" style=\"fill:#1f77b4;\"/>\r\n   </g>\r\n   <g id=\"patch_8\">\r\n    <path clip-path=\"url(#pf87895946e)\" d=\"M 92.62017 224.64 \r\nL 98.707443 224.64 \r\nL 98.707443 17.554286 \r\nL 92.62017 17.554286 \r\nz\r\n\" style=\"fill:#1f77b4;\"/>\r\n   </g>\r\n   <g id=\"patch_9\">\r\n    <path clip-path=\"url(#pf87895946e)\" d=\"M 98.707443 224.64 \r\nL 104.794716 224.64 \r\nL 104.794716 60.969287 \r\nL 98.707443 60.969287 \r\nz\r\n\" style=\"fill:#1f77b4;\"/>\r\n   </g>\r\n   <g id=\"patch_10\">\r\n    <path clip-path=\"url(#pf87895946e)\" d=\"M 104.794716 224.64 \r\nL 110.881989 224.64 \r\nL 110.881989 97.852828 \r\nL 104.794716 97.852828 \r\nz\r\n\" style=\"fill:#1f77b4;\"/>\r\n   </g>\r\n   <g id=\"patch_11\">\r\n    <path clip-path=\"url(#pf87895946e)\" d=\"M 110.881989 224.64 \r\nL 116.969261 224.64 \r\nL 116.969261 105.536899 \r\nL 110.881989 105.536899 \r\nz\r\n\" style=\"fill:#1f77b4;\"/>\r\n   </g>\r\n   <g id=\"patch_12\">\r\n    <path clip-path=\"url(#pf87895946e)\" d=\"M 116.969261 224.64 \r\nL 123.056534 224.64 \r\nL 123.056534 95.93181 \r\nL 116.969261 95.93181 \r\nz\r\n\" style=\"fill:#1f77b4;\"/>\r\n   </g>\r\n   <g id=\"patch_13\">\r\n    <path clip-path=\"url(#pf87895946e)\" d=\"M 123.056534 224.64 \r\nL 129.143807 224.64 \r\nL 129.143807 98.237032 \r\nL 123.056534 98.237032 \r\nz\r\n\" style=\"fill:#1f77b4;\"/>\r\n   </g>\r\n   <g id=\"patch_14\">\r\n    <path clip-path=\"url(#pf87895946e)\" d=\"M 129.143807 224.64 \r\nL 135.23108 224.64 \r\nL 135.23108 121.289245 \r\nL 129.143807 121.289245 \r\nz\r\n\" style=\"fill:#1f77b4;\"/>\r\n   </g>\r\n   <g id=\"patch_15\">\r\n    <path clip-path=\"url(#pf87895946e)\" d=\"M 135.23108 224.64 \r\nL 141.318352 224.64 \r\nL 141.318352 132.815351 \r\nL 135.23108 132.815351 \r\nz\r\n\" style=\"fill:#1f77b4;\"/>\r\n   </g>\r\n   <g id=\"patch_16\">\r\n    <path clip-path=\"url(#pf87895946e)\" d=\"M 141.318352 224.64 \r\nL 147.405625 224.64 \r\nL 147.405625 150.488715 \r\nL 141.318352 150.488715 \r\nz\r\n\" style=\"fill:#1f77b4;\"/>\r\n   </g>\r\n   <g id=\"patch_17\">\r\n    <path clip-path=\"url(#pf87895946e)\" d=\"M 147.405625 224.64 \r\nL 153.492898 224.64 \r\nL 153.492898 164.320042 \r\nL 147.405625 164.320042 \r\nz\r\n\" style=\"fill:#1f77b4;\"/>\r\n   </g>\r\n   <g id=\"patch_18\">\r\n    <path clip-path=\"url(#pf87895946e)\" d=\"M 153.492898 224.64 \r\nL 159.58017 224.64 \r\nL 159.58017 181.224999 \r\nL 153.492898 181.224999 \r\nz\r\n\" style=\"fill:#1f77b4;\"/>\r\n   </g>\r\n   <g id=\"patch_19\">\r\n    <path clip-path=\"url(#pf87895946e)\" d=\"M 159.58017 224.64 \r\nL 165.667443 224.64 \r\nL 165.667443 192.751105 \r\nL 159.58017 192.751105 \r\nz\r\n\" style=\"fill:#1f77b4;\"/>\r\n   </g>\r\n   <g id=\"patch_20\">\r\n    <path clip-path=\"url(#pf87895946e)\" d=\"M 165.667443 224.64 \r\nL 171.754716 224.64 \r\nL 171.754716 196.208937 \r\nL 165.667443 196.208937 \r\nz\r\n\" style=\"fill:#1f77b4;\"/>\r\n   </g>\r\n   <g id=\"patch_21\">\r\n    <path clip-path=\"url(#pf87895946e)\" d=\"M 171.754716 224.64 \r\nL 177.841989 224.64 \r\nL 177.841989 205.429822 \r\nL 171.754716 205.429822 \r\nz\r\n\" style=\"fill:#1f77b4;\"/>\r\n   </g>\r\n   <g id=\"patch_22\">\r\n    <path clip-path=\"url(#pf87895946e)\" d=\"M 177.841989 224.64 \r\nL 183.929261 224.64 \r\nL 183.929261 206.582433 \r\nL 177.841989 206.582433 \r\nz\r\n\" style=\"fill:#1f77b4;\"/>\r\n   </g>\r\n   <g id=\"patch_23\">\r\n    <path clip-path=\"url(#pf87895946e)\" d=\"M 183.929261 224.64 \r\nL 190.016534 224.64 \r\nL 190.016534 214.266504 \r\nL 183.929261 214.266504 \r\nz\r\n\" style=\"fill:#1f77b4;\"/>\r\n   </g>\r\n   <g id=\"patch_24\">\r\n    <path clip-path=\"url(#pf87895946e)\" d=\"M 190.016534 224.64 \r\nL 196.103807 224.64 \r\nL 196.103807 215.803318 \r\nL 190.016534 215.803318 \r\nz\r\n\" style=\"fill:#1f77b4;\"/>\r\n   </g>\r\n   <g id=\"patch_25\">\r\n    <path clip-path=\"url(#pf87895946e)\" d=\"M 196.103807 224.64 \r\nL 202.19108 224.64 \r\nL 202.19108 216.955929 \r\nL 196.103807 216.955929 \r\nz\r\n\" style=\"fill:#1f77b4;\"/>\r\n   </g>\r\n   <g id=\"patch_26\">\r\n    <path clip-path=\"url(#pf87895946e)\" d=\"M 202.19108 224.64 \r\nL 208.278352 224.64 \r\nL 208.278352 218.10854 \r\nL 202.19108 218.10854 \r\nz\r\n\" style=\"fill:#1f77b4;\"/>\r\n   </g>\r\n   <g id=\"patch_27\">\r\n    <path clip-path=\"url(#pf87895946e)\" d=\"M 208.278352 224.64 \r\nL 214.365625 224.64 \r\nL 214.365625 221.566372 \r\nL 208.278352 221.566372 \r\nz\r\n\" style=\"fill:#1f77b4;\"/>\r\n   </g>\r\n   <g id=\"patch_28\">\r\n    <path clip-path=\"url(#pf87895946e)\" d=\"M 214.365625 224.64 \r\nL 220.452898 224.64 \r\nL 220.452898 222.334779 \r\nL 214.365625 222.334779 \r\nz\r\n\" style=\"fill:#1f77b4;\"/>\r\n   </g>\r\n   <g id=\"patch_29\">\r\n    <path clip-path=\"url(#pf87895946e)\" d=\"M 220.452898 224.64 \r\nL 226.54017 224.64 \r\nL 226.54017 222.718982 \r\nL 220.452898 222.718982 \r\nz\r\n\" style=\"fill:#1f77b4;\"/>\r\n   </g>\r\n   <g id=\"patch_30\">\r\n    <path clip-path=\"url(#pf87895946e)\" d=\"M 226.54017 224.64 \r\nL 232.627443 224.64 \r\nL 232.627443 223.871593 \r\nL 226.54017 223.871593 \r\nz\r\n\" style=\"fill:#1f77b4;\"/>\r\n   </g>\r\n   <g id=\"patch_31\">\r\n    <path clip-path=\"url(#pf87895946e)\" d=\"M 232.627443 224.64 \r\nL 238.714716 224.64 \r\nL 238.714716 222.718982 \r\nL 232.627443 222.718982 \r\nz\r\n\" style=\"fill:#1f77b4;\"/>\r\n   </g>\r\n   <g id=\"patch_32\">\r\n    <path clip-path=\"url(#pf87895946e)\" d=\"M 238.714716 224.64 \r\nL 244.801989 224.64 \r\nL 244.801989 223.487389 \r\nL 238.714716 223.487389 \r\nz\r\n\" style=\"fill:#1f77b4;\"/>\r\n   </g>\r\n   <g id=\"patch_33\">\r\n    <path clip-path=\"url(#pf87895946e)\" d=\"M 244.801989 224.64 \r\nL 250.889261 224.64 \r\nL 250.889261 224.255796 \r\nL 244.801989 224.255796 \r\nz\r\n\" style=\"fill:#1f77b4;\"/>\r\n   </g>\r\n   <g id=\"patch_34\">\r\n    <path clip-path=\"url(#pf87895946e)\" d=\"M 250.889261 224.64 \r\nL 256.976534 224.64 \r\nL 256.976534 224.64 \r\nL 250.889261 224.64 \r\nz\r\n\" style=\"fill:#1f77b4;\"/>\r\n   </g>\r\n   <g id=\"patch_35\">\r\n    <path clip-path=\"url(#pf87895946e)\" d=\"M 256.976534 224.64 \r\nL 263.063807 224.64 \r\nL 263.063807 224.64 \r\nL 256.976534 224.64 \r\nz\r\n\" style=\"fill:#1f77b4;\"/>\r\n   </g>\r\n   <g id=\"patch_36\">\r\n    <path clip-path=\"url(#pf87895946e)\" d=\"M 263.063807 224.64 \r\nL 269.15108 224.64 \r\nL 269.15108 224.64 \r\nL 263.063807 224.64 \r\nz\r\n\" style=\"fill:#1f77b4;\"/>\r\n   </g>\r\n   <g id=\"patch_37\">\r\n    <path clip-path=\"url(#pf87895946e)\" d=\"M 269.15108 224.64 \r\nL 275.238352 224.64 \r\nL 275.238352 224.255796 \r\nL 269.15108 224.255796 \r\nz\r\n\" style=\"fill:#1f77b4;\"/>\r\n   </g>\r\n   <g id=\"patch_38\">\r\n    <path clip-path=\"url(#pf87895946e)\" d=\"M 275.238352 224.64 \r\nL 281.325625 224.64 \r\nL 281.325625 224.64 \r\nL 275.238352 224.64 \r\nz\r\n\" style=\"fill:#1f77b4;\"/>\r\n   </g>\r\n   <g id=\"patch_39\">\r\n    <path clip-path=\"url(#pf87895946e)\" d=\"M 281.325625 224.64 \r\nL 287.412898 224.64 \r\nL 287.412898 224.64 \r\nL 281.325625 224.64 \r\nz\r\n\" style=\"fill:#1f77b4;\"/>\r\n   </g>\r\n   <g id=\"patch_40\">\r\n    <path clip-path=\"url(#pf87895946e)\" d=\"M 287.412898 224.64 \r\nL 293.50017 224.64 \r\nL 293.50017 224.255796 \r\nL 287.412898 224.255796 \r\nz\r\n\" style=\"fill:#1f77b4;\"/>\r\n   </g>\r\n   <g id=\"patch_41\">\r\n    <path clip-path=\"url(#pf87895946e)\" d=\"M 293.50017 224.64 \r\nL 299.587443 224.64 \r\nL 299.587443 224.64 \r\nL 293.50017 224.64 \r\nz\r\n\" style=\"fill:#1f77b4;\"/>\r\n   </g>\r\n   <g id=\"patch_42\">\r\n    <path clip-path=\"url(#pf87895946e)\" d=\"M 299.587443 224.64 \r\nL 305.674716 224.64 \r\nL 305.674716 224.64 \r\nL 299.587443 224.64 \r\nz\r\n\" style=\"fill:#1f77b4;\"/>\r\n   </g>\r\n   <g id=\"patch_43\">\r\n    <path clip-path=\"url(#pf87895946e)\" d=\"M 305.674716 224.64 \r\nL 311.761989 224.64 \r\nL 311.761989 224.64 \r\nL 305.674716 224.64 \r\nz\r\n\" style=\"fill:#1f77b4;\"/>\r\n   </g>\r\n   <g id=\"patch_44\">\r\n    <path clip-path=\"url(#pf87895946e)\" d=\"M 311.761989 224.64 \r\nL 317.849261 224.64 \r\nL 317.849261 224.64 \r\nL 311.761989 224.64 \r\nz\r\n\" style=\"fill:#1f77b4;\"/>\r\n   </g>\r\n   <g id=\"patch_45\">\r\n    <path clip-path=\"url(#pf87895946e)\" d=\"M 317.849261 224.64 \r\nL 323.936534 224.64 \r\nL 323.936534 224.64 \r\nL 317.849261 224.64 \r\nz\r\n\" style=\"fill:#1f77b4;\"/>\r\n   </g>\r\n   <g id=\"patch_46\">\r\n    <path clip-path=\"url(#pf87895946e)\" d=\"M 323.936534 224.64 \r\nL 330.023807 224.64 \r\nL 330.023807 224.64 \r\nL 323.936534 224.64 \r\nz\r\n\" style=\"fill:#1f77b4;\"/>\r\n   </g>\r\n   <g id=\"patch_47\">\r\n    <path clip-path=\"url(#pf87895946e)\" d=\"M 330.023807 224.64 \r\nL 336.11108 224.64 \r\nL 336.11108 224.64 \r\nL 330.023807 224.64 \r\nz\r\n\" style=\"fill:#1f77b4;\"/>\r\n   </g>\r\n   <g id=\"patch_48\">\r\n    <path clip-path=\"url(#pf87895946e)\" d=\"M 336.11108 224.64 \r\nL 342.198352 224.64 \r\nL 342.198352 224.255796 \r\nL 336.11108 224.255796 \r\nz\r\n\" style=\"fill:#1f77b4;\"/>\r\n   </g>\r\n   <g id=\"patch_49\">\r\n    <path clip-path=\"url(#pf87895946e)\" d=\"M 342.198352 224.64 \r\nL 348.285625 224.64 \r\nL 348.285625 224.64 \r\nL 342.198352 224.64 \r\nz\r\n\" style=\"fill:#1f77b4;\"/>\r\n   </g>\r\n   <g id=\"patch_50\">\r\n    <path clip-path=\"url(#pf87895946e)\" d=\"M 348.285625 224.64 \r\nL 354.372898 224.64 \r\nL 354.372898 224.64 \r\nL 348.285625 224.64 \r\nz\r\n\" style=\"fill:#1f77b4;\"/>\r\n   </g>\r\n   <g id=\"patch_51\">\r\n    <path clip-path=\"url(#pf87895946e)\" d=\"M 354.372898 224.64 \r\nL 360.46017 224.64 \r\nL 360.46017 224.64 \r\nL 354.372898 224.64 \r\nz\r\n\" style=\"fill:#1f77b4;\"/>\r\n   </g>\r\n   <g id=\"patch_52\">\r\n    <path clip-path=\"url(#pf87895946e)\" d=\"M 360.46017 224.64 \r\nL 366.547443 224.64 \r\nL 366.547443 224.255796 \r\nL 360.46017 224.255796 \r\nz\r\n\" style=\"fill:#1f77b4;\"/>\r\n   </g>\r\n   <g id=\"matplotlib.axis_1\">\r\n    <g id=\"xtick_1\">\r\n     <g id=\"line2d_1\">\r\n      <defs>\r\n       <path d=\"M 0 0 \r\nL 0 3.5 \r\n\" id=\"m4397469662\" style=\"stroke:#000000;stroke-width:0.8;\"/>\r\n      </defs>\r\n      <g>\r\n       <use style=\"stroke:#000000;stroke-width:0.8;\" x=\"59.722645\" xlink:href=\"#m4397469662\" y=\"224.64\"/>\r\n      </g>\r\n     </g>\r\n     <g id=\"text_1\">\r\n      <!-- 0 -->\r\n      <defs>\r\n       <path d=\"M 31.78125 66.40625 \r\nQ 24.171875 66.40625 20.328125 58.90625 \r\nQ 16.5 51.421875 16.5 36.375 \r\nQ 16.5 21.390625 20.328125 13.890625 \r\nQ 24.171875 6.390625 31.78125 6.390625 \r\nQ 39.453125 6.390625 43.28125 13.890625 \r\nQ 47.125 21.390625 47.125 36.375 \r\nQ 47.125 51.421875 43.28125 58.90625 \r\nQ 39.453125 66.40625 31.78125 66.40625 \r\nz\r\nM 31.78125 74.21875 \r\nQ 44.046875 74.21875 50.515625 64.515625 \r\nQ 56.984375 54.828125 56.984375 36.375 \r\nQ 56.984375 17.96875 50.515625 8.265625 \r\nQ 44.046875 -1.421875 31.78125 -1.421875 \r\nQ 19.53125 -1.421875 13.0625 8.265625 \r\nQ 6.59375 17.96875 6.59375 36.375 \r\nQ 6.59375 54.828125 13.0625 64.515625 \r\nQ 19.53125 74.21875 31.78125 74.21875 \r\nz\r\n\" id=\"DejaVuSans-48\"/>\r\n      </defs>\r\n      <g transform=\"translate(56.541395 239.238437)scale(0.1 -0.1)\">\r\n       <use xlink:href=\"#DejaVuSans-48\"/>\r\n      </g>\r\n     </g>\r\n    </g>\r\n    <g id=\"xtick_2\">\r\n     <g id=\"line2d_2\">\r\n      <g>\r\n       <use style=\"stroke:#000000;stroke-width:0.8;\" x=\"114.415123\" xlink:href=\"#m4397469662\" y=\"224.64\"/>\r\n      </g>\r\n     </g>\r\n     <g id=\"text_2\">\r\n      <!-- 200 -->\r\n      <defs>\r\n       <path d=\"M 19.1875 8.296875 \r\nL 53.609375 8.296875 \r\nL 53.609375 0 \r\nL 7.328125 0 \r\nL 7.328125 8.296875 \r\nQ 12.9375 14.109375 22.625 23.890625 \r\nQ 32.328125 33.6875 34.8125 36.53125 \r\nQ 39.546875 41.84375 41.421875 45.53125 \r\nQ 43.3125 49.21875 43.3125 52.78125 \r\nQ 43.3125 58.59375 39.234375 62.25 \r\nQ 35.15625 65.921875 28.609375 65.921875 \r\nQ 23.96875 65.921875 18.8125 64.3125 \r\nQ 13.671875 62.703125 7.8125 59.421875 \r\nL 7.8125 69.390625 \r\nQ 13.765625 71.78125 18.9375 73 \r\nQ 24.125 74.21875 28.421875 74.21875 \r\nQ 39.75 74.21875 46.484375 68.546875 \r\nQ 53.21875 62.890625 53.21875 53.421875 \r\nQ 53.21875 48.921875 51.53125 44.890625 \r\nQ 49.859375 40.875 45.40625 35.40625 \r\nQ 44.1875 33.984375 37.640625 27.21875 \r\nQ 31.109375 20.453125 19.1875 8.296875 \r\nz\r\n\" id=\"DejaVuSans-50\"/>\r\n      </defs>\r\n      <g transform=\"translate(104.871373 239.238437)scale(0.1 -0.1)\">\r\n       <use xlink:href=\"#DejaVuSans-50\"/>\r\n       <use x=\"63.623047\" xlink:href=\"#DejaVuSans-48\"/>\r\n       <use x=\"127.246094\" xlink:href=\"#DejaVuSans-48\"/>\r\n      </g>\r\n     </g>\r\n    </g>\r\n    <g id=\"xtick_3\">\r\n     <g id=\"line2d_3\">\r\n      <g>\r\n       <use style=\"stroke:#000000;stroke-width:0.8;\" x=\"169.1076\" xlink:href=\"#m4397469662\" y=\"224.64\"/>\r\n      </g>\r\n     </g>\r\n     <g id=\"text_3\">\r\n      <!-- 400 -->\r\n      <defs>\r\n       <path d=\"M 37.796875 64.3125 \r\nL 12.890625 25.390625 \r\nL 37.796875 25.390625 \r\nz\r\nM 35.203125 72.90625 \r\nL 47.609375 72.90625 \r\nL 47.609375 25.390625 \r\nL 58.015625 25.390625 \r\nL 58.015625 17.1875 \r\nL 47.609375 17.1875 \r\nL 47.609375 0 \r\nL 37.796875 0 \r\nL 37.796875 17.1875 \r\nL 4.890625 17.1875 \r\nL 4.890625 26.703125 \r\nz\r\n\" id=\"DejaVuSans-52\"/>\r\n      </defs>\r\n      <g transform=\"translate(159.56385 239.238437)scale(0.1 -0.1)\">\r\n       <use xlink:href=\"#DejaVuSans-52\"/>\r\n       <use x=\"63.623047\" xlink:href=\"#DejaVuSans-48\"/>\r\n       <use x=\"127.246094\" xlink:href=\"#DejaVuSans-48\"/>\r\n      </g>\r\n     </g>\r\n    </g>\r\n    <g id=\"xtick_4\">\r\n     <g id=\"line2d_4\">\r\n      <g>\r\n       <use style=\"stroke:#000000;stroke-width:0.8;\" x=\"223.800077\" xlink:href=\"#m4397469662\" y=\"224.64\"/>\r\n      </g>\r\n     </g>\r\n     <g id=\"text_4\">\r\n      <!-- 600 -->\r\n      <defs>\r\n       <path d=\"M 33.015625 40.375 \r\nQ 26.375 40.375 22.484375 35.828125 \r\nQ 18.609375 31.296875 18.609375 23.390625 \r\nQ 18.609375 15.53125 22.484375 10.953125 \r\nQ 26.375 6.390625 33.015625 6.390625 \r\nQ 39.65625 6.390625 43.53125 10.953125 \r\nQ 47.40625 15.53125 47.40625 23.390625 \r\nQ 47.40625 31.296875 43.53125 35.828125 \r\nQ 39.65625 40.375 33.015625 40.375 \r\nz\r\nM 52.59375 71.296875 \r\nL 52.59375 62.3125 \r\nQ 48.875 64.0625 45.09375 64.984375 \r\nQ 41.3125 65.921875 37.59375 65.921875 \r\nQ 27.828125 65.921875 22.671875 59.328125 \r\nQ 17.53125 52.734375 16.796875 39.40625 \r\nQ 19.671875 43.65625 24.015625 45.921875 \r\nQ 28.375 48.1875 33.59375 48.1875 \r\nQ 44.578125 48.1875 50.953125 41.515625 \r\nQ 57.328125 34.859375 57.328125 23.390625 \r\nQ 57.328125 12.15625 50.6875 5.359375 \r\nQ 44.046875 -1.421875 33.015625 -1.421875 \r\nQ 20.359375 -1.421875 13.671875 8.265625 \r\nQ 6.984375 17.96875 6.984375 36.375 \r\nQ 6.984375 53.65625 15.1875 63.9375 \r\nQ 23.390625 74.21875 37.203125 74.21875 \r\nQ 40.921875 74.21875 44.703125 73.484375 \r\nQ 48.484375 72.75 52.59375 71.296875 \r\nz\r\n\" id=\"DejaVuSans-54\"/>\r\n      </defs>\r\n      <g transform=\"translate(214.256327 239.238437)scale(0.1 -0.1)\">\r\n       <use xlink:href=\"#DejaVuSans-54\"/>\r\n       <use x=\"63.623047\" xlink:href=\"#DejaVuSans-48\"/>\r\n       <use x=\"127.246094\" xlink:href=\"#DejaVuSans-48\"/>\r\n      </g>\r\n     </g>\r\n    </g>\r\n    <g id=\"xtick_5\">\r\n     <g id=\"line2d_5\">\r\n      <g>\r\n       <use style=\"stroke:#000000;stroke-width:0.8;\" x=\"278.492555\" xlink:href=\"#m4397469662\" y=\"224.64\"/>\r\n      </g>\r\n     </g>\r\n     <g id=\"text_5\">\r\n      <!-- 800 -->\r\n      <defs>\r\n       <path d=\"M 31.78125 34.625 \r\nQ 24.75 34.625 20.71875 30.859375 \r\nQ 16.703125 27.09375 16.703125 20.515625 \r\nQ 16.703125 13.921875 20.71875 10.15625 \r\nQ 24.75 6.390625 31.78125 6.390625 \r\nQ 38.8125 6.390625 42.859375 10.171875 \r\nQ 46.921875 13.96875 46.921875 20.515625 \r\nQ 46.921875 27.09375 42.890625 30.859375 \r\nQ 38.875 34.625 31.78125 34.625 \r\nz\r\nM 21.921875 38.8125 \r\nQ 15.578125 40.375 12.03125 44.71875 \r\nQ 8.5 49.078125 8.5 55.328125 \r\nQ 8.5 64.0625 14.71875 69.140625 \r\nQ 20.953125 74.21875 31.78125 74.21875 \r\nQ 42.671875 74.21875 48.875 69.140625 \r\nQ 55.078125 64.0625 55.078125 55.328125 \r\nQ 55.078125 49.078125 51.53125 44.71875 \r\nQ 48 40.375 41.703125 38.8125 \r\nQ 48.828125 37.15625 52.796875 32.3125 \r\nQ 56.78125 27.484375 56.78125 20.515625 \r\nQ 56.78125 9.90625 50.3125 4.234375 \r\nQ 43.84375 -1.421875 31.78125 -1.421875 \r\nQ 19.734375 -1.421875 13.25 4.234375 \r\nQ 6.78125 9.90625 6.78125 20.515625 \r\nQ 6.78125 27.484375 10.78125 32.3125 \r\nQ 14.796875 37.15625 21.921875 38.8125 \r\nz\r\nM 18.3125 54.390625 \r\nQ 18.3125 48.734375 21.84375 45.5625 \r\nQ 25.390625 42.390625 31.78125 42.390625 \r\nQ 38.140625 42.390625 41.71875 45.5625 \r\nQ 45.3125 48.734375 45.3125 54.390625 \r\nQ 45.3125 60.0625 41.71875 63.234375 \r\nQ 38.140625 66.40625 31.78125 66.40625 \r\nQ 25.390625 66.40625 21.84375 63.234375 \r\nQ 18.3125 60.0625 18.3125 54.390625 \r\nz\r\n\" id=\"DejaVuSans-56\"/>\r\n      </defs>\r\n      <g transform=\"translate(268.948805 239.238437)scale(0.1 -0.1)\">\r\n       <use xlink:href=\"#DejaVuSans-56\"/>\r\n       <use x=\"63.623047\" xlink:href=\"#DejaVuSans-48\"/>\r\n       <use x=\"127.246094\" xlink:href=\"#DejaVuSans-48\"/>\r\n      </g>\r\n     </g>\r\n    </g>\r\n    <g id=\"xtick_6\">\r\n     <g id=\"line2d_6\">\r\n      <g>\r\n       <use style=\"stroke:#000000;stroke-width:0.8;\" x=\"333.185032\" xlink:href=\"#m4397469662\" y=\"224.64\"/>\r\n      </g>\r\n     </g>\r\n     <g id=\"text_6\">\r\n      <!-- 1000 -->\r\n      <defs>\r\n       <path d=\"M 12.40625 8.296875 \r\nL 28.515625 8.296875 \r\nL 28.515625 63.921875 \r\nL 10.984375 60.40625 \r\nL 10.984375 69.390625 \r\nL 28.421875 72.90625 \r\nL 38.28125 72.90625 \r\nL 38.28125 8.296875 \r\nL 54.390625 8.296875 \r\nL 54.390625 0 \r\nL 12.40625 0 \r\nz\r\n\" id=\"DejaVuSans-49\"/>\r\n      </defs>\r\n      <g transform=\"translate(320.460032 239.238437)scale(0.1 -0.1)\">\r\n       <use xlink:href=\"#DejaVuSans-49\"/>\r\n       <use x=\"63.623047\" xlink:href=\"#DejaVuSans-48\"/>\r\n       <use x=\"127.246094\" xlink:href=\"#DejaVuSans-48\"/>\r\n       <use x=\"190.869141\" xlink:href=\"#DejaVuSans-48\"/>\r\n      </g>\r\n     </g>\r\n    </g>\r\n    <g id=\"text_7\">\r\n     <!-- length of samples -->\r\n     <defs>\r\n      <path d=\"M 9.421875 75.984375 \r\nL 18.40625 75.984375 \r\nL 18.40625 0 \r\nL 9.421875 0 \r\nz\r\n\" id=\"DejaVuSans-108\"/>\r\n      <path d=\"M 56.203125 29.59375 \r\nL 56.203125 25.203125 \r\nL 14.890625 25.203125 \r\nQ 15.484375 15.921875 20.484375 11.0625 \r\nQ 25.484375 6.203125 34.421875 6.203125 \r\nQ 39.59375 6.203125 44.453125 7.46875 \r\nQ 49.3125 8.734375 54.109375 11.28125 \r\nL 54.109375 2.78125 \r\nQ 49.265625 0.734375 44.1875 -0.34375 \r\nQ 39.109375 -1.421875 33.890625 -1.421875 \r\nQ 20.796875 -1.421875 13.15625 6.1875 \r\nQ 5.515625 13.8125 5.515625 26.8125 \r\nQ 5.515625 40.234375 12.765625 48.109375 \r\nQ 20.015625 56 32.328125 56 \r\nQ 43.359375 56 49.78125 48.890625 \r\nQ 56.203125 41.796875 56.203125 29.59375 \r\nz\r\nM 47.21875 32.234375 \r\nQ 47.125 39.59375 43.09375 43.984375 \r\nQ 39.0625 48.390625 32.421875 48.390625 \r\nQ 24.90625 48.390625 20.390625 44.140625 \r\nQ 15.875 39.890625 15.1875 32.171875 \r\nz\r\n\" id=\"DejaVuSans-101\"/>\r\n      <path d=\"M 54.890625 33.015625 \r\nL 54.890625 0 \r\nL 45.90625 0 \r\nL 45.90625 32.71875 \r\nQ 45.90625 40.484375 42.875 44.328125 \r\nQ 39.84375 48.1875 33.796875 48.1875 \r\nQ 26.515625 48.1875 22.3125 43.546875 \r\nQ 18.109375 38.921875 18.109375 30.90625 \r\nL 18.109375 0 \r\nL 9.078125 0 \r\nL 9.078125 54.6875 \r\nL 18.109375 54.6875 \r\nL 18.109375 46.1875 \r\nQ 21.34375 51.125 25.703125 53.5625 \r\nQ 30.078125 56 35.796875 56 \r\nQ 45.21875 56 50.046875 50.171875 \r\nQ 54.890625 44.34375 54.890625 33.015625 \r\nz\r\n\" id=\"DejaVuSans-110\"/>\r\n      <path d=\"M 45.40625 27.984375 \r\nQ 45.40625 37.75 41.375 43.109375 \r\nQ 37.359375 48.484375 30.078125 48.484375 \r\nQ 22.859375 48.484375 18.828125 43.109375 \r\nQ 14.796875 37.75 14.796875 27.984375 \r\nQ 14.796875 18.265625 18.828125 12.890625 \r\nQ 22.859375 7.515625 30.078125 7.515625 \r\nQ 37.359375 7.515625 41.375 12.890625 \r\nQ 45.40625 18.265625 45.40625 27.984375 \r\nz\r\nM 54.390625 6.78125 \r\nQ 54.390625 -7.171875 48.1875 -13.984375 \r\nQ 42 -20.796875 29.203125 -20.796875 \r\nQ 24.46875 -20.796875 20.265625 -20.09375 \r\nQ 16.0625 -19.390625 12.109375 -17.921875 \r\nL 12.109375 -9.1875 \r\nQ 16.0625 -11.328125 19.921875 -12.34375 \r\nQ 23.78125 -13.375 27.78125 -13.375 \r\nQ 36.625 -13.375 41.015625 -8.765625 \r\nQ 45.40625 -4.15625 45.40625 5.171875 \r\nL 45.40625 9.625 \r\nQ 42.625 4.78125 38.28125 2.390625 \r\nQ 33.9375 0 27.875 0 \r\nQ 17.828125 0 11.671875 7.65625 \r\nQ 5.515625 15.328125 5.515625 27.984375 \r\nQ 5.515625 40.671875 11.671875 48.328125 \r\nQ 17.828125 56 27.875 56 \r\nQ 33.9375 56 38.28125 53.609375 \r\nQ 42.625 51.21875 45.40625 46.390625 \r\nL 45.40625 54.6875 \r\nL 54.390625 54.6875 \r\nz\r\n\" id=\"DejaVuSans-103\"/>\r\n      <path d=\"M 18.3125 70.21875 \r\nL 18.3125 54.6875 \r\nL 36.8125 54.6875 \r\nL 36.8125 47.703125 \r\nL 18.3125 47.703125 \r\nL 18.3125 18.015625 \r\nQ 18.3125 11.328125 20.140625 9.421875 \r\nQ 21.96875 7.515625 27.59375 7.515625 \r\nL 36.8125 7.515625 \r\nL 36.8125 0 \r\nL 27.59375 0 \r\nQ 17.1875 0 13.234375 3.875 \r\nQ 9.28125 7.765625 9.28125 18.015625 \r\nL 9.28125 47.703125 \r\nL 2.6875 47.703125 \r\nL 2.6875 54.6875 \r\nL 9.28125 54.6875 \r\nL 9.28125 70.21875 \r\nz\r\n\" id=\"DejaVuSans-116\"/>\r\n      <path d=\"M 54.890625 33.015625 \r\nL 54.890625 0 \r\nL 45.90625 0 \r\nL 45.90625 32.71875 \r\nQ 45.90625 40.484375 42.875 44.328125 \r\nQ 39.84375 48.1875 33.796875 48.1875 \r\nQ 26.515625 48.1875 22.3125 43.546875 \r\nQ 18.109375 38.921875 18.109375 30.90625 \r\nL 18.109375 0 \r\nL 9.078125 0 \r\nL 9.078125 75.984375 \r\nL 18.109375 75.984375 \r\nL 18.109375 46.1875 \r\nQ 21.34375 51.125 25.703125 53.5625 \r\nQ 30.078125 56 35.796875 56 \r\nQ 45.21875 56 50.046875 50.171875 \r\nQ 54.890625 44.34375 54.890625 33.015625 \r\nz\r\n\" id=\"DejaVuSans-104\"/>\r\n      <path id=\"DejaVuSans-32\"/>\r\n      <path d=\"M 30.609375 48.390625 \r\nQ 23.390625 48.390625 19.1875 42.75 \r\nQ 14.984375 37.109375 14.984375 27.296875 \r\nQ 14.984375 17.484375 19.15625 11.84375 \r\nQ 23.34375 6.203125 30.609375 6.203125 \r\nQ 37.796875 6.203125 41.984375 11.859375 \r\nQ 46.1875 17.53125 46.1875 27.296875 \r\nQ 46.1875 37.015625 41.984375 42.703125 \r\nQ 37.796875 48.390625 30.609375 48.390625 \r\nz\r\nM 30.609375 56 \r\nQ 42.328125 56 49.015625 48.375 \r\nQ 55.71875 40.765625 55.71875 27.296875 \r\nQ 55.71875 13.875 49.015625 6.21875 \r\nQ 42.328125 -1.421875 30.609375 -1.421875 \r\nQ 18.84375 -1.421875 12.171875 6.21875 \r\nQ 5.515625 13.875 5.515625 27.296875 \r\nQ 5.515625 40.765625 12.171875 48.375 \r\nQ 18.84375 56 30.609375 56 \r\nz\r\n\" id=\"DejaVuSans-111\"/>\r\n      <path d=\"M 37.109375 75.984375 \r\nL 37.109375 68.5 \r\nL 28.515625 68.5 \r\nQ 23.6875 68.5 21.796875 66.546875 \r\nQ 19.921875 64.59375 19.921875 59.515625 \r\nL 19.921875 54.6875 \r\nL 34.71875 54.6875 \r\nL 34.71875 47.703125 \r\nL 19.921875 47.703125 \r\nL 19.921875 0 \r\nL 10.890625 0 \r\nL 10.890625 47.703125 \r\nL 2.296875 47.703125 \r\nL 2.296875 54.6875 \r\nL 10.890625 54.6875 \r\nL 10.890625 58.5 \r\nQ 10.890625 67.625 15.140625 71.796875 \r\nQ 19.390625 75.984375 28.609375 75.984375 \r\nz\r\n\" id=\"DejaVuSans-102\"/>\r\n      <path d=\"M 44.28125 53.078125 \r\nL 44.28125 44.578125 \r\nQ 40.484375 46.53125 36.375 47.5 \r\nQ 32.28125 48.484375 27.875 48.484375 \r\nQ 21.1875 48.484375 17.84375 46.4375 \r\nQ 14.5 44.390625 14.5 40.28125 \r\nQ 14.5 37.15625 16.890625 35.375 \r\nQ 19.28125 33.59375 26.515625 31.984375 \r\nL 29.59375 31.296875 \r\nQ 39.15625 29.25 43.1875 25.515625 \r\nQ 47.21875 21.78125 47.21875 15.09375 \r\nQ 47.21875 7.46875 41.1875 3.015625 \r\nQ 35.15625 -1.421875 24.609375 -1.421875 \r\nQ 20.21875 -1.421875 15.453125 -0.5625 \r\nQ 10.6875 0.296875 5.421875 2 \r\nL 5.421875 11.28125 \r\nQ 10.40625 8.6875 15.234375 7.390625 \r\nQ 20.0625 6.109375 24.8125 6.109375 \r\nQ 31.15625 6.109375 34.5625 8.28125 \r\nQ 37.984375 10.453125 37.984375 14.40625 \r\nQ 37.984375 18.0625 35.515625 20.015625 \r\nQ 33.0625 21.96875 24.703125 23.78125 \r\nL 21.578125 24.515625 \r\nQ 13.234375 26.265625 9.515625 29.90625 \r\nQ 5.8125 33.546875 5.8125 39.890625 \r\nQ 5.8125 47.609375 11.28125 51.796875 \r\nQ 16.75 56 26.8125 56 \r\nQ 31.78125 56 36.171875 55.265625 \r\nQ 40.578125 54.546875 44.28125 53.078125 \r\nz\r\n\" id=\"DejaVuSans-115\"/>\r\n      <path d=\"M 34.28125 27.484375 \r\nQ 23.390625 27.484375 19.1875 25 \r\nQ 14.984375 22.515625 14.984375 16.5 \r\nQ 14.984375 11.71875 18.140625 8.90625 \r\nQ 21.296875 6.109375 26.703125 6.109375 \r\nQ 34.1875 6.109375 38.703125 11.40625 \r\nQ 43.21875 16.703125 43.21875 25.484375 \r\nL 43.21875 27.484375 \r\nz\r\nM 52.203125 31.203125 \r\nL 52.203125 0 \r\nL 43.21875 0 \r\nL 43.21875 8.296875 \r\nQ 40.140625 3.328125 35.546875 0.953125 \r\nQ 30.953125 -1.421875 24.3125 -1.421875 \r\nQ 15.921875 -1.421875 10.953125 3.296875 \r\nQ 6 8.015625 6 15.921875 \r\nQ 6 25.140625 12.171875 29.828125 \r\nQ 18.359375 34.515625 30.609375 34.515625 \r\nL 43.21875 34.515625 \r\nL 43.21875 35.40625 \r\nQ 43.21875 41.609375 39.140625 45 \r\nQ 35.0625 48.390625 27.6875 48.390625 \r\nQ 23 48.390625 18.546875 47.265625 \r\nQ 14.109375 46.140625 10.015625 43.890625 \r\nL 10.015625 52.203125 \r\nQ 14.9375 54.109375 19.578125 55.046875 \r\nQ 24.21875 56 28.609375 56 \r\nQ 40.484375 56 46.34375 49.84375 \r\nQ 52.203125 43.703125 52.203125 31.203125 \r\nz\r\n\" id=\"DejaVuSans-97\"/>\r\n      <path d=\"M 52 44.1875 \r\nQ 55.375 50.25 60.0625 53.125 \r\nQ 64.75 56 71.09375 56 \r\nQ 79.640625 56 84.28125 50.015625 \r\nQ 88.921875 44.046875 88.921875 33.015625 \r\nL 88.921875 0 \r\nL 79.890625 0 \r\nL 79.890625 32.71875 \r\nQ 79.890625 40.578125 77.09375 44.375 \r\nQ 74.3125 48.1875 68.609375 48.1875 \r\nQ 61.625 48.1875 57.5625 43.546875 \r\nQ 53.515625 38.921875 53.515625 30.90625 \r\nL 53.515625 0 \r\nL 44.484375 0 \r\nL 44.484375 32.71875 \r\nQ 44.484375 40.625 41.703125 44.40625 \r\nQ 38.921875 48.1875 33.109375 48.1875 \r\nQ 26.21875 48.1875 22.15625 43.53125 \r\nQ 18.109375 38.875 18.109375 30.90625 \r\nL 18.109375 0 \r\nL 9.078125 0 \r\nL 9.078125 54.6875 \r\nL 18.109375 54.6875 \r\nL 18.109375 46.1875 \r\nQ 21.1875 51.21875 25.484375 53.609375 \r\nQ 29.78125 56 35.6875 56 \r\nQ 41.65625 56 45.828125 52.96875 \r\nQ 50 49.953125 52 44.1875 \r\nz\r\n\" id=\"DejaVuSans-109\"/>\r\n      <path d=\"M 18.109375 8.203125 \r\nL 18.109375 -20.796875 \r\nL 9.078125 -20.796875 \r\nL 9.078125 54.6875 \r\nL 18.109375 54.6875 \r\nL 18.109375 46.390625 \r\nQ 20.953125 51.265625 25.265625 53.625 \r\nQ 29.59375 56 35.59375 56 \r\nQ 45.5625 56 51.78125 48.09375 \r\nQ 58.015625 40.1875 58.015625 27.296875 \r\nQ 58.015625 14.40625 51.78125 6.484375 \r\nQ 45.5625 -1.421875 35.59375 -1.421875 \r\nQ 29.59375 -1.421875 25.265625 0.953125 \r\nQ 20.953125 3.328125 18.109375 8.203125 \r\nz\r\nM 48.6875 27.296875 \r\nQ 48.6875 37.203125 44.609375 42.84375 \r\nQ 40.53125 48.484375 33.40625 48.484375 \r\nQ 26.265625 48.484375 22.1875 42.84375 \r\nQ 18.109375 37.203125 18.109375 27.296875 \r\nQ 18.109375 17.390625 22.1875 11.75 \r\nQ 26.265625 6.109375 33.40625 6.109375 \r\nQ 40.53125 6.109375 44.609375 11.75 \r\nQ 48.6875 17.390625 48.6875 27.296875 \r\nz\r\n\" id=\"DejaVuSans-112\"/>\r\n     </defs>\r\n     <g transform=\"translate(169.646875 252.916562)scale(0.1 -0.1)\">\r\n      <use xlink:href=\"#DejaVuSans-108\"/>\r\n      <use x=\"27.783203\" xlink:href=\"#DejaVuSans-101\"/>\r\n      <use x=\"89.306641\" xlink:href=\"#DejaVuSans-110\"/>\r\n      <use x=\"152.685547\" xlink:href=\"#DejaVuSans-103\"/>\r\n      <use x=\"216.162109\" xlink:href=\"#DejaVuSans-116\"/>\r\n      <use x=\"255.371094\" xlink:href=\"#DejaVuSans-104\"/>\r\n      <use x=\"318.75\" xlink:href=\"#DejaVuSans-32\"/>\r\n      <use x=\"350.537109\" xlink:href=\"#DejaVuSans-111\"/>\r\n      <use x=\"411.71875\" xlink:href=\"#DejaVuSans-102\"/>\r\n      <use x=\"446.923828\" xlink:href=\"#DejaVuSans-32\"/>\r\n      <use x=\"478.710938\" xlink:href=\"#DejaVuSans-115\"/>\r\n      <use x=\"530.810547\" xlink:href=\"#DejaVuSans-97\"/>\r\n      <use x=\"592.089844\" xlink:href=\"#DejaVuSans-109\"/>\r\n      <use x=\"689.501953\" xlink:href=\"#DejaVuSans-112\"/>\r\n      <use x=\"752.978516\" xlink:href=\"#DejaVuSans-108\"/>\r\n      <use x=\"780.761719\" xlink:href=\"#DejaVuSans-101\"/>\r\n      <use x=\"842.285156\" xlink:href=\"#DejaVuSans-115\"/>\r\n     </g>\r\n    </g>\r\n   </g>\r\n   <g id=\"matplotlib.axis_2\">\r\n    <g id=\"ytick_1\">\r\n     <g id=\"line2d_7\">\r\n      <defs>\r\n       <path d=\"M 0 0 \r\nL -3.5 0 \r\n\" id=\"me74c67d633\" style=\"stroke:#000000;stroke-width:0.8;\"/>\r\n      </defs>\r\n      <g>\r\n       <use style=\"stroke:#000000;stroke-width:0.8;\" x=\"46.965625\" xlink:href=\"#me74c67d633\" y=\"224.64\"/>\r\n      </g>\r\n     </g>\r\n     <g id=\"text_8\">\r\n      <!-- 0 -->\r\n      <g transform=\"translate(33.603125 228.439219)scale(0.1 -0.1)\">\r\n       <use xlink:href=\"#DejaVuSans-48\"/>\r\n      </g>\r\n     </g>\r\n    </g>\r\n    <g id=\"ytick_2\">\r\n     <g id=\"line2d_8\">\r\n      <g>\r\n       <use style=\"stroke:#000000;stroke-width:0.8;\" x=\"46.965625\" xlink:href=\"#me74c67d633\" y=\"186.219645\"/>\r\n      </g>\r\n     </g>\r\n     <g id=\"text_9\">\r\n      <!-- 100 -->\r\n      <g transform=\"translate(20.878125 190.018864)scale(0.1 -0.1)\">\r\n       <use xlink:href=\"#DejaVuSans-49\"/>\r\n       <use x=\"63.623047\" xlink:href=\"#DejaVuSans-48\"/>\r\n       <use x=\"127.246094\" xlink:href=\"#DejaVuSans-48\"/>\r\n      </g>\r\n     </g>\r\n    </g>\r\n    <g id=\"ytick_3\">\r\n     <g id=\"line2d_9\">\r\n      <g>\r\n       <use style=\"stroke:#000000;stroke-width:0.8;\" x=\"46.965625\" xlink:href=\"#me74c67d633\" y=\"147.79929\"/>\r\n      </g>\r\n     </g>\r\n     <g id=\"text_10\">\r\n      <!-- 200 -->\r\n      <g transform=\"translate(20.878125 151.598508)scale(0.1 -0.1)\">\r\n       <use xlink:href=\"#DejaVuSans-50\"/>\r\n       <use x=\"63.623047\" xlink:href=\"#DejaVuSans-48\"/>\r\n       <use x=\"127.246094\" xlink:href=\"#DejaVuSans-48\"/>\r\n      </g>\r\n     </g>\r\n    </g>\r\n    <g id=\"ytick_4\">\r\n     <g id=\"line2d_10\">\r\n      <g>\r\n       <use style=\"stroke:#000000;stroke-width:0.8;\" x=\"46.965625\" xlink:href=\"#me74c67d633\" y=\"109.378935\"/>\r\n      </g>\r\n     </g>\r\n     <g id=\"text_11\">\r\n      <!-- 300 -->\r\n      <defs>\r\n       <path d=\"M 40.578125 39.3125 \r\nQ 47.65625 37.796875 51.625 33 \r\nQ 55.609375 28.21875 55.609375 21.1875 \r\nQ 55.609375 10.40625 48.1875 4.484375 \r\nQ 40.765625 -1.421875 27.09375 -1.421875 \r\nQ 22.515625 -1.421875 17.65625 -0.515625 \r\nQ 12.796875 0.390625 7.625 2.203125 \r\nL 7.625 11.71875 \r\nQ 11.71875 9.328125 16.59375 8.109375 \r\nQ 21.484375 6.890625 26.8125 6.890625 \r\nQ 36.078125 6.890625 40.9375 10.546875 \r\nQ 45.796875 14.203125 45.796875 21.1875 \r\nQ 45.796875 27.640625 41.28125 31.265625 \r\nQ 36.765625 34.90625 28.71875 34.90625 \r\nL 20.21875 34.90625 \r\nL 20.21875 43.015625 \r\nL 29.109375 43.015625 \r\nQ 36.375 43.015625 40.234375 45.921875 \r\nQ 44.09375 48.828125 44.09375 54.296875 \r\nQ 44.09375 59.90625 40.109375 62.90625 \r\nQ 36.140625 65.921875 28.71875 65.921875 \r\nQ 24.65625 65.921875 20.015625 65.03125 \r\nQ 15.375 64.15625 9.8125 62.3125 \r\nL 9.8125 71.09375 \r\nQ 15.4375 72.65625 20.34375 73.4375 \r\nQ 25.25 74.21875 29.59375 74.21875 \r\nQ 40.828125 74.21875 47.359375 69.109375 \r\nQ 53.90625 64.015625 53.90625 55.328125 \r\nQ 53.90625 49.265625 50.4375 45.09375 \r\nQ 46.96875 40.921875 40.578125 39.3125 \r\nz\r\n\" id=\"DejaVuSans-51\"/>\r\n      </defs>\r\n      <g transform=\"translate(20.878125 113.178153)scale(0.1 -0.1)\">\r\n       <use xlink:href=\"#DejaVuSans-51\"/>\r\n       <use x=\"63.623047\" xlink:href=\"#DejaVuSans-48\"/>\r\n       <use x=\"127.246094\" xlink:href=\"#DejaVuSans-48\"/>\r\n      </g>\r\n     </g>\r\n    </g>\r\n    <g id=\"ytick_5\">\r\n     <g id=\"line2d_11\">\r\n      <g>\r\n       <use style=\"stroke:#000000;stroke-width:0.8;\" x=\"46.965625\" xlink:href=\"#me74c67d633\" y=\"70.958579\"/>\r\n      </g>\r\n     </g>\r\n     <g id=\"text_12\">\r\n      <!-- 400 -->\r\n      <g transform=\"translate(20.878125 74.757798)scale(0.1 -0.1)\">\r\n       <use xlink:href=\"#DejaVuSans-52\"/>\r\n       <use x=\"63.623047\" xlink:href=\"#DejaVuSans-48\"/>\r\n       <use x=\"127.246094\" xlink:href=\"#DejaVuSans-48\"/>\r\n      </g>\r\n     </g>\r\n    </g>\r\n    <g id=\"ytick_6\">\r\n     <g id=\"line2d_12\">\r\n      <g>\r\n       <use style=\"stroke:#000000;stroke-width:0.8;\" x=\"46.965625\" xlink:href=\"#me74c67d633\" y=\"32.538224\"/>\r\n      </g>\r\n     </g>\r\n     <g id=\"text_13\">\r\n      <!-- 500 -->\r\n      <defs>\r\n       <path d=\"M 10.796875 72.90625 \r\nL 49.515625 72.90625 \r\nL 49.515625 64.59375 \r\nL 19.828125 64.59375 \r\nL 19.828125 46.734375 \r\nQ 21.96875 47.46875 24.109375 47.828125 \r\nQ 26.265625 48.1875 28.421875 48.1875 \r\nQ 40.625 48.1875 47.75 41.5 \r\nQ 54.890625 34.8125 54.890625 23.390625 \r\nQ 54.890625 11.625 47.5625 5.09375 \r\nQ 40.234375 -1.421875 26.90625 -1.421875 \r\nQ 22.3125 -1.421875 17.546875 -0.640625 \r\nQ 12.796875 0.140625 7.71875 1.703125 \r\nL 7.71875 11.625 \r\nQ 12.109375 9.234375 16.796875 8.0625 \r\nQ 21.484375 6.890625 26.703125 6.890625 \r\nQ 35.15625 6.890625 40.078125 11.328125 \r\nQ 45.015625 15.765625 45.015625 23.390625 \r\nQ 45.015625 31 40.078125 35.4375 \r\nQ 35.15625 39.890625 26.703125 39.890625 \r\nQ 22.75 39.890625 18.8125 39.015625 \r\nQ 14.890625 38.140625 10.796875 36.28125 \r\nz\r\n\" id=\"DejaVuSans-53\"/>\r\n      </defs>\r\n      <g transform=\"translate(20.878125 36.337443)scale(0.1 -0.1)\">\r\n       <use xlink:href=\"#DejaVuSans-53\"/>\r\n       <use x=\"63.623047\" xlink:href=\"#DejaVuSans-48\"/>\r\n       <use x=\"127.246094\" xlink:href=\"#DejaVuSans-48\"/>\r\n      </g>\r\n     </g>\r\n    </g>\r\n    <g id=\"text_14\">\r\n     <!-- number of samples -->\r\n     <defs>\r\n      <path d=\"M 8.5 21.578125 \r\nL 8.5 54.6875 \r\nL 17.484375 54.6875 \r\nL 17.484375 21.921875 \r\nQ 17.484375 14.15625 20.5 10.265625 \r\nQ 23.53125 6.390625 29.59375 6.390625 \r\nQ 36.859375 6.390625 41.078125 11.03125 \r\nQ 45.3125 15.671875 45.3125 23.6875 \r\nL 45.3125 54.6875 \r\nL 54.296875 54.6875 \r\nL 54.296875 0 \r\nL 45.3125 0 \r\nL 45.3125 8.40625 \r\nQ 42.046875 3.421875 37.71875 1 \r\nQ 33.40625 -1.421875 27.6875 -1.421875 \r\nQ 18.265625 -1.421875 13.375 4.4375 \r\nQ 8.5 10.296875 8.5 21.578125 \r\nz\r\nM 31.109375 56 \r\nz\r\n\" id=\"DejaVuSans-117\"/>\r\n      <path d=\"M 48.6875 27.296875 \r\nQ 48.6875 37.203125 44.609375 42.84375 \r\nQ 40.53125 48.484375 33.40625 48.484375 \r\nQ 26.265625 48.484375 22.1875 42.84375 \r\nQ 18.109375 37.203125 18.109375 27.296875 \r\nQ 18.109375 17.390625 22.1875 11.75 \r\nQ 26.265625 6.109375 33.40625 6.109375 \r\nQ 40.53125 6.109375 44.609375 11.75 \r\nQ 48.6875 17.390625 48.6875 27.296875 \r\nz\r\nM 18.109375 46.390625 \r\nQ 20.953125 51.265625 25.265625 53.625 \r\nQ 29.59375 56 35.59375 56 \r\nQ 45.5625 56 51.78125 48.09375 \r\nQ 58.015625 40.1875 58.015625 27.296875 \r\nQ 58.015625 14.40625 51.78125 6.484375 \r\nQ 45.5625 -1.421875 35.59375 -1.421875 \r\nQ 29.59375 -1.421875 25.265625 0.953125 \r\nQ 20.953125 3.328125 18.109375 8.203125 \r\nL 18.109375 0 \r\nL 9.078125 0 \r\nL 9.078125 75.984375 \r\nL 18.109375 75.984375 \r\nz\r\n\" id=\"DejaVuSans-98\"/>\r\n      <path d=\"M 41.109375 46.296875 \r\nQ 39.59375 47.171875 37.8125 47.578125 \r\nQ 36.03125 48 33.890625 48 \r\nQ 26.265625 48 22.1875 43.046875 \r\nQ 18.109375 38.09375 18.109375 28.8125 \r\nL 18.109375 0 \r\nL 9.078125 0 \r\nL 9.078125 54.6875 \r\nL 18.109375 54.6875 \r\nL 18.109375 46.1875 \r\nQ 20.953125 51.171875 25.484375 53.578125 \r\nQ 30.03125 56 36.53125 56 \r\nQ 37.453125 56 38.578125 55.875 \r\nQ 39.703125 55.765625 41.0625 55.515625 \r\nz\r\n\" id=\"DejaVuSans-114\"/>\r\n     </defs>\r\n     <g transform=\"translate(14.798438 164.215312)rotate(-90)scale(0.1 -0.1)\">\r\n      <use xlink:href=\"#DejaVuSans-110\"/>\r\n      <use x=\"63.378906\" xlink:href=\"#DejaVuSans-117\"/>\r\n      <use x=\"126.757812\" xlink:href=\"#DejaVuSans-109\"/>\r\n      <use x=\"224.169922\" xlink:href=\"#DejaVuSans-98\"/>\r\n      <use x=\"287.646484\" xlink:href=\"#DejaVuSans-101\"/>\r\n      <use x=\"349.169922\" xlink:href=\"#DejaVuSans-114\"/>\r\n      <use x=\"390.283203\" xlink:href=\"#DejaVuSans-32\"/>\r\n      <use x=\"422.070312\" xlink:href=\"#DejaVuSans-111\"/>\r\n      <use x=\"483.251953\" xlink:href=\"#DejaVuSans-102\"/>\r\n      <use x=\"518.457031\" xlink:href=\"#DejaVuSans-32\"/>\r\n      <use x=\"550.244141\" xlink:href=\"#DejaVuSans-115\"/>\r\n      <use x=\"602.34375\" xlink:href=\"#DejaVuSans-97\"/>\r\n      <use x=\"663.623047\" xlink:href=\"#DejaVuSans-109\"/>\r\n      <use x=\"761.035156\" xlink:href=\"#DejaVuSans-112\"/>\r\n      <use x=\"824.511719\" xlink:href=\"#DejaVuSans-108\"/>\r\n      <use x=\"852.294922\" xlink:href=\"#DejaVuSans-101\"/>\r\n      <use x=\"913.818359\" xlink:href=\"#DejaVuSans-115\"/>\r\n     </g>\r\n    </g>\r\n   </g>\r\n   <g id=\"patch_53\">\r\n    <path d=\"M 46.965625 224.64 \r\nL 46.965625 7.2 \r\n\" style=\"fill:none;stroke:#000000;stroke-linecap:square;stroke-linejoin:miter;stroke-width:0.8;\"/>\r\n   </g>\r\n   <g id=\"patch_54\">\r\n    <path d=\"M 381.765625 224.64 \r\nL 381.765625 7.2 \r\n\" style=\"fill:none;stroke:#000000;stroke-linecap:square;stroke-linejoin:miter;stroke-width:0.8;\"/>\r\n   </g>\r\n   <g id=\"patch_55\">\r\n    <path d=\"M 46.965625 224.64 \r\nL 381.765625 224.64 \r\n\" style=\"fill:none;stroke:#000000;stroke-linecap:square;stroke-linejoin:miter;stroke-width:0.8;\"/>\r\n   </g>\r\n   <g id=\"patch_56\">\r\n    <path d=\"M 46.965625 7.2 \r\nL 381.765625 7.2 \r\n\" style=\"fill:none;stroke:#000000;stroke-linecap:square;stroke-linejoin:miter;stroke-width:0.8;\"/>\r\n   </g>\r\n  </g>\r\n </g>\r\n <defs>\r\n  <clipPath id=\"pf87895946e\">\r\n   <rect height=\"217.44\" width=\"334.8\" x=\"46.965625\" y=\"7.2\"/>\r\n  </clipPath>\r\n </defs>\r\n</svg>\r\n",
      "image/png": "[encoded data removed]"
     },
     "metadata": {
      "needs_background": "light"
     }
    }
   ],
   "source": [
    "# 리뷰 길이 분포 확인\n",
    "print('가사의 최대 길이 :',max(len(l) for l in tokenized_data))\n",
    "print('가사의 평균 길이 :',sum(map(len, tokenized_data))/len(tokenized_data))\n",
    "plt.hist([len(s) for s in tokenized_data], bins=50)\n",
    "plt.xlabel('length of samples')\n",
    "plt.ylabel('number of samples')\n",
    "plt.show()"
   ]
  },
  {
   "cell_type": "code",
   "execution_count": 55,
   "metadata": {},
   "outputs": [],
   "source": [
    "model = Word2Vec(sentences = tokenized_data, size = 400, window = 5, min_count = 5, workers = 4, sg = 0)"
   ]
  },
  {
   "cell_type": "code",
   "execution_count": 56,
   "metadata": {},
   "outputs": [
    {
     "output_type": "execute_result",
     "data": {
      "text/plain": "(10702, 400)"
     },
     "metadata": {},
     "execution_count": 56
    }
   ],
   "source": [
    "model.wv.vectors.shape"
   ]
  },
  {
   "cell_type": "code",
   "execution_count": 57,
   "metadata": {
    "tags": []
   },
   "outputs": [
    {
     "output_type": "stream",
     "name": "stdout",
     "text": "[('말널', 0.8078489899635315), ('한다는', 0.7724002599716187), ('한단', 0.7533077597618103), ('이제야', 0.7501636743545532), ('서툴다', 0.7487279772758484), ('고맙다', 0.7461022138595581), ('이별', 0.7283545732498169), ('진심', 0.7245861291885376), ('겐', 0.7195861339569092), ('약속', 0.7165114879608154)]\n"
    }
   ],
   "source": [
    "print(model.wv.most_similar(\"사랑\"))"
   ]
  },
  {
   "cell_type": "code",
   "execution_count": 58,
   "metadata": {
    "tags": []
   },
   "outputs": [
    {
     "output_type": "stream",
     "name": "stdout",
     "text": "[('단둘', 0.9173424243927002), ('선율', 0.9148850440979004), ('여름날', 0.898250937461853), ('사뿐하다', 0.8922639489173889), ('기차', 0.8875110745429993), ('physical', 0.8829562664031982), ('맡다', 0.8823575973510742), ('빼곡', 0.8789863586425781), ('오후', 0.8727454543113708), ('바위', 0.8721742630004883)]\n"
    }
   ],
   "source": [
    "print(model.wv.most_similar(\"바닷가\"))"
   ]
  },
  {
   "cell_type": "code",
   "execution_count": 59,
   "metadata": {
    "tags": []
   },
   "outputs": [
    {
     "output_type": "stream",
     "name": "stdout",
     "text": "[('서툴다', 0.8737698793411255), ('이라', 0.8605784177780151), ('미련', 0.859275758266449), ('겪다', 0.8492428064346313), ('대도', 0.84861820936203), ('끝내', 0.8465080261230469), ('인연', 0.8445048928260803), ('에겐', 0.8406195640563965), ('욕심', 0.838563859462738), ('헤어지다', 0.837075412273407)]\n"
    }
   ],
   "source": [
    "print(model.wv.most_similar(\"이별\"))"
   ]
  },
  {
   "cell_type": "code",
   "execution_count": 60,
   "metadata": {
    "tags": []
   },
   "outputs": [
    {
     "output_type": "stream",
     "name": "stdout",
     "text": "[('학창시절', 0.9576175212860107), ('빈털터리', 0.9528723955154419), ('발자취', 0.9494743347167969), ('몰려오다', 0.9488455057144165), ('밭길', 0.9446449279785156), ('에너지', 0.9443076848983765), ('건물', 0.9435179233551025), ('득', 0.9434409141540527), ('흐름', 0.9430457353591919), ('가위', 0.9408769607543945)]\n"
    }
   ],
   "source": [
    "print(model.wv.most_similar(\"청춘\"))"
   ]
  },
  {
   "cell_type": "code",
   "execution_count": 61,
   "metadata": {
    "tags": []
   },
   "outputs": [
    {
     "output_type": "stream",
     "name": "stdout",
     "text": "[('카피', 0.9035605788230896), ('아가씨', 0.8501542806625366), ('사무실', 0.8369426131248474), ('김', 0.8363564014434814), ('옷', 0.8356927633285522), ('다리', 0.8345458507537842), ('한잔', 0.8345171809196472), ('담배', 0.8218232989311218), ('소', 0.8208776712417603), ('공', 0.8197939395904541)]\n"
    }
   ],
   "source": [
    "print(model.wv.most_similar(\"커피\"))"
   ]
  },
  {
   "cell_type": "code",
   "execution_count": 62,
   "metadata": {
    "tags": []
   },
   "outputs": [
    {
     "output_type": "stream",
     "name": "stdout",
     "text": "[('술', 0.9013994932174683), ('누르다', 0.8704407215118408), ('안부', 0.8534367084503174), ('취해', 0.8458711504936218), ('카페', 0.8396168351173401), ('김', 0.8384286165237427), ('커피', 0.8345171809196472), ('담배', 0.8201711177825928), ('자고', 0.8163332343101501), ('취한', 0.8147881031036377)]\n"
    }
   ],
   "source": [
    "print(model.wv.most_similar(\"한잔\"))"
   ]
  },
  {
   "cell_type": "code",
   "execution_count": 63,
   "metadata": {
    "tags": []
   },
   "outputs": [
    {
     "output_type": "stream",
     "name": "stdout",
     "text": "[('thank', 0.7419329285621643), ('BabyMy', 0.733894944190979), ('Artificial', 0.7337667346000671), ('need', 0.7199440002441406), ('forever', 0.7102974057197571), ('miss', 0.7098732590675354), ('Crazy', 0.7093575596809387), ('Always', 0.7023297548294067), ('Could', 0.7006927728652954), ('Falling', 0.6904627084732056)]\n"
    }
   ],
   "source": [
    "print(model.wv.most_similar(\"love\"))"
   ]
  },
  {
   "cell_type": "code",
   "execution_count": 64,
   "metadata": {},
   "outputs": [],
   "source": [
    "import pickle"
   ]
  },
  {
   "cell_type": "code",
   "execution_count": 65,
   "metadata": {},
   "outputs": [],
   "source": [
    "with open('lyrics_word2vec_remove_eng.p', 'wb') as f:\n",
    "    pickle.dump(model, f)"
   ]
  },
  {
   "cell_type": "code",
   "execution_count": 66,
   "metadata": {},
   "outputs": [],
   "source": [
    "# with open('lyrics_word2vec.p', 'rb') as f:\n",
    "#     model = pickle.load(f)"
   ]
  },
  {
   "cell_type": "code",
   "execution_count": null,
   "metadata": {},
   "outputs": [],
   "source": []
  }
 ]
}