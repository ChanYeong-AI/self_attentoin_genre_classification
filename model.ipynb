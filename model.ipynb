{
 "metadata": {
  "language_info": {
   "codemirror_mode": {
    "name": "ipython",
    "version": 3
   },
   "file_extension": ".py",
   "mimetype": "text/x-python",
   "name": "python",
   "nbconvert_exporter": "python",
   "pygments_lexer": "ipython3",
   "version": "3.7.7-final"
  },
  "orig_nbformat": 2,
  "kernelspec": {
   "name": "python_defaultSpec_1599718704081",
   "display_name": "Python 3.7.7 64-bit ('tensorflow2_env': conda)"
  }
 },
 "nbformat": 4,
 "nbformat_minor": 2,
 "cells": [
  {
   "cell_type": "code",
   "execution_count": 2,
   "metadata": {
    "tags": []
   },
   "outputs": [
    {
     "output_type": "stream",
     "name": "stderr",
     "text": "Using TensorFlow backend.\n"
    }
   ],
   "source": [
    "import numpy as np # linear algebra\n",
    "import pandas as pd # data processing, CSV file I/O (e.g. pd.read_csv)\n",
    "import keras\n",
    "from keras.preprocessing.text import one_hot, Tokenizer\n",
    "from keras.preprocessing.sequence import pad_sequences\n",
    "from keras.layers import *\n",
    "from keras.layers.embeddings import Embedding\n",
    "from keras.models import Sequential\n",
    "from keras_self_attention import SeqSelfAttention\n",
    "from konlpy.tag import Okt\n",
    "import json\n",
    "from sklearn.model_selection import train_test_split"
   ]
  },
  {
   "cell_type": "code",
   "execution_count": 3,
   "metadata": {},
   "outputs": [],
   "source": [
    "df = pd.read_json('1.json', encoding='utf-8')"
   ]
  },
  {
   "cell_type": "code",
   "execution_count": 4,
   "metadata": {},
   "outputs": [
    {
     "output_type": "execute_result",
     "data": {
      "text/plain": "                                               music\n0  {'id': 1, 'title': '다시 여기 바닷가', 'release': '예아...\n1  {'id': 2, 'title': '눈누난나 (NUNU NANA)', 'releas...\n2  {'id': 3, 'title': '마리아 (Maria)', 'release': '...\n3  {'id': 4, 'title': '그 여름을 틀어줘', 'release': '이 ...\n4  {'id': 5, 'title': 'How You Like That', 'relea...",
      "text/html": "<div>\n<style scoped>\n    .dataframe tbody tr th:only-of-type {\n        vertical-align: middle;\n    }\n\n    .dataframe tbody tr th {\n        vertical-align: top;\n    }\n\n    .dataframe thead th {\n        text-align: right;\n    }\n</style>\n<table border=\"1\" class=\"dataframe\">\n  <thead>\n    <tr style=\"text-align: right;\">\n      <th></th>\n      <th>music</th>\n    </tr>\n  </thead>\n  <tbody>\n    <tr>\n      <th>0</th>\n      <td>{'id': 1, 'title': '다시 여기 바닷가', 'release': '예아...</td>\n    </tr>\n    <tr>\n      <th>1</th>\n      <td>{'id': 2, 'title': '눈누난나 (NUNU NANA)', 'releas...</td>\n    </tr>\n    <tr>\n      <th>2</th>\n      <td>{'id': 3, 'title': '마리아 (Maria)', 'release': '...</td>\n    </tr>\n    <tr>\n      <th>3</th>\n      <td>{'id': 4, 'title': '그 여름을 틀어줘', 'release': '이 ...</td>\n    </tr>\n    <tr>\n      <th>4</th>\n      <td>{'id': 5, 'title': 'How You Like That', 'relea...</td>\n    </tr>\n  </tbody>\n</table>\n</div>"
     },
     "metadata": {},
     "execution_count": 4
    }
   ],
   "source": [
    "df.head()"
   ]
  },
  {
   "cell_type": "code",
   "execution_count": 5,
   "metadata": {},
   "outputs": [],
   "source": [
    "df = df.iloc[:, 0]"
   ]
  },
  {
   "cell_type": "code",
   "execution_count": 6,
   "metadata": {},
   "outputs": [],
   "source": [
    "title=[]\n",
    "genre = []\n",
    "lyrics=[]\n",
    "for i in df:\n",
    "    title.append(i['title'])\n",
    "    cnt = i['type']\n",
    "    cnt = cnt.split(',')\n",
    "    genre.append(cnt[0])\n",
    "    lyrics.append(i['release'])"
   ]
  },
  {
   "cell_type": "code",
   "execution_count": 7,
   "metadata": {},
   "outputs": [],
   "source": [
    "df2 = pd.DataFrame({'title':title, 'genre':genre, 'lyrics':lyrics})"
   ]
  },
  {
   "cell_type": "code",
   "execution_count": 8,
   "metadata": {},
   "outputs": [],
   "source": [
    "genre_list = df2['genre'].unique()"
   ]
  },
  {
   "cell_type": "code",
   "execution_count": 9,
   "metadata": {
    "tags": []
   },
   "outputs": [
    {
     "output_type": "stream",
     "name": "stdout",
     "text": "<class 'pandas.core.frame.DataFrame'>\nRangeIndex: 4537 entries, 0 to 4536\nData columns (total 3 columns):\n #   Column  Non-Null Count  Dtype \n---  ------  --------------  ----- \n 0   title   4537 non-null   object\n 1   genre   4537 non-null   object\n 2   lyrics  4537 non-null   object\ndtypes: object(3)\nmemory usage: 106.5+ KB\n"
    }
   ],
   "source": [
    "df2.info()"
   ]
  },
  {
   "cell_type": "code",
   "execution_count": 10,
   "metadata": {},
   "outputs": [],
   "source": [
    "import re\n",
    "p = re.compile('[a-z]')\n",
    "lyric_temp = []\n",
    "temp_1 = []\n",
    "temp_2 = []\n",
    "for i in range(df2.shape[0]):\n",
    "    # 영어 가사가 있는 노래는 완전 제외\n",
    "    # if not p.search(data['lyrics'].iloc[i]) and len(data['lyrics'].iloc[i]) > 20:\n",
    "        # lyric_temp.append(df2['lyrics'].iloc[i])\n",
    "        \n",
    "    # 영어 가사가 있는 부분을 삭제\n",
    "    if len(df2['lyrics'].iloc[i]) > 20:\n",
    "        lyric_temp.append(df2['lyrics'].iloc[i].replace('[a-z]+', ''))\n",
    "\n",
    "        temp_1.append(df2['title'].iloc[i])\n",
    "        temp_2.append(df2['genre'].iloc[i])"
   ]
  },
  {
   "cell_type": "code",
   "execution_count": 11,
   "metadata": {},
   "outputs": [],
   "source": [
    "df2 = pd.DataFrame({'title' : temp_1, 'genre' : temp_2, 'lyrics' : lyric_temp})"
   ]
  },
  {
   "cell_type": "code",
   "execution_count": 12,
   "metadata": {},
   "outputs": [
    {
     "output_type": "execute_result",
     "data": {
      "text/plain": "array([ 0,  1,  2,  3,  4,  5,  6,  7,  8,  9, 10, 11, 12, 13, 14, 15, 16,\n       17, 18], dtype=int64)"
     },
     "metadata": {},
     "execution_count": 12
    }
   ],
   "source": [
    "df2['genre'].nunique()\n",
    "df2['genre'] = df2['genre'].replace(df2['genre'].unique(), range(len(df2['genre'].unique())))\n",
    "df2['genre'].unique()"
   ]
  },
  {
   "cell_type": "code",
   "execution_count": 13,
   "metadata": {},
   "outputs": [
    {
     "output_type": "execute_result",
     "data": {
      "text/plain": "                     title  genre  \\\n0                다시 여기 바닷가      0   \n1         눈누난나 (NUNU NANA)      1   \n2              마리아 (Maria)      0   \n3                그 여름을 틀어줘      0   \n4        How You Like That      1   \n...                    ...    ...   \n4421                  당신만이      3   \n4422      겁나 (Feat. 매드클라운)      3   \n4423                시간과 낙엽      3   \n4424                    내일      2   \n4425  New York (Feat. 백지영)      1   \n\n                                                 lyrics  \n0     예아 호우 예예예싹쓰리 인더 하우스커커커커커몬 싹 쓰리 투 렛츠고나 다시 또 설레어...  \n1     I’m trying to give usomething moreSo come with...  \n2     욕을 하도 먹어 체했어 하도서러워도 어쩌겠어 I do모두들 미워하느라 애썼네날 무너...  \n3     이 여름 다시 한번 설레고 싶다그때 그 여름을 틀어줘그 여름을 들려줘그때 그 여름을...  \n4     보란 듯이 무너졌어바닥을 뚫고 저 지하까지옷 끝자락 잡겠다고저 높이 두 손을 뻗어봐...  \n...                                                 ...  \n4421  눈부신 햇살이 비춰주어도 제게 무슨 소용있겠어요 이토록 아름다운 당신만이 나에게 빛...  \n4422  너무 살가웠던 네가언제나 다정했던 네가꼭 오늘 따라다른 사람 같아어떻게 해야 해자꾸...  \n4423  맨발로 기억을 거닐다 떨어지는 낙엽에 그간 잊지 못한 사람들을 보낸다 맨발로 기억을...  \n4424  모두가 돌아간 자리행복한 걸음으로 갈까정말 바라던 꿈들을 이룬 걸까밀렸던 숙제를 하...  \n4425  느낌이 와 너와 통한다는 feel이더 얘기해 도란도란 둘이우린 똑 닮은 데칼코마니넌...  \n\n[4426 rows x 3 columns]",
      "text/html": "<div>\n<style scoped>\n    .dataframe tbody tr th:only-of-type {\n        vertical-align: middle;\n    }\n\n    .dataframe tbody tr th {\n        vertical-align: top;\n    }\n\n    .dataframe thead th {\n        text-align: right;\n    }\n</style>\n<table border=\"1\" class=\"dataframe\">\n  <thead>\n    <tr style=\"text-align: right;\">\n      <th></th>\n      <th>title</th>\n      <th>genre</th>\n      <th>lyrics</th>\n    </tr>\n  </thead>\n  <tbody>\n    <tr>\n      <th>0</th>\n      <td>다시 여기 바닷가</td>\n      <td>0</td>\n      <td>예아 호우 예예예싹쓰리 인더 하우스커커커커커몬 싹 쓰리 투 렛츠고나 다시 또 설레어...</td>\n    </tr>\n    <tr>\n      <th>1</th>\n      <td>눈누난나 (NUNU NANA)</td>\n      <td>1</td>\n      <td>I’m trying to give usomething moreSo come with...</td>\n    </tr>\n    <tr>\n      <th>2</th>\n      <td>마리아 (Maria)</td>\n      <td>0</td>\n      <td>욕을 하도 먹어 체했어 하도서러워도 어쩌겠어 I do모두들 미워하느라 애썼네날 무너...</td>\n    </tr>\n    <tr>\n      <th>3</th>\n      <td>그 여름을 틀어줘</td>\n      <td>0</td>\n      <td>이 여름 다시 한번 설레고 싶다그때 그 여름을 틀어줘그 여름을 들려줘그때 그 여름을...</td>\n    </tr>\n    <tr>\n      <th>4</th>\n      <td>How You Like That</td>\n      <td>1</td>\n      <td>보란 듯이 무너졌어바닥을 뚫고 저 지하까지옷 끝자락 잡겠다고저 높이 두 손을 뻗어봐...</td>\n    </tr>\n    <tr>\n      <th>...</th>\n      <td>...</td>\n      <td>...</td>\n      <td>...</td>\n    </tr>\n    <tr>\n      <th>4421</th>\n      <td>당신만이</td>\n      <td>3</td>\n      <td>눈부신 햇살이 비춰주어도 제게 무슨 소용있겠어요 이토록 아름다운 당신만이 나에게 빛...</td>\n    </tr>\n    <tr>\n      <th>4422</th>\n      <td>겁나 (Feat. 매드클라운)</td>\n      <td>3</td>\n      <td>너무 살가웠던 네가언제나 다정했던 네가꼭 오늘 따라다른 사람 같아어떻게 해야 해자꾸...</td>\n    </tr>\n    <tr>\n      <th>4423</th>\n      <td>시간과 낙엽</td>\n      <td>3</td>\n      <td>맨발로 기억을 거닐다 떨어지는 낙엽에 그간 잊지 못한 사람들을 보낸다 맨발로 기억을...</td>\n    </tr>\n    <tr>\n      <th>4424</th>\n      <td>내일</td>\n      <td>2</td>\n      <td>모두가 돌아간 자리행복한 걸음으로 갈까정말 바라던 꿈들을 이룬 걸까밀렸던 숙제를 하...</td>\n    </tr>\n    <tr>\n      <th>4425</th>\n      <td>New York (Feat. 백지영)</td>\n      <td>1</td>\n      <td>느낌이 와 너와 통한다는 feel이더 얘기해 도란도란 둘이우린 똑 닮은 데칼코마니넌...</td>\n    </tr>\n  </tbody>\n</table>\n<p>4426 rows × 3 columns</p>\n</div>"
     },
     "metadata": {},
     "execution_count": 13
    }
   ],
   "source": [
    "df2"
   ]
  },
  {
   "cell_type": "code",
   "execution_count": 14,
   "metadata": {
    "tags": []
   },
   "outputs": [
    {
     "output_type": "stream",
     "name": "stdout",
     "text": "# split done\n"
    }
   ],
   "source": [
    "_train, _test, y_train, y_test = train_test_split(df2['lyrics'], df2['genre'], test_size=0.25, shuffle=False)\n",
    "\n",
    "print('# split done')\n",
    "\n",
    "# stopwords 지정\n",
    "with open('korean_stopwords.txt', 'r', encoding='utf-8') as f:\n",
    "    stopwords = f.read()\n",
    "stopwords = stopwords.split('\\n')"
   ]
  },
  {
   "cell_type": "code",
   "execution_count": 29,
   "metadata": {},
   "outputs": [],
   "source": [
    "X_train, X_test = [], []"
   ]
  },
  {
   "cell_type": "code",
   "execution_count": 30,
   "metadata": {
    "tags": []
   },
   "outputs": [
    {
     "output_type": "stream",
     "name": "stdout",
     "text": "# tokenization done\n"
    }
   ],
   "source": [
    "# # 토큰화 진행\n",
    "# for stc in _train:\n",
    "#     token = []\n",
    "#     words = Okt().morphs(stc, stem=True)\n",
    "#     for word in words:\n",
    "#         if word not in stopwords:\n",
    "#             token.append(word)\n",
    "#     X_train.append(token)\n",
    "\n",
    "# for stc in _test:\n",
    "#     token = []\n",
    "#     words = Okt().morphs(stc, stem=True)\n",
    "#     for word in words:\n",
    "#         if word not in stopwords:\n",
    "#             token.append(word)\n",
    "#     X_test.append(token)\n",
    "\n",
    "# print('# tokenization done')\n",
    "\n",
    "# import pickle\n",
    "# with open('X_train_test_splited.p', 'wb') as f:\n",
    "#     pickle.dump(X_train, f)\n",
    "#     pickle.dump(X_test, f)"
   ]
  },
  {
   "cell_type": "code",
   "execution_count": 18,
   "metadata": {},
   "outputs": [],
   "source": [
    "import pickle\n",
    "with open('X_train_test_splited.p', 'rb') as f:\n",
    "    X_train = pickle.load(f)\n",
    "    X_test = pickle.load(f)"
   ]
  },
  {
   "cell_type": "code",
   "execution_count": 19,
   "metadata": {},
   "outputs": [
    {
     "output_type": "display_data",
     "data": {
      "text/plain": "<Figure size 432x288 with 1 Axes>",
      "image/svg+xml": "<?xml version=\"1.0\" encoding=\"utf-8\" standalone=\"no\"?>\r\n<!DOCTYPE svg PUBLIC \"-//W3C//DTD SVG 1.1//EN\"\r\n  \"http://www.w3.org/Graphics/SVG/1.1/DTD/svg11.dtd\">\r\n<!-- Created with matplotlib (https://matplotlib.org/) -->\r\n<svg height=\"251.437568pt\" version=\"1.1\" viewBox=\"0 0 375.2875 251.437568\" width=\"375.2875pt\" xmlns=\"http://www.w3.org/2000/svg\" xmlns:xlink=\"http://www.w3.org/1999/xlink\">\r\n <defs>\r\n  <style type=\"text/css\">\r\n*{stroke-linecap:butt;stroke-linejoin:round;}\r\n  </style>\r\n </defs>\r\n <g id=\"figure_1\">\r\n  <g id=\"patch_1\">\r\n   <path d=\"M 0 251.437568 \r\nL 375.2875 251.437568 \r\nL 375.2875 0 \r\nL 0 0 \r\nz\r\n\" style=\"fill:none;\"/>\r\n  </g>\r\n  <g id=\"axes_1\">\r\n   <g id=\"patch_2\">\r\n    <path d=\"M 33.2875 227.559443 \r\nL 368.0875 227.559443 \r\nL 368.0875 10.119443 \r\nL 33.2875 10.119443 \r\nz\r\n\" style=\"fill:#ffffff;\"/>\r\n   </g>\r\n   <g id=\"patch_3\">\r\n    <path clip-path=\"url(#pf80f7f8c6c)\" d=\"M 48.505682 227.559443 \r\nL 50.0275 227.559443 \r\nL 50.0275 226.205941 \r\nL 48.505682 226.205941 \r\nz\r\n\" style=\"fill:#1f77b4;\"/>\r\n   </g>\r\n   <g id=\"patch_4\">\r\n    <path clip-path=\"url(#pf80f7f8c6c)\" d=\"M 50.0275 227.559443 \r\nL 51.549318 227.559443 \r\nL 51.549318 226.205941 \r\nL 50.0275 226.205941 \r\nz\r\n\" style=\"fill:#1f77b4;\"/>\r\n   </g>\r\n   <g id=\"patch_5\">\r\n    <path clip-path=\"url(#pf80f7f8c6c)\" d=\"M 51.549318 227.559443 \r\nL 53.071136 227.559443 \r\nL 53.071136 227.559443 \r\nL 51.549318 227.559443 \r\nz\r\n\" style=\"fill:#1f77b4;\"/>\r\n   </g>\r\n   <g id=\"patch_6\">\r\n    <path clip-path=\"url(#pf80f7f8c6c)\" d=\"M 53.071136 227.559443 \r\nL 54.592955 227.559443 \r\nL 54.592955 226.205941 \r\nL 53.071136 226.205941 \r\nz\r\n\" style=\"fill:#1f77b4;\"/>\r\n   </g>\r\n   <g id=\"patch_7\">\r\n    <path clip-path=\"url(#pf80f7f8c6c)\" d=\"M 54.592955 227.559443 \r\nL 56.114773 227.559443 \r\nL 56.114773 219.438434 \r\nL 54.592955 219.438434 \r\nz\r\n\" style=\"fill:#1f77b4;\"/>\r\n   </g>\r\n   <g id=\"patch_8\">\r\n    <path clip-path=\"url(#pf80f7f8c6c)\" d=\"M 56.114773 227.559443 \r\nL 57.636591 227.559443 \r\nL 57.636591 224.85244 \r\nL 56.114773 224.85244 \r\nz\r\n\" style=\"fill:#1f77b4;\"/>\r\n   </g>\r\n   <g id=\"patch_9\">\r\n    <path clip-path=\"url(#pf80f7f8c6c)\" d=\"M 57.636591 227.559443 \r\nL 59.158409 227.559443 \r\nL 59.158409 222.145437 \r\nL 57.636591 222.145437 \r\nz\r\n\" style=\"fill:#1f77b4;\"/>\r\n   </g>\r\n   <g id=\"patch_10\">\r\n    <path clip-path=\"url(#pf80f7f8c6c)\" d=\"M 59.158409 227.559443 \r\nL 60.680227 227.559443 \r\nL 60.680227 219.438434 \r\nL 59.158409 219.438434 \r\nz\r\n\" style=\"fill:#1f77b4;\"/>\r\n   </g>\r\n   <g id=\"patch_11\">\r\n    <path clip-path=\"url(#pf80f7f8c6c)\" d=\"M 60.680227 227.559443 \r\nL 62.202045 227.559443 \r\nL 62.202045 224.85244 \r\nL 60.680227 224.85244 \r\nz\r\n\" style=\"fill:#1f77b4;\"/>\r\n   </g>\r\n   <g id=\"patch_12\">\r\n    <path clip-path=\"url(#pf80f7f8c6c)\" d=\"M 62.202045 227.559443 \r\nL 63.723864 227.559443 \r\nL 63.723864 214.024429 \r\nL 62.202045 214.024429 \r\nz\r\n\" style=\"fill:#1f77b4;\"/>\r\n   </g>\r\n   <g id=\"patch_13\">\r\n    <path clip-path=\"url(#pf80f7f8c6c)\" d=\"M 63.723864 227.559443 \r\nL 65.245682 227.559443 \r\nL 65.245682 211.317426 \r\nL 63.723864 211.317426 \r\nz\r\n\" style=\"fill:#1f77b4;\"/>\r\n   </g>\r\n   <g id=\"patch_14\">\r\n    <path clip-path=\"url(#pf80f7f8c6c)\" d=\"M 65.245682 227.559443 \r\nL 66.7675 227.559443 \r\nL 66.7675 189.661404 \r\nL 65.245682 189.661404 \r\nz\r\n\" style=\"fill:#1f77b4;\"/>\r\n   </g>\r\n   <g id=\"patch_15\">\r\n    <path clip-path=\"url(#pf80f7f8c6c)\" d=\"M 66.7675 227.559443 \r\nL 68.289318 227.559443 \r\nL 68.289318 182.893897 \r\nL 66.7675 182.893897 \r\nz\r\n\" style=\"fill:#1f77b4;\"/>\r\n   </g>\r\n   <g id=\"patch_16\">\r\n    <path clip-path=\"url(#pf80f7f8c6c)\" d=\"M 68.289318 227.559443 \r\nL 69.811136 227.559443 \r\nL 69.811136 182.893897 \r\nL 68.289318 182.893897 \r\nz\r\n\" style=\"fill:#1f77b4;\"/>\r\n   </g>\r\n   <g id=\"patch_17\">\r\n    <path clip-path=\"url(#pf80f7f8c6c)\" d=\"M 69.811136 227.559443 \r\nL 71.332955 227.559443 \r\nL 71.332955 134.167846 \r\nL 69.811136 134.167846 \r\nz\r\n\" style=\"fill:#1f77b4;\"/>\r\n   </g>\r\n   <g id=\"patch_18\">\r\n    <path clip-path=\"url(#pf80f7f8c6c)\" d=\"M 71.332955 227.559443 \r\nL 72.854773 227.559443 \r\nL 72.854773 94.916306 \r\nL 71.332955 94.916306 \r\nz\r\n\" style=\"fill:#1f77b4;\"/>\r\n   </g>\r\n   <g id=\"patch_19\">\r\n    <path clip-path=\"url(#pf80f7f8c6c)\" d=\"M 72.854773 227.559443 \r\nL 74.376591 227.559443 \r\nL 74.376591 126.046838 \r\nL 72.854773 126.046838 \r\nz\r\n\" style=\"fill:#1f77b4;\"/>\r\n   </g>\r\n   <g id=\"patch_20\">\r\n    <path clip-path=\"url(#pf80f7f8c6c)\" d=\"M 74.376591 227.559443 \r\nL 75.898409 227.559443 \r\nL 75.898409 55.664765 \r\nL 74.376591 55.664765 \r\nz\r\n\" style=\"fill:#1f77b4;\"/>\r\n   </g>\r\n   <g id=\"patch_21\">\r\n    <path clip-path=\"url(#pf80f7f8c6c)\" d=\"M 75.898409 227.559443 \r\nL 77.420227 227.559443 \r\nL 77.420227 65.139275 \r\nL 75.898409 65.139275 \r\nz\r\n\" style=\"fill:#1f77b4;\"/>\r\n   </g>\r\n   <g id=\"patch_22\">\r\n    <path clip-path=\"url(#pf80f7f8c6c)\" d=\"M 77.420227 227.559443 \r\nL 78.942045 227.559443 \r\nL 78.942045 34.008743 \r\nL 77.420227 34.008743 \r\nz\r\n\" style=\"fill:#1f77b4;\"/>\r\n   </g>\r\n   <g id=\"patch_23\">\r\n    <path clip-path=\"url(#pf80f7f8c6c)\" d=\"M 78.942045 227.559443 \r\nL 80.463864 227.559443 \r\nL 80.463864 20.473729 \r\nL 78.942045 20.473729 \r\nz\r\n\" style=\"fill:#1f77b4;\"/>\r\n   </g>\r\n   <g id=\"patch_24\">\r\n    <path clip-path=\"url(#pf80f7f8c6c)\" d=\"M 80.463864 227.559443 \r\nL 81.985682 227.559443 \r\nL 81.985682 65.139275 \r\nL 80.463864 65.139275 \r\nz\r\n\" style=\"fill:#1f77b4;\"/>\r\n   </g>\r\n   <g id=\"patch_25\">\r\n    <path clip-path=\"url(#pf80f7f8c6c)\" d=\"M 81.985682 227.559443 \r\nL 83.5075 227.559443 \r\nL 83.5075 29.948238 \r\nL 81.985682 29.948238 \r\nz\r\n\" style=\"fill:#1f77b4;\"/>\r\n   </g>\r\n   <g id=\"patch_26\">\r\n    <path clip-path=\"url(#pf80f7f8c6c)\" d=\"M 83.5075 227.559443 \r\nL 85.029318 227.559443 \r\nL 85.029318 23.180731 \r\nL 83.5075 23.180731 \r\nz\r\n\" style=\"fill:#1f77b4;\"/>\r\n   </g>\r\n   <g id=\"patch_27\">\r\n    <path clip-path=\"url(#pf80f7f8c6c)\" d=\"M 85.029318 227.559443 \r\nL 86.551136 227.559443 \r\nL 86.551136 82.734793 \r\nL 85.029318 82.734793 \r\nz\r\n\" style=\"fill:#1f77b4;\"/>\r\n   </g>\r\n   <g id=\"patch_28\">\r\n    <path clip-path=\"url(#pf80f7f8c6c)\" d=\"M 86.551136 227.559443 \r\nL 88.072955 227.559443 \r\nL 88.072955 66.492776 \r\nL 86.551136 66.492776 \r\nz\r\n\" style=\"fill:#1f77b4;\"/>\r\n   </g>\r\n   <g id=\"patch_29\">\r\n    <path clip-path=\"url(#pf80f7f8c6c)\" d=\"M 88.072955 227.559443 \r\nL 89.594773 227.559443 \r\nL 89.594773 67.846278 \r\nL 88.072955 67.846278 \r\nz\r\n\" style=\"fill:#1f77b4;\"/>\r\n   </g>\r\n   <g id=\"patch_30\">\r\n    <path clip-path=\"url(#pf80f7f8c6c)\" d=\"M 89.594773 227.559443 \r\nL 91.116591 227.559443 \r\nL 91.116591 116.572328 \r\nL 89.594773 116.572328 \r\nz\r\n\" style=\"fill:#1f77b4;\"/>\r\n   </g>\r\n   <g id=\"patch_31\">\r\n    <path clip-path=\"url(#pf80f7f8c6c)\" d=\"M 91.116591 227.559443 \r\nL 92.638409 227.559443 \r\nL 92.638409 107.097818 \r\nL 91.116591 107.097818 \r\nz\r\n\" style=\"fill:#1f77b4;\"/>\r\n   </g>\r\n   <g id=\"patch_32\">\r\n    <path clip-path=\"url(#pf80f7f8c6c)\" d=\"M 92.638409 227.559443 \r\nL 94.160227 227.559443 \r\nL 94.160227 117.925829 \r\nL 92.638409 117.925829 \r\nz\r\n\" style=\"fill:#1f77b4;\"/>\r\n   </g>\r\n   <g id=\"patch_33\">\r\n    <path clip-path=\"url(#pf80f7f8c6c)\" d=\"M 94.160227 227.559443 \r\nL 95.682045 227.559443 \r\nL 95.682045 131.460843 \r\nL 94.160227 131.460843 \r\nz\r\n\" style=\"fill:#1f77b4;\"/>\r\n   </g>\r\n   <g id=\"patch_34\">\r\n    <path clip-path=\"url(#pf80f7f8c6c)\" d=\"M 95.682045 227.559443 \r\nL 97.203864 227.559443 \r\nL 97.203864 121.986334 \r\nL 95.682045 121.986334 \r\nz\r\n\" style=\"fill:#1f77b4;\"/>\r\n   </g>\r\n   <g id=\"patch_35\">\r\n    <path clip-path=\"url(#pf80f7f8c6c)\" d=\"M 97.203864 227.559443 \r\nL 98.725682 227.559443 \r\nL 98.725682 135.521348 \r\nL 97.203864 135.521348 \r\nz\r\n\" style=\"fill:#1f77b4;\"/>\r\n   </g>\r\n   <g id=\"patch_36\">\r\n    <path clip-path=\"url(#pf80f7f8c6c)\" d=\"M 98.725682 227.559443 \r\nL 100.2475 227.559443 \r\nL 100.2475 98.97681 \r\nL 98.725682 98.97681 \r\nz\r\n\" style=\"fill:#1f77b4;\"/>\r\n   </g>\r\n   <g id=\"patch_37\">\r\n    <path clip-path=\"url(#pf80f7f8c6c)\" d=\"M 100.2475 227.559443 \r\nL 101.769318 227.559443 \r\nL 101.769318 111.158322 \r\nL 100.2475 111.158322 \r\nz\r\n\" style=\"fill:#1f77b4;\"/>\r\n   </g>\r\n   <g id=\"patch_38\">\r\n    <path clip-path=\"url(#pf80f7f8c6c)\" d=\"M 101.769318 227.559443 \r\nL 103.291136 227.559443 \r\nL 103.291136 134.167846 \r\nL 101.769318 134.167846 \r\nz\r\n\" style=\"fill:#1f77b4;\"/>\r\n   </g>\r\n   <g id=\"patch_39\">\r\n    <path clip-path=\"url(#pf80f7f8c6c)\" d=\"M 103.291136 227.559443 \r\nL 104.812955 227.559443 \r\nL 104.812955 121.986334 \r\nL 103.291136 121.986334 \r\nz\r\n\" style=\"fill:#1f77b4;\"/>\r\n   </g>\r\n   <g id=\"patch_40\">\r\n    <path clip-path=\"url(#pf80f7f8c6c)\" d=\"M 104.812955 227.559443 \r\nL 106.334773 227.559443 \r\nL 106.334773 113.865325 \r\nL 104.812955 113.865325 \r\nz\r\n\" style=\"fill:#1f77b4;\"/>\r\n   </g>\r\n   <g id=\"patch_41\">\r\n    <path clip-path=\"url(#pf80f7f8c6c)\" d=\"M 106.334773 227.559443 \r\nL 107.856591 227.559443 \r\nL 107.856591 124.693336 \r\nL 106.334773 124.693336 \r\nz\r\n\" style=\"fill:#1f77b4;\"/>\r\n   </g>\r\n   <g id=\"patch_42\">\r\n    <path clip-path=\"url(#pf80f7f8c6c)\" d=\"M 107.856591 227.559443 \r\nL 109.378409 227.559443 \r\nL 109.378409 97.623308 \r\nL 107.856591 97.623308 \r\nz\r\n\" style=\"fill:#1f77b4;\"/>\r\n   </g>\r\n   <g id=\"patch_43\">\r\n    <path clip-path=\"url(#pf80f7f8c6c)\" d=\"M 109.378409 227.559443 \r\nL 110.900227 227.559443 \r\nL 110.900227 116.572328 \r\nL 109.378409 116.572328 \r\nz\r\n\" style=\"fill:#1f77b4;\"/>\r\n   </g>\r\n   <g id=\"patch_44\">\r\n    <path clip-path=\"url(#pf80f7f8c6c)\" d=\"M 110.900227 227.559443 \r\nL 112.422045 227.559443 \r\nL 112.422045 113.865325 \r\nL 110.900227 113.865325 \r\nz\r\n\" style=\"fill:#1f77b4;\"/>\r\n   </g>\r\n   <g id=\"patch_45\">\r\n    <path clip-path=\"url(#pf80f7f8c6c)\" d=\"M 112.422045 227.559443 \r\nL 113.943864 227.559443 \r\nL 113.943864 107.097818 \r\nL 112.422045 107.097818 \r\nz\r\n\" style=\"fill:#1f77b4;\"/>\r\n   </g>\r\n   <g id=\"patch_46\">\r\n    <path clip-path=\"url(#pf80f7f8c6c)\" d=\"M 113.943864 227.559443 \r\nL 115.465682 227.559443 \r\nL 115.465682 131.460843 \r\nL 113.943864 131.460843 \r\nz\r\n\" style=\"fill:#1f77b4;\"/>\r\n   </g>\r\n   <g id=\"patch_47\">\r\n    <path clip-path=\"url(#pf80f7f8c6c)\" d=\"M 115.465682 227.559443 \r\nL 116.9875 227.559443 \r\nL 116.9875 116.572328 \r\nL 115.465682 116.572328 \r\nz\r\n\" style=\"fill:#1f77b4;\"/>\r\n   </g>\r\n   <g id=\"patch_48\">\r\n    <path clip-path=\"url(#pf80f7f8c6c)\" d=\"M 116.9875 227.559443 \r\nL 118.509318 227.559443 \r\nL 118.509318 117.925829 \r\nL 116.9875 117.925829 \r\nz\r\n\" style=\"fill:#1f77b4;\"/>\r\n   </g>\r\n   <g id=\"patch_49\">\r\n    <path clip-path=\"url(#pf80f7f8c6c)\" d=\"M 118.509318 227.559443 \r\nL 120.031136 227.559443 \r\nL 120.031136 149.056362 \r\nL 118.509318 149.056362 \r\nz\r\n\" style=\"fill:#1f77b4;\"/>\r\n   </g>\r\n   <g id=\"patch_50\">\r\n    <path clip-path=\"url(#pf80f7f8c6c)\" d=\"M 120.031136 227.559443 \r\nL 121.552955 227.559443 \r\nL 121.552955 163.944877 \r\nL 120.031136 163.944877 \r\nz\r\n\" style=\"fill:#1f77b4;\"/>\r\n   </g>\r\n   <g id=\"patch_51\">\r\n    <path clip-path=\"url(#pf80f7f8c6c)\" d=\"M 121.552955 227.559443 \r\nL 123.074773 227.559443 \r\nL 123.074773 136.874849 \r\nL 121.552955 136.874849 \r\nz\r\n\" style=\"fill:#1f77b4;\"/>\r\n   </g>\r\n   <g id=\"patch_52\">\r\n    <path clip-path=\"url(#pf80f7f8c6c)\" d=\"M 123.074773 227.559443 \r\nL 124.596591 227.559443 \r\nL 124.596591 161.237874 \r\nL 123.074773 161.237874 \r\nz\r\n\" style=\"fill:#1f77b4;\"/>\r\n   </g>\r\n   <g id=\"patch_53\">\r\n    <path clip-path=\"url(#pf80f7f8c6c)\" d=\"M 124.596591 227.559443 \r\nL 126.118409 227.559443 \r\nL 126.118409 135.521348 \r\nL 124.596591 135.521348 \r\nz\r\n\" style=\"fill:#1f77b4;\"/>\r\n   </g>\r\n   <g id=\"patch_54\">\r\n    <path clip-path=\"url(#pf80f7f8c6c)\" d=\"M 126.118409 227.559443 \r\nL 127.640227 227.559443 \r\nL 127.640227 135.521348 \r\nL 126.118409 135.521348 \r\nz\r\n\" style=\"fill:#1f77b4;\"/>\r\n   </g>\r\n   <g id=\"patch_55\">\r\n    <path clip-path=\"url(#pf80f7f8c6c)\" d=\"M 127.640227 227.559443 \r\nL 129.162045 227.559443 \r\nL 129.162045 157.17737 \r\nL 127.640227 157.17737 \r\nz\r\n\" style=\"fill:#1f77b4;\"/>\r\n   </g>\r\n   <g id=\"patch_56\">\r\n    <path clip-path=\"url(#pf80f7f8c6c)\" d=\"M 129.162045 227.559443 \r\nL 130.683864 227.559443 \r\nL 130.683864 149.056362 \r\nL 129.162045 149.056362 \r\nz\r\n\" style=\"fill:#1f77b4;\"/>\r\n   </g>\r\n   <g id=\"patch_57\">\r\n    <path clip-path=\"url(#pf80f7f8c6c)\" d=\"M 130.683864 227.559443 \r\nL 132.205682 227.559443 \r\nL 132.205682 173.419387 \r\nL 130.683864 173.419387 \r\nz\r\n\" style=\"fill:#1f77b4;\"/>\r\n   </g>\r\n   <g id=\"patch_58\">\r\n    <path clip-path=\"url(#pf80f7f8c6c)\" d=\"M 132.205682 227.559443 \r\nL 133.7275 227.559443 \r\nL 133.7275 170.712384 \r\nL 132.205682 170.712384 \r\nz\r\n\" style=\"fill:#1f77b4;\"/>\r\n   </g>\r\n   <g id=\"patch_59\">\r\n    <path clip-path=\"url(#pf80f7f8c6c)\" d=\"M 133.7275 227.559443 \r\nL 135.249318 227.559443 \r\nL 135.249318 174.772888 \r\nL 133.7275 174.772888 \r\nz\r\n\" style=\"fill:#1f77b4;\"/>\r\n   </g>\r\n   <g id=\"patch_60\">\r\n    <path clip-path=\"url(#pf80f7f8c6c)\" d=\"M 135.249318 227.559443 \r\nL 136.771136 227.559443 \r\nL 136.771136 173.419387 \r\nL 135.249318 173.419387 \r\nz\r\n\" style=\"fill:#1f77b4;\"/>\r\n   </g>\r\n   <g id=\"patch_61\">\r\n    <path clip-path=\"url(#pf80f7f8c6c)\" d=\"M 136.771136 227.559443 \r\nL 138.292955 227.559443 \r\nL 138.292955 173.419387 \r\nL 136.771136 173.419387 \r\nz\r\n\" style=\"fill:#1f77b4;\"/>\r\n   </g>\r\n   <g id=\"patch_62\">\r\n    <path clip-path=\"url(#pf80f7f8c6c)\" d=\"M 138.292955 227.559443 \r\nL 139.814773 227.559443 \r\nL 139.814773 174.772888 \r\nL 138.292955 174.772888 \r\nz\r\n\" style=\"fill:#1f77b4;\"/>\r\n   </g>\r\n   <g id=\"patch_63\">\r\n    <path clip-path=\"url(#pf80f7f8c6c)\" d=\"M 139.814773 227.559443 \r\nL 141.336591 227.559443 \r\nL 141.336591 192.368406 \r\nL 139.814773 192.368406 \r\nz\r\n\" style=\"fill:#1f77b4;\"/>\r\n   </g>\r\n   <g id=\"patch_64\">\r\n    <path clip-path=\"url(#pf80f7f8c6c)\" d=\"M 141.336591 227.559443 \r\nL 142.858409 227.559443 \r\nL 142.858409 186.954401 \r\nL 141.336591 186.954401 \r\nz\r\n\" style=\"fill:#1f77b4;\"/>\r\n   </g>\r\n   <g id=\"patch_65\">\r\n    <path clip-path=\"url(#pf80f7f8c6c)\" d=\"M 142.858409 227.559443 \r\nL 144.380227 227.559443 \r\nL 144.380227 186.954401 \r\nL 142.858409 186.954401 \r\nz\r\n\" style=\"fill:#1f77b4;\"/>\r\n   </g>\r\n   <g id=\"patch_66\">\r\n    <path clip-path=\"url(#pf80f7f8c6c)\" d=\"M 144.380227 227.559443 \r\nL 145.902045 227.559443 \r\nL 145.902045 192.368406 \r\nL 144.380227 192.368406 \r\nz\r\n\" style=\"fill:#1f77b4;\"/>\r\n   </g>\r\n   <g id=\"patch_67\">\r\n    <path clip-path=\"url(#pf80f7f8c6c)\" d=\"M 145.902045 227.559443 \r\nL 147.423864 227.559443 \r\nL 147.423864 195.075409 \r\nL 145.902045 195.075409 \r\nz\r\n\" style=\"fill:#1f77b4;\"/>\r\n   </g>\r\n   <g id=\"patch_68\">\r\n    <path clip-path=\"url(#pf80f7f8c6c)\" d=\"M 147.423864 227.559443 \r\nL 148.945682 227.559443 \r\nL 148.945682 196.428911 \r\nL 147.423864 196.428911 \r\nz\r\n\" style=\"fill:#1f77b4;\"/>\r\n   </g>\r\n   <g id=\"patch_69\">\r\n    <path clip-path=\"url(#pf80f7f8c6c)\" d=\"M 148.945682 227.559443 \r\nL 150.4675 227.559443 \r\nL 150.4675 203.196418 \r\nL 148.945682 203.196418 \r\nz\r\n\" style=\"fill:#1f77b4;\"/>\r\n   </g>\r\n   <g id=\"patch_70\">\r\n    <path clip-path=\"url(#pf80f7f8c6c)\" d=\"M 150.4675 227.559443 \r\nL 151.989318 227.559443 \r\nL 151.989318 195.075409 \r\nL 150.4675 195.075409 \r\nz\r\n\" style=\"fill:#1f77b4;\"/>\r\n   </g>\r\n   <g id=\"patch_71\">\r\n    <path clip-path=\"url(#pf80f7f8c6c)\" d=\"M 151.989318 227.559443 \r\nL 153.511136 227.559443 \r\nL 153.511136 197.782412 \r\nL 151.989318 197.782412 \r\nz\r\n\" style=\"fill:#1f77b4;\"/>\r\n   </g>\r\n   <g id=\"patch_72\">\r\n    <path clip-path=\"url(#pf80f7f8c6c)\" d=\"M 153.511136 227.559443 \r\nL 155.032955 227.559443 \r\nL 155.032955 205.90342 \r\nL 153.511136 205.90342 \r\nz\r\n\" style=\"fill:#1f77b4;\"/>\r\n   </g>\r\n   <g id=\"patch_73\">\r\n    <path clip-path=\"url(#pf80f7f8c6c)\" d=\"M 155.032955 227.559443 \r\nL 156.554773 227.559443 \r\nL 156.554773 197.782412 \r\nL 155.032955 197.782412 \r\nz\r\n\" style=\"fill:#1f77b4;\"/>\r\n   </g>\r\n   <g id=\"patch_74\">\r\n    <path clip-path=\"url(#pf80f7f8c6c)\" d=\"M 156.554773 227.559443 \r\nL 158.076591 227.559443 \r\nL 158.076591 209.963925 \r\nL 156.554773 209.963925 \r\nz\r\n\" style=\"fill:#1f77b4;\"/>\r\n   </g>\r\n   <g id=\"patch_75\">\r\n    <path clip-path=\"url(#pf80f7f8c6c)\" d=\"M 158.076591 227.559443 \r\nL 159.598409 227.559443 \r\nL 159.598409 209.963925 \r\nL 158.076591 209.963925 \r\nz\r\n\" style=\"fill:#1f77b4;\"/>\r\n   </g>\r\n   <g id=\"patch_76\">\r\n    <path clip-path=\"url(#pf80f7f8c6c)\" d=\"M 159.598409 227.559443 \r\nL 161.120227 227.559443 \r\nL 161.120227 220.791936 \r\nL 159.598409 220.791936 \r\nz\r\n\" style=\"fill:#1f77b4;\"/>\r\n   </g>\r\n   <g id=\"patch_77\">\r\n    <path clip-path=\"url(#pf80f7f8c6c)\" d=\"M 161.120227 227.559443 \r\nL 162.642045 227.559443 \r\nL 162.642045 209.963925 \r\nL 161.120227 209.963925 \r\nz\r\n\" style=\"fill:#1f77b4;\"/>\r\n   </g>\r\n   <g id=\"patch_78\">\r\n    <path clip-path=\"url(#pf80f7f8c6c)\" d=\"M 162.642045 227.559443 \r\nL 164.163864 227.559443 \r\nL 164.163864 200.489415 \r\nL 162.642045 200.489415 \r\nz\r\n\" style=\"fill:#1f77b4;\"/>\r\n   </g>\r\n   <g id=\"patch_79\">\r\n    <path clip-path=\"url(#pf80f7f8c6c)\" d=\"M 164.163864 227.559443 \r\nL 165.685682 227.559443 \r\nL 165.685682 209.963925 \r\nL 164.163864 209.963925 \r\nz\r\n\" style=\"fill:#1f77b4;\"/>\r\n   </g>\r\n   <g id=\"patch_80\">\r\n    <path clip-path=\"url(#pf80f7f8c6c)\" d=\"M 165.685682 227.559443 \r\nL 167.2075 227.559443 \r\nL 167.2075 215.37793 \r\nL 165.685682 215.37793 \r\nz\r\n\" style=\"fill:#1f77b4;\"/>\r\n   </g>\r\n   <g id=\"patch_81\">\r\n    <path clip-path=\"url(#pf80f7f8c6c)\" d=\"M 167.2075 227.559443 \r\nL 168.729318 227.559443 \r\nL 168.729318 207.256922 \r\nL 167.2075 207.256922 \r\nz\r\n\" style=\"fill:#1f77b4;\"/>\r\n   </g>\r\n   <g id=\"patch_82\">\r\n    <path clip-path=\"url(#pf80f7f8c6c)\" d=\"M 168.729318 227.559443 \r\nL 170.251136 227.559443 \r\nL 170.251136 218.084933 \r\nL 168.729318 218.084933 \r\nz\r\n\" style=\"fill:#1f77b4;\"/>\r\n   </g>\r\n   <g id=\"patch_83\">\r\n    <path clip-path=\"url(#pf80f7f8c6c)\" d=\"M 170.251136 227.559443 \r\nL 171.772955 227.559443 \r\nL 171.772955 215.37793 \r\nL 170.251136 215.37793 \r\nz\r\n\" style=\"fill:#1f77b4;\"/>\r\n   </g>\r\n   <g id=\"patch_84\">\r\n    <path clip-path=\"url(#pf80f7f8c6c)\" d=\"M 171.772955 227.559443 \r\nL 173.294773 227.559443 \r\nL 173.294773 216.731432 \r\nL 171.772955 216.731432 \r\nz\r\n\" style=\"fill:#1f77b4;\"/>\r\n   </g>\r\n   <g id=\"patch_85\">\r\n    <path clip-path=\"url(#pf80f7f8c6c)\" d=\"M 173.294773 227.559443 \r\nL 174.816591 227.559443 \r\nL 174.816591 215.37793 \r\nL 173.294773 215.37793 \r\nz\r\n\" style=\"fill:#1f77b4;\"/>\r\n   </g>\r\n   <g id=\"patch_86\">\r\n    <path clip-path=\"url(#pf80f7f8c6c)\" d=\"M 174.816591 227.559443 \r\nL 176.338409 227.559443 \r\nL 176.338409 220.791936 \r\nL 174.816591 220.791936 \r\nz\r\n\" style=\"fill:#1f77b4;\"/>\r\n   </g>\r\n   <g id=\"patch_87\">\r\n    <path clip-path=\"url(#pf80f7f8c6c)\" d=\"M 176.338409 227.559443 \r\nL 177.860227 227.559443 \r\nL 177.860227 218.084933 \r\nL 176.338409 218.084933 \r\nz\r\n\" style=\"fill:#1f77b4;\"/>\r\n   </g>\r\n   <g id=\"patch_88\">\r\n    <path clip-path=\"url(#pf80f7f8c6c)\" d=\"M 177.860227 227.559443 \r\nL 179.382045 227.559443 \r\nL 179.382045 218.084933 \r\nL 177.860227 218.084933 \r\nz\r\n\" style=\"fill:#1f77b4;\"/>\r\n   </g>\r\n   <g id=\"patch_89\">\r\n    <path clip-path=\"url(#pf80f7f8c6c)\" d=\"M 179.382045 227.559443 \r\nL 180.903864 227.559443 \r\nL 180.903864 222.145437 \r\nL 179.382045 222.145437 \r\nz\r\n\" style=\"fill:#1f77b4;\"/>\r\n   </g>\r\n   <g id=\"patch_90\">\r\n    <path clip-path=\"url(#pf80f7f8c6c)\" d=\"M 180.903864 227.559443 \r\nL 182.425682 227.559443 \r\nL 182.425682 223.498939 \r\nL 180.903864 223.498939 \r\nz\r\n\" style=\"fill:#1f77b4;\"/>\r\n   </g>\r\n   <g id=\"patch_91\">\r\n    <path clip-path=\"url(#pf80f7f8c6c)\" d=\"M 182.425682 227.559443 \r\nL 183.9475 227.559443 \r\nL 183.9475 215.37793 \r\nL 182.425682 215.37793 \r\nz\r\n\" style=\"fill:#1f77b4;\"/>\r\n   </g>\r\n   <g id=\"patch_92\">\r\n    <path clip-path=\"url(#pf80f7f8c6c)\" d=\"M 183.9475 227.559443 \r\nL 185.469318 227.559443 \r\nL 185.469318 220.791936 \r\nL 183.9475 220.791936 \r\nz\r\n\" style=\"fill:#1f77b4;\"/>\r\n   </g>\r\n   <g id=\"patch_93\">\r\n    <path clip-path=\"url(#pf80f7f8c6c)\" d=\"M 185.469318 227.559443 \r\nL 186.991136 227.559443 \r\nL 186.991136 226.205941 \r\nL 185.469318 226.205941 \r\nz\r\n\" style=\"fill:#1f77b4;\"/>\r\n   </g>\r\n   <g id=\"patch_94\">\r\n    <path clip-path=\"url(#pf80f7f8c6c)\" d=\"M 186.991136 227.559443 \r\nL 188.512955 227.559443 \r\nL 188.512955 222.145437 \r\nL 186.991136 222.145437 \r\nz\r\n\" style=\"fill:#1f77b4;\"/>\r\n   </g>\r\n   <g id=\"patch_95\">\r\n    <path clip-path=\"url(#pf80f7f8c6c)\" d=\"M 188.512955 227.559443 \r\nL 190.034773 227.559443 \r\nL 190.034773 220.791936 \r\nL 188.512955 220.791936 \r\nz\r\n\" style=\"fill:#1f77b4;\"/>\r\n   </g>\r\n   <g id=\"patch_96\">\r\n    <path clip-path=\"url(#pf80f7f8c6c)\" d=\"M 190.034773 227.559443 \r\nL 191.556591 227.559443 \r\nL 191.556591 223.498939 \r\nL 190.034773 223.498939 \r\nz\r\n\" style=\"fill:#1f77b4;\"/>\r\n   </g>\r\n   <g id=\"patch_97\">\r\n    <path clip-path=\"url(#pf80f7f8c6c)\" d=\"M 191.556591 227.559443 \r\nL 193.078409 227.559443 \r\nL 193.078409 220.791936 \r\nL 191.556591 220.791936 \r\nz\r\n\" style=\"fill:#1f77b4;\"/>\r\n   </g>\r\n   <g id=\"patch_98\">\r\n    <path clip-path=\"url(#pf80f7f8c6c)\" d=\"M 193.078409 227.559443 \r\nL 194.600227 227.559443 \r\nL 194.600227 223.498939 \r\nL 193.078409 223.498939 \r\nz\r\n\" style=\"fill:#1f77b4;\"/>\r\n   </g>\r\n   <g id=\"patch_99\">\r\n    <path clip-path=\"url(#pf80f7f8c6c)\" d=\"M 194.600227 227.559443 \r\nL 196.122045 227.559443 \r\nL 196.122045 220.791936 \r\nL 194.600227 220.791936 \r\nz\r\n\" style=\"fill:#1f77b4;\"/>\r\n   </g>\r\n   <g id=\"patch_100\">\r\n    <path clip-path=\"url(#pf80f7f8c6c)\" d=\"M 196.122045 227.559443 \r\nL 197.643864 227.559443 \r\nL 197.643864 227.559443 \r\nL 196.122045 227.559443 \r\nz\r\n\" style=\"fill:#1f77b4;\"/>\r\n   </g>\r\n   <g id=\"patch_101\">\r\n    <path clip-path=\"url(#pf80f7f8c6c)\" d=\"M 197.643864 227.559443 \r\nL 199.165682 227.559443 \r\nL 199.165682 227.559443 \r\nL 197.643864 227.559443 \r\nz\r\n\" style=\"fill:#1f77b4;\"/>\r\n   </g>\r\n   <g id=\"patch_102\">\r\n    <path clip-path=\"url(#pf80f7f8c6c)\" d=\"M 199.165682 227.559443 \r\nL 200.6875 227.559443 \r\nL 200.6875 223.498939 \r\nL 199.165682 223.498939 \r\nz\r\n\" style=\"fill:#1f77b4;\"/>\r\n   </g>\r\n   <g id=\"patch_103\">\r\n    <path clip-path=\"url(#pf80f7f8c6c)\" d=\"M 200.6875 227.559443 \r\nL 202.209318 227.559443 \r\nL 202.209318 222.145437 \r\nL 200.6875 222.145437 \r\nz\r\n\" style=\"fill:#1f77b4;\"/>\r\n   </g>\r\n   <g id=\"patch_104\">\r\n    <path clip-path=\"url(#pf80f7f8c6c)\" d=\"M 202.209318 227.559443 \r\nL 203.731136 227.559443 \r\nL 203.731136 224.85244 \r\nL 202.209318 224.85244 \r\nz\r\n\" style=\"fill:#1f77b4;\"/>\r\n   </g>\r\n   <g id=\"patch_105\">\r\n    <path clip-path=\"url(#pf80f7f8c6c)\" d=\"M 203.731136 227.559443 \r\nL 205.252955 227.559443 \r\nL 205.252955 224.85244 \r\nL 203.731136 224.85244 \r\nz\r\n\" style=\"fill:#1f77b4;\"/>\r\n   </g>\r\n   <g id=\"patch_106\">\r\n    <path clip-path=\"url(#pf80f7f8c6c)\" d=\"M 205.252955 227.559443 \r\nL 206.774773 227.559443 \r\nL 206.774773 226.205941 \r\nL 205.252955 226.205941 \r\nz\r\n\" style=\"fill:#1f77b4;\"/>\r\n   </g>\r\n   <g id=\"patch_107\">\r\n    <path clip-path=\"url(#pf80f7f8c6c)\" d=\"M 206.774773 227.559443 \r\nL 208.296591 227.559443 \r\nL 208.296591 227.559443 \r\nL 206.774773 227.559443 \r\nz\r\n\" style=\"fill:#1f77b4;\"/>\r\n   </g>\r\n   <g id=\"patch_108\">\r\n    <path clip-path=\"url(#pf80f7f8c6c)\" d=\"M 208.296591 227.559443 \r\nL 209.818409 227.559443 \r\nL 209.818409 226.205941 \r\nL 208.296591 226.205941 \r\nz\r\n\" style=\"fill:#1f77b4;\"/>\r\n   </g>\r\n   <g id=\"patch_109\">\r\n    <path clip-path=\"url(#pf80f7f8c6c)\" d=\"M 209.818409 227.559443 \r\nL 211.340227 227.559443 \r\nL 211.340227 227.559443 \r\nL 209.818409 227.559443 \r\nz\r\n\" style=\"fill:#1f77b4;\"/>\r\n   </g>\r\n   <g id=\"patch_110\">\r\n    <path clip-path=\"url(#pf80f7f8c6c)\" d=\"M 211.340227 227.559443 \r\nL 212.862045 227.559443 \r\nL 212.862045 226.205941 \r\nL 211.340227 226.205941 \r\nz\r\n\" style=\"fill:#1f77b4;\"/>\r\n   </g>\r\n   <g id=\"patch_111\">\r\n    <path clip-path=\"url(#pf80f7f8c6c)\" d=\"M 212.862045 227.559443 \r\nL 214.383864 227.559443 \r\nL 214.383864 226.205941 \r\nL 212.862045 226.205941 \r\nz\r\n\" style=\"fill:#1f77b4;\"/>\r\n   </g>\r\n   <g id=\"patch_112\">\r\n    <path clip-path=\"url(#pf80f7f8c6c)\" d=\"M 214.383864 227.559443 \r\nL 215.905682 227.559443 \r\nL 215.905682 224.85244 \r\nL 214.383864 224.85244 \r\nz\r\n\" style=\"fill:#1f77b4;\"/>\r\n   </g>\r\n   <g id=\"patch_113\">\r\n    <path clip-path=\"url(#pf80f7f8c6c)\" d=\"M 215.905682 227.559443 \r\nL 217.4275 227.559443 \r\nL 217.4275 226.205941 \r\nL 215.905682 226.205941 \r\nz\r\n\" style=\"fill:#1f77b4;\"/>\r\n   </g>\r\n   <g id=\"patch_114\">\r\n    <path clip-path=\"url(#pf80f7f8c6c)\" d=\"M 217.4275 227.559443 \r\nL 218.949318 227.559443 \r\nL 218.949318 226.205941 \r\nL 217.4275 226.205941 \r\nz\r\n\" style=\"fill:#1f77b4;\"/>\r\n   </g>\r\n   <g id=\"patch_115\">\r\n    <path clip-path=\"url(#pf80f7f8c6c)\" d=\"M 218.949318 227.559443 \r\nL 220.471136 227.559443 \r\nL 220.471136 226.205941 \r\nL 218.949318 226.205941 \r\nz\r\n\" style=\"fill:#1f77b4;\"/>\r\n   </g>\r\n   <g id=\"patch_116\">\r\n    <path clip-path=\"url(#pf80f7f8c6c)\" d=\"M 220.471136 227.559443 \r\nL 221.992955 227.559443 \r\nL 221.992955 227.559443 \r\nL 220.471136 227.559443 \r\nz\r\n\" style=\"fill:#1f77b4;\"/>\r\n   </g>\r\n   <g id=\"patch_117\">\r\n    <path clip-path=\"url(#pf80f7f8c6c)\" d=\"M 221.992955 227.559443 \r\nL 223.514773 227.559443 \r\nL 223.514773 224.85244 \r\nL 221.992955 224.85244 \r\nz\r\n\" style=\"fill:#1f77b4;\"/>\r\n   </g>\r\n   <g id=\"patch_118\">\r\n    <path clip-path=\"url(#pf80f7f8c6c)\" d=\"M 223.514773 227.559443 \r\nL 225.036591 227.559443 \r\nL 225.036591 226.205941 \r\nL 223.514773 226.205941 \r\nz\r\n\" style=\"fill:#1f77b4;\"/>\r\n   </g>\r\n   <g id=\"patch_119\">\r\n    <path clip-path=\"url(#pf80f7f8c6c)\" d=\"M 225.036591 227.559443 \r\nL 226.558409 227.559443 \r\nL 226.558409 226.205941 \r\nL 225.036591 226.205941 \r\nz\r\n\" style=\"fill:#1f77b4;\"/>\r\n   </g>\r\n   <g id=\"patch_120\">\r\n    <path clip-path=\"url(#pf80f7f8c6c)\" d=\"M 226.558409 227.559443 \r\nL 228.080227 227.559443 \r\nL 228.080227 226.205941 \r\nL 226.558409 226.205941 \r\nz\r\n\" style=\"fill:#1f77b4;\"/>\r\n   </g>\r\n   <g id=\"patch_121\">\r\n    <path clip-path=\"url(#pf80f7f8c6c)\" d=\"M 228.080227 227.559443 \r\nL 229.602045 227.559443 \r\nL 229.602045 227.559443 \r\nL 228.080227 227.559443 \r\nz\r\n\" style=\"fill:#1f77b4;\"/>\r\n   </g>\r\n   <g id=\"patch_122\">\r\n    <path clip-path=\"url(#pf80f7f8c6c)\" d=\"M 229.602045 227.559443 \r\nL 231.123864 227.559443 \r\nL 231.123864 226.205941 \r\nL 229.602045 226.205941 \r\nz\r\n\" style=\"fill:#1f77b4;\"/>\r\n   </g>\r\n   <g id=\"patch_123\">\r\n    <path clip-path=\"url(#pf80f7f8c6c)\" d=\"M 231.123864 227.559443 \r\nL 232.645682 227.559443 \r\nL 232.645682 226.205941 \r\nL 231.123864 226.205941 \r\nz\r\n\" style=\"fill:#1f77b4;\"/>\r\n   </g>\r\n   <g id=\"patch_124\">\r\n    <path clip-path=\"url(#pf80f7f8c6c)\" d=\"M 232.645682 227.559443 \r\nL 234.1675 227.559443 \r\nL 234.1675 227.559443 \r\nL 232.645682 227.559443 \r\nz\r\n\" style=\"fill:#1f77b4;\"/>\r\n   </g>\r\n   <g id=\"patch_125\">\r\n    <path clip-path=\"url(#pf80f7f8c6c)\" d=\"M 234.1675 227.559443 \r\nL 235.689318 227.559443 \r\nL 235.689318 227.559443 \r\nL 234.1675 227.559443 \r\nz\r\n\" style=\"fill:#1f77b4;\"/>\r\n   </g>\r\n   <g id=\"patch_126\">\r\n    <path clip-path=\"url(#pf80f7f8c6c)\" d=\"M 235.689318 227.559443 \r\nL 237.211136 227.559443 \r\nL 237.211136 227.559443 \r\nL 235.689318 227.559443 \r\nz\r\n\" style=\"fill:#1f77b4;\"/>\r\n   </g>\r\n   <g id=\"patch_127\">\r\n    <path clip-path=\"url(#pf80f7f8c6c)\" d=\"M 237.211136 227.559443 \r\nL 238.732955 227.559443 \r\nL 238.732955 227.559443 \r\nL 237.211136 227.559443 \r\nz\r\n\" style=\"fill:#1f77b4;\"/>\r\n   </g>\r\n   <g id=\"patch_128\">\r\n    <path clip-path=\"url(#pf80f7f8c6c)\" d=\"M 238.732955 227.559443 \r\nL 240.254773 227.559443 \r\nL 240.254773 227.559443 \r\nL 238.732955 227.559443 \r\nz\r\n\" style=\"fill:#1f77b4;\"/>\r\n   </g>\r\n   <g id=\"patch_129\">\r\n    <path clip-path=\"url(#pf80f7f8c6c)\" d=\"M 240.254773 227.559443 \r\nL 241.776591 227.559443 \r\nL 241.776591 227.559443 \r\nL 240.254773 227.559443 \r\nz\r\n\" style=\"fill:#1f77b4;\"/>\r\n   </g>\r\n   <g id=\"patch_130\">\r\n    <path clip-path=\"url(#pf80f7f8c6c)\" d=\"M 241.776591 227.559443 \r\nL 243.298409 227.559443 \r\nL 243.298409 227.559443 \r\nL 241.776591 227.559443 \r\nz\r\n\" style=\"fill:#1f77b4;\"/>\r\n   </g>\r\n   <g id=\"patch_131\">\r\n    <path clip-path=\"url(#pf80f7f8c6c)\" d=\"M 243.298409 227.559443 \r\nL 244.820227 227.559443 \r\nL 244.820227 227.559443 \r\nL 243.298409 227.559443 \r\nz\r\n\" style=\"fill:#1f77b4;\"/>\r\n   </g>\r\n   <g id=\"patch_132\">\r\n    <path clip-path=\"url(#pf80f7f8c6c)\" d=\"M 244.820227 227.559443 \r\nL 246.342045 227.559443 \r\nL 246.342045 227.559443 \r\nL 244.820227 227.559443 \r\nz\r\n\" style=\"fill:#1f77b4;\"/>\r\n   </g>\r\n   <g id=\"patch_133\">\r\n    <path clip-path=\"url(#pf80f7f8c6c)\" d=\"M 246.342045 227.559443 \r\nL 247.863864 227.559443 \r\nL 247.863864 227.559443 \r\nL 246.342045 227.559443 \r\nz\r\n\" style=\"fill:#1f77b4;\"/>\r\n   </g>\r\n   <g id=\"patch_134\">\r\n    <path clip-path=\"url(#pf80f7f8c6c)\" d=\"M 247.863864 227.559443 \r\nL 249.385682 227.559443 \r\nL 249.385682 227.559443 \r\nL 247.863864 227.559443 \r\nz\r\n\" style=\"fill:#1f77b4;\"/>\r\n   </g>\r\n   <g id=\"patch_135\">\r\n    <path clip-path=\"url(#pf80f7f8c6c)\" d=\"M 249.385682 227.559443 \r\nL 250.9075 227.559443 \r\nL 250.9075 227.559443 \r\nL 249.385682 227.559443 \r\nz\r\n\" style=\"fill:#1f77b4;\"/>\r\n   </g>\r\n   <g id=\"patch_136\">\r\n    <path clip-path=\"url(#pf80f7f8c6c)\" d=\"M 250.9075 227.559443 \r\nL 252.429318 227.559443 \r\nL 252.429318 227.559443 \r\nL 250.9075 227.559443 \r\nz\r\n\" style=\"fill:#1f77b4;\"/>\r\n   </g>\r\n   <g id=\"patch_137\">\r\n    <path clip-path=\"url(#pf80f7f8c6c)\" d=\"M 252.429318 227.559443 \r\nL 253.951136 227.559443 \r\nL 253.951136 227.559443 \r\nL 252.429318 227.559443 \r\nz\r\n\" style=\"fill:#1f77b4;\"/>\r\n   </g>\r\n   <g id=\"patch_138\">\r\n    <path clip-path=\"url(#pf80f7f8c6c)\" d=\"M 253.951136 227.559443 \r\nL 255.472955 227.559443 \r\nL 255.472955 227.559443 \r\nL 253.951136 227.559443 \r\nz\r\n\" style=\"fill:#1f77b4;\"/>\r\n   </g>\r\n   <g id=\"patch_139\">\r\n    <path clip-path=\"url(#pf80f7f8c6c)\" d=\"M 255.472955 227.559443 \r\nL 256.994773 227.559443 \r\nL 256.994773 227.559443 \r\nL 255.472955 227.559443 \r\nz\r\n\" style=\"fill:#1f77b4;\"/>\r\n   </g>\r\n   <g id=\"patch_140\">\r\n    <path clip-path=\"url(#pf80f7f8c6c)\" d=\"M 256.994773 227.559443 \r\nL 258.516591 227.559443 \r\nL 258.516591 227.559443 \r\nL 256.994773 227.559443 \r\nz\r\n\" style=\"fill:#1f77b4;\"/>\r\n   </g>\r\n   <g id=\"patch_141\">\r\n    <path clip-path=\"url(#pf80f7f8c6c)\" d=\"M 258.516591 227.559443 \r\nL 260.038409 227.559443 \r\nL 260.038409 226.205941 \r\nL 258.516591 226.205941 \r\nz\r\n\" style=\"fill:#1f77b4;\"/>\r\n   </g>\r\n   <g id=\"patch_142\">\r\n    <path clip-path=\"url(#pf80f7f8c6c)\" d=\"M 260.038409 227.559443 \r\nL 261.560227 227.559443 \r\nL 261.560227 227.559443 \r\nL 260.038409 227.559443 \r\nz\r\n\" style=\"fill:#1f77b4;\"/>\r\n   </g>\r\n   <g id=\"patch_143\">\r\n    <path clip-path=\"url(#pf80f7f8c6c)\" d=\"M 261.560227 227.559443 \r\nL 263.082045 227.559443 \r\nL 263.082045 227.559443 \r\nL 261.560227 227.559443 \r\nz\r\n\" style=\"fill:#1f77b4;\"/>\r\n   </g>\r\n   <g id=\"patch_144\">\r\n    <path clip-path=\"url(#pf80f7f8c6c)\" d=\"M 263.082045 227.559443 \r\nL 264.603864 227.559443 \r\nL 264.603864 227.559443 \r\nL 263.082045 227.559443 \r\nz\r\n\" style=\"fill:#1f77b4;\"/>\r\n   </g>\r\n   <g id=\"patch_145\">\r\n    <path clip-path=\"url(#pf80f7f8c6c)\" d=\"M 264.603864 227.559443 \r\nL 266.125682 227.559443 \r\nL 266.125682 227.559443 \r\nL 264.603864 227.559443 \r\nz\r\n\" style=\"fill:#1f77b4;\"/>\r\n   </g>\r\n   <g id=\"patch_146\">\r\n    <path clip-path=\"url(#pf80f7f8c6c)\" d=\"M 266.125682 227.559443 \r\nL 267.6475 227.559443 \r\nL 267.6475 227.559443 \r\nL 266.125682 227.559443 \r\nz\r\n\" style=\"fill:#1f77b4;\"/>\r\n   </g>\r\n   <g id=\"patch_147\">\r\n    <path clip-path=\"url(#pf80f7f8c6c)\" d=\"M 267.6475 227.559443 \r\nL 269.169318 227.559443 \r\nL 269.169318 227.559443 \r\nL 267.6475 227.559443 \r\nz\r\n\" style=\"fill:#1f77b4;\"/>\r\n   </g>\r\n   <g id=\"patch_148\">\r\n    <path clip-path=\"url(#pf80f7f8c6c)\" d=\"M 269.169318 227.559443 \r\nL 270.691136 227.559443 \r\nL 270.691136 227.559443 \r\nL 269.169318 227.559443 \r\nz\r\n\" style=\"fill:#1f77b4;\"/>\r\n   </g>\r\n   <g id=\"patch_149\">\r\n    <path clip-path=\"url(#pf80f7f8c6c)\" d=\"M 270.691136 227.559443 \r\nL 272.212955 227.559443 \r\nL 272.212955 227.559443 \r\nL 270.691136 227.559443 \r\nz\r\n\" style=\"fill:#1f77b4;\"/>\r\n   </g>\r\n   <g id=\"patch_150\">\r\n    <path clip-path=\"url(#pf80f7f8c6c)\" d=\"M 272.212955 227.559443 \r\nL 273.734773 227.559443 \r\nL 273.734773 227.559443 \r\nL 272.212955 227.559443 \r\nz\r\n\" style=\"fill:#1f77b4;\"/>\r\n   </g>\r\n   <g id=\"patch_151\">\r\n    <path clip-path=\"url(#pf80f7f8c6c)\" d=\"M 273.734773 227.559443 \r\nL 275.256591 227.559443 \r\nL 275.256591 227.559443 \r\nL 273.734773 227.559443 \r\nz\r\n\" style=\"fill:#1f77b4;\"/>\r\n   </g>\r\n   <g id=\"patch_152\">\r\n    <path clip-path=\"url(#pf80f7f8c6c)\" d=\"M 275.256591 227.559443 \r\nL 276.778409 227.559443 \r\nL 276.778409 226.205941 \r\nL 275.256591 226.205941 \r\nz\r\n\" style=\"fill:#1f77b4;\"/>\r\n   </g>\r\n   <g id=\"patch_153\">\r\n    <path clip-path=\"url(#pf80f7f8c6c)\" d=\"M 276.778409 227.559443 \r\nL 278.300227 227.559443 \r\nL 278.300227 227.559443 \r\nL 276.778409 227.559443 \r\nz\r\n\" style=\"fill:#1f77b4;\"/>\r\n   </g>\r\n   <g id=\"patch_154\">\r\n    <path clip-path=\"url(#pf80f7f8c6c)\" d=\"M 278.300227 227.559443 \r\nL 279.822045 227.559443 \r\nL 279.822045 227.559443 \r\nL 278.300227 227.559443 \r\nz\r\n\" style=\"fill:#1f77b4;\"/>\r\n   </g>\r\n   <g id=\"patch_155\">\r\n    <path clip-path=\"url(#pf80f7f8c6c)\" d=\"M 279.822045 227.559443 \r\nL 281.343864 227.559443 \r\nL 281.343864 227.559443 \r\nL 279.822045 227.559443 \r\nz\r\n\" style=\"fill:#1f77b4;\"/>\r\n   </g>\r\n   <g id=\"patch_156\">\r\n    <path clip-path=\"url(#pf80f7f8c6c)\" d=\"M 281.343864 227.559443 \r\nL 282.865682 227.559443 \r\nL 282.865682 227.559443 \r\nL 281.343864 227.559443 \r\nz\r\n\" style=\"fill:#1f77b4;\"/>\r\n   </g>\r\n   <g id=\"patch_157\">\r\n    <path clip-path=\"url(#pf80f7f8c6c)\" d=\"M 282.865682 227.559443 \r\nL 284.3875 227.559443 \r\nL 284.3875 227.559443 \r\nL 282.865682 227.559443 \r\nz\r\n\" style=\"fill:#1f77b4;\"/>\r\n   </g>\r\n   <g id=\"patch_158\">\r\n    <path clip-path=\"url(#pf80f7f8c6c)\" d=\"M 284.3875 227.559443 \r\nL 285.909318 227.559443 \r\nL 285.909318 227.559443 \r\nL 284.3875 227.559443 \r\nz\r\n\" style=\"fill:#1f77b4;\"/>\r\n   </g>\r\n   <g id=\"patch_159\">\r\n    <path clip-path=\"url(#pf80f7f8c6c)\" d=\"M 285.909318 227.559443 \r\nL 287.431136 227.559443 \r\nL 287.431136 227.559443 \r\nL 285.909318 227.559443 \r\nz\r\n\" style=\"fill:#1f77b4;\"/>\r\n   </g>\r\n   <g id=\"patch_160\">\r\n    <path clip-path=\"url(#pf80f7f8c6c)\" d=\"M 287.431136 227.559443 \r\nL 288.952955 227.559443 \r\nL 288.952955 227.559443 \r\nL 287.431136 227.559443 \r\nz\r\n\" style=\"fill:#1f77b4;\"/>\r\n   </g>\r\n   <g id=\"patch_161\">\r\n    <path clip-path=\"url(#pf80f7f8c6c)\" d=\"M 288.952955 227.559443 \r\nL 290.474773 227.559443 \r\nL 290.474773 227.559443 \r\nL 288.952955 227.559443 \r\nz\r\n\" style=\"fill:#1f77b4;\"/>\r\n   </g>\r\n   <g id=\"patch_162\">\r\n    <path clip-path=\"url(#pf80f7f8c6c)\" d=\"M 290.474773 227.559443 \r\nL 291.996591 227.559443 \r\nL 291.996591 227.559443 \r\nL 290.474773 227.559443 \r\nz\r\n\" style=\"fill:#1f77b4;\"/>\r\n   </g>\r\n   <g id=\"patch_163\">\r\n    <path clip-path=\"url(#pf80f7f8c6c)\" d=\"M 291.996591 227.559443 \r\nL 293.518409 227.559443 \r\nL 293.518409 227.559443 \r\nL 291.996591 227.559443 \r\nz\r\n\" style=\"fill:#1f77b4;\"/>\r\n   </g>\r\n   <g id=\"patch_164\">\r\n    <path clip-path=\"url(#pf80f7f8c6c)\" d=\"M 293.518409 227.559443 \r\nL 295.040227 227.559443 \r\nL 295.040227 227.559443 \r\nL 293.518409 227.559443 \r\nz\r\n\" style=\"fill:#1f77b4;\"/>\r\n   </g>\r\n   <g id=\"patch_165\">\r\n    <path clip-path=\"url(#pf80f7f8c6c)\" d=\"M 295.040227 227.559443 \r\nL 296.562045 227.559443 \r\nL 296.562045 227.559443 \r\nL 295.040227 227.559443 \r\nz\r\n\" style=\"fill:#1f77b4;\"/>\r\n   </g>\r\n   <g id=\"patch_166\">\r\n    <path clip-path=\"url(#pf80f7f8c6c)\" d=\"M 296.562045 227.559443 \r\nL 298.083864 227.559443 \r\nL 298.083864 227.559443 \r\nL 296.562045 227.559443 \r\nz\r\n\" style=\"fill:#1f77b4;\"/>\r\n   </g>\r\n   <g id=\"patch_167\">\r\n    <path clip-path=\"url(#pf80f7f8c6c)\" d=\"M 298.083864 227.559443 \r\nL 299.605682 227.559443 \r\nL 299.605682 227.559443 \r\nL 298.083864 227.559443 \r\nz\r\n\" style=\"fill:#1f77b4;\"/>\r\n   </g>\r\n   <g id=\"patch_168\">\r\n    <path clip-path=\"url(#pf80f7f8c6c)\" d=\"M 299.605682 227.559443 \r\nL 301.1275 227.559443 \r\nL 301.1275 227.559443 \r\nL 299.605682 227.559443 \r\nz\r\n\" style=\"fill:#1f77b4;\"/>\r\n   </g>\r\n   <g id=\"patch_169\">\r\n    <path clip-path=\"url(#pf80f7f8c6c)\" d=\"M 301.1275 227.559443 \r\nL 302.649318 227.559443 \r\nL 302.649318 227.559443 \r\nL 301.1275 227.559443 \r\nz\r\n\" style=\"fill:#1f77b4;\"/>\r\n   </g>\r\n   <g id=\"patch_170\">\r\n    <path clip-path=\"url(#pf80f7f8c6c)\" d=\"M 302.649318 227.559443 \r\nL 304.171136 227.559443 \r\nL 304.171136 227.559443 \r\nL 302.649318 227.559443 \r\nz\r\n\" style=\"fill:#1f77b4;\"/>\r\n   </g>\r\n   <g id=\"patch_171\">\r\n    <path clip-path=\"url(#pf80f7f8c6c)\" d=\"M 304.171136 227.559443 \r\nL 305.692955 227.559443 \r\nL 305.692955 227.559443 \r\nL 304.171136 227.559443 \r\nz\r\n\" style=\"fill:#1f77b4;\"/>\r\n   </g>\r\n   <g id=\"patch_172\">\r\n    <path clip-path=\"url(#pf80f7f8c6c)\" d=\"M 305.692955 227.559443 \r\nL 307.214773 227.559443 \r\nL 307.214773 227.559443 \r\nL 305.692955 227.559443 \r\nz\r\n\" style=\"fill:#1f77b4;\"/>\r\n   </g>\r\n   <g id=\"patch_173\">\r\n    <path clip-path=\"url(#pf80f7f8c6c)\" d=\"M 307.214773 227.559443 \r\nL 308.736591 227.559443 \r\nL 308.736591 227.559443 \r\nL 307.214773 227.559443 \r\nz\r\n\" style=\"fill:#1f77b4;\"/>\r\n   </g>\r\n   <g id=\"patch_174\">\r\n    <path clip-path=\"url(#pf80f7f8c6c)\" d=\"M 308.736591 227.559443 \r\nL 310.258409 227.559443 \r\nL 310.258409 227.559443 \r\nL 308.736591 227.559443 \r\nz\r\n\" style=\"fill:#1f77b4;\"/>\r\n   </g>\r\n   <g id=\"patch_175\">\r\n    <path clip-path=\"url(#pf80f7f8c6c)\" d=\"M 310.258409 227.559443 \r\nL 311.780227 227.559443 \r\nL 311.780227 227.559443 \r\nL 310.258409 227.559443 \r\nz\r\n\" style=\"fill:#1f77b4;\"/>\r\n   </g>\r\n   <g id=\"patch_176\">\r\n    <path clip-path=\"url(#pf80f7f8c6c)\" d=\"M 311.780227 227.559443 \r\nL 313.302045 227.559443 \r\nL 313.302045 227.559443 \r\nL 311.780227 227.559443 \r\nz\r\n\" style=\"fill:#1f77b4;\"/>\r\n   </g>\r\n   <g id=\"patch_177\">\r\n    <path clip-path=\"url(#pf80f7f8c6c)\" d=\"M 313.302045 227.559443 \r\nL 314.823864 227.559443 \r\nL 314.823864 227.559443 \r\nL 313.302045 227.559443 \r\nz\r\n\" style=\"fill:#1f77b4;\"/>\r\n   </g>\r\n   <g id=\"patch_178\">\r\n    <path clip-path=\"url(#pf80f7f8c6c)\" d=\"M 314.823864 227.559443 \r\nL 316.345682 227.559443 \r\nL 316.345682 227.559443 \r\nL 314.823864 227.559443 \r\nz\r\n\" style=\"fill:#1f77b4;\"/>\r\n   </g>\r\n   <g id=\"patch_179\">\r\n    <path clip-path=\"url(#pf80f7f8c6c)\" d=\"M 316.345682 227.559443 \r\nL 317.8675 227.559443 \r\nL 317.8675 227.559443 \r\nL 316.345682 227.559443 \r\nz\r\n\" style=\"fill:#1f77b4;\"/>\r\n   </g>\r\n   <g id=\"patch_180\">\r\n    <path clip-path=\"url(#pf80f7f8c6c)\" d=\"M 317.8675 227.559443 \r\nL 319.389318 227.559443 \r\nL 319.389318 227.559443 \r\nL 317.8675 227.559443 \r\nz\r\n\" style=\"fill:#1f77b4;\"/>\r\n   </g>\r\n   <g id=\"patch_181\">\r\n    <path clip-path=\"url(#pf80f7f8c6c)\" d=\"M 319.389318 227.559443 \r\nL 320.911136 227.559443 \r\nL 320.911136 227.559443 \r\nL 319.389318 227.559443 \r\nz\r\n\" style=\"fill:#1f77b4;\"/>\r\n   </g>\r\n   <g id=\"patch_182\">\r\n    <path clip-path=\"url(#pf80f7f8c6c)\" d=\"M 320.911136 227.559443 \r\nL 322.432955 227.559443 \r\nL 322.432955 227.559443 \r\nL 320.911136 227.559443 \r\nz\r\n\" style=\"fill:#1f77b4;\"/>\r\n   </g>\r\n   <g id=\"patch_183\">\r\n    <path clip-path=\"url(#pf80f7f8c6c)\" d=\"M 322.432955 227.559443 \r\nL 323.954773 227.559443 \r\nL 323.954773 227.559443 \r\nL 322.432955 227.559443 \r\nz\r\n\" style=\"fill:#1f77b4;\"/>\r\n   </g>\r\n   <g id=\"patch_184\">\r\n    <path clip-path=\"url(#pf80f7f8c6c)\" d=\"M 323.954773 227.559443 \r\nL 325.476591 227.559443 \r\nL 325.476591 227.559443 \r\nL 323.954773 227.559443 \r\nz\r\n\" style=\"fill:#1f77b4;\"/>\r\n   </g>\r\n   <g id=\"patch_185\">\r\n    <path clip-path=\"url(#pf80f7f8c6c)\" d=\"M 325.476591 227.559443 \r\nL 326.998409 227.559443 \r\nL 326.998409 227.559443 \r\nL 325.476591 227.559443 \r\nz\r\n\" style=\"fill:#1f77b4;\"/>\r\n   </g>\r\n   <g id=\"patch_186\">\r\n    <path clip-path=\"url(#pf80f7f8c6c)\" d=\"M 326.998409 227.559443 \r\nL 328.520227 227.559443 \r\nL 328.520227 226.205941 \r\nL 326.998409 226.205941 \r\nz\r\n\" style=\"fill:#1f77b4;\"/>\r\n   </g>\r\n   <g id=\"patch_187\">\r\n    <path clip-path=\"url(#pf80f7f8c6c)\" d=\"M 328.520227 227.559443 \r\nL 330.042045 227.559443 \r\nL 330.042045 227.559443 \r\nL 328.520227 227.559443 \r\nz\r\n\" style=\"fill:#1f77b4;\"/>\r\n   </g>\r\n   <g id=\"patch_188\">\r\n    <path clip-path=\"url(#pf80f7f8c6c)\" d=\"M 330.042045 227.559443 \r\nL 331.563864 227.559443 \r\nL 331.563864 227.559443 \r\nL 330.042045 227.559443 \r\nz\r\n\" style=\"fill:#1f77b4;\"/>\r\n   </g>\r\n   <g id=\"patch_189\">\r\n    <path clip-path=\"url(#pf80f7f8c6c)\" d=\"M 331.563864 227.559443 \r\nL 333.085682 227.559443 \r\nL 333.085682 227.559443 \r\nL 331.563864 227.559443 \r\nz\r\n\" style=\"fill:#1f77b4;\"/>\r\n   </g>\r\n   <g id=\"patch_190\">\r\n    <path clip-path=\"url(#pf80f7f8c6c)\" d=\"M 333.085682 227.559443 \r\nL 334.6075 227.559443 \r\nL 334.6075 227.559443 \r\nL 333.085682 227.559443 \r\nz\r\n\" style=\"fill:#1f77b4;\"/>\r\n   </g>\r\n   <g id=\"patch_191\">\r\n    <path clip-path=\"url(#pf80f7f8c6c)\" d=\"M 334.6075 227.559443 \r\nL 336.129318 227.559443 \r\nL 336.129318 227.559443 \r\nL 334.6075 227.559443 \r\nz\r\n\" style=\"fill:#1f77b4;\"/>\r\n   </g>\r\n   <g id=\"patch_192\">\r\n    <path clip-path=\"url(#pf80f7f8c6c)\" d=\"M 336.129318 227.559443 \r\nL 337.651136 227.559443 \r\nL 337.651136 227.559443 \r\nL 336.129318 227.559443 \r\nz\r\n\" style=\"fill:#1f77b4;\"/>\r\n   </g>\r\n   <g id=\"patch_193\">\r\n    <path clip-path=\"url(#pf80f7f8c6c)\" d=\"M 337.651136 227.559443 \r\nL 339.172955 227.559443 \r\nL 339.172955 227.559443 \r\nL 337.651136 227.559443 \r\nz\r\n\" style=\"fill:#1f77b4;\"/>\r\n   </g>\r\n   <g id=\"patch_194\">\r\n    <path clip-path=\"url(#pf80f7f8c6c)\" d=\"M 339.172955 227.559443 \r\nL 340.694773 227.559443 \r\nL 340.694773 227.559443 \r\nL 339.172955 227.559443 \r\nz\r\n\" style=\"fill:#1f77b4;\"/>\r\n   </g>\r\n   <g id=\"patch_195\">\r\n    <path clip-path=\"url(#pf80f7f8c6c)\" d=\"M 340.694773 227.559443 \r\nL 342.216591 227.559443 \r\nL 342.216591 227.559443 \r\nL 340.694773 227.559443 \r\nz\r\n\" style=\"fill:#1f77b4;\"/>\r\n   </g>\r\n   <g id=\"patch_196\">\r\n    <path clip-path=\"url(#pf80f7f8c6c)\" d=\"M 342.216591 227.559443 \r\nL 343.738409 227.559443 \r\nL 343.738409 227.559443 \r\nL 342.216591 227.559443 \r\nz\r\n\" style=\"fill:#1f77b4;\"/>\r\n   </g>\r\n   <g id=\"patch_197\">\r\n    <path clip-path=\"url(#pf80f7f8c6c)\" d=\"M 343.738409 227.559443 \r\nL 345.260227 227.559443 \r\nL 345.260227 227.559443 \r\nL 343.738409 227.559443 \r\nz\r\n\" style=\"fill:#1f77b4;\"/>\r\n   </g>\r\n   <g id=\"patch_198\">\r\n    <path clip-path=\"url(#pf80f7f8c6c)\" d=\"M 345.260227 227.559443 \r\nL 346.782045 227.559443 \r\nL 346.782045 227.559443 \r\nL 345.260227 227.559443 \r\nz\r\n\" style=\"fill:#1f77b4;\"/>\r\n   </g>\r\n   <g id=\"patch_199\">\r\n    <path clip-path=\"url(#pf80f7f8c6c)\" d=\"M 346.782045 227.559443 \r\nL 348.303864 227.559443 \r\nL 348.303864 227.559443 \r\nL 346.782045 227.559443 \r\nz\r\n\" style=\"fill:#1f77b4;\"/>\r\n   </g>\r\n   <g id=\"patch_200\">\r\n    <path clip-path=\"url(#pf80f7f8c6c)\" d=\"M 348.303864 227.559443 \r\nL 349.825682 227.559443 \r\nL 349.825682 227.559443 \r\nL 348.303864 227.559443 \r\nz\r\n\" style=\"fill:#1f77b4;\"/>\r\n   </g>\r\n   <g id=\"patch_201\">\r\n    <path clip-path=\"url(#pf80f7f8c6c)\" d=\"M 349.825682 227.559443 \r\nL 351.3475 227.559443 \r\nL 351.3475 227.559443 \r\nL 349.825682 227.559443 \r\nz\r\n\" style=\"fill:#1f77b4;\"/>\r\n   </g>\r\n   <g id=\"patch_202\">\r\n    <path clip-path=\"url(#pf80f7f8c6c)\" d=\"M 351.3475 227.559443 \r\nL 352.869318 227.559443 \r\nL 352.869318 226.205941 \r\nL 351.3475 226.205941 \r\nz\r\n\" style=\"fill:#1f77b4;\"/>\r\n   </g>\r\n   <g id=\"matplotlib.axis_1\">\r\n    <g id=\"xtick_1\">\r\n     <g id=\"line2d_1\">\r\n      <defs>\r\n       <path d=\"M 0 0 \r\nL 0 3.5 \r\n\" id=\"mf064516d09\" style=\"stroke:#000000;stroke-width:0.8;\"/>\r\n      </defs>\r\n      <g>\r\n       <use style=\"stroke:#000000;stroke-width:0.8;\" x=\"46.075094\" xlink:href=\"#mf064516d09\" y=\"227.559443\"/>\r\n      </g>\r\n     </g>\r\n     <g id=\"text_1\">\r\n      <!-- 0 -->\r\n      <defs>\r\n       <path d=\"M 31.78125 66.40625 \r\nQ 24.171875 66.40625 20.328125 58.90625 \r\nQ 16.5 51.421875 16.5 36.375 \r\nQ 16.5 21.390625 20.328125 13.890625 \r\nQ 24.171875 6.390625 31.78125 6.390625 \r\nQ 39.453125 6.390625 43.28125 13.890625 \r\nQ 47.125 21.390625 47.125 36.375 \r\nQ 47.125 51.421875 43.28125 58.90625 \r\nQ 39.453125 66.40625 31.78125 66.40625 \r\nz\r\nM 31.78125 74.21875 \r\nQ 44.046875 74.21875 50.515625 64.515625 \r\nQ 56.984375 54.828125 56.984375 36.375 \r\nQ 56.984375 17.96875 50.515625 8.265625 \r\nQ 44.046875 -1.421875 31.78125 -1.421875 \r\nQ 19.53125 -1.421875 13.0625 8.265625 \r\nQ 6.59375 17.96875 6.59375 36.375 \r\nQ 6.59375 54.828125 13.0625 64.515625 \r\nQ 19.53125 74.21875 31.78125 74.21875 \r\nz\r\n\" id=\"DejaVuSans-48\"/>\r\n      </defs>\r\n      <g transform=\"translate(42.893844 242.15788)scale(0.1 -0.1)\">\r\n       <use xlink:href=\"#DejaVuSans-48\"/>\r\n      </g>\r\n     </g>\r\n    </g>\r\n    <g id=\"xtick_2\">\r\n     <g id=\"line2d_2\">\r\n      <g>\r\n       <use style=\"stroke:#000000;stroke-width:0.8;\" x=\"100.088161\" xlink:href=\"#mf064516d09\" y=\"227.559443\"/>\r\n      </g>\r\n     </g>\r\n     <g id=\"text_2\">\r\n      <!-- 200 -->\r\n      <defs>\r\n       <path d=\"M 19.1875 8.296875 \r\nL 53.609375 8.296875 \r\nL 53.609375 0 \r\nL 7.328125 0 \r\nL 7.328125 8.296875 \r\nQ 12.9375 14.109375 22.625 23.890625 \r\nQ 32.328125 33.6875 34.8125 36.53125 \r\nQ 39.546875 41.84375 41.421875 45.53125 \r\nQ 43.3125 49.21875 43.3125 52.78125 \r\nQ 43.3125 58.59375 39.234375 62.25 \r\nQ 35.15625 65.921875 28.609375 65.921875 \r\nQ 23.96875 65.921875 18.8125 64.3125 \r\nQ 13.671875 62.703125 7.8125 59.421875 \r\nL 7.8125 69.390625 \r\nQ 13.765625 71.78125 18.9375 73 \r\nQ 24.125 74.21875 28.421875 74.21875 \r\nQ 39.75 74.21875 46.484375 68.546875 \r\nQ 53.21875 62.890625 53.21875 53.421875 \r\nQ 53.21875 48.921875 51.53125 44.890625 \r\nQ 49.859375 40.875 45.40625 35.40625 \r\nQ 44.1875 33.984375 37.640625 27.21875 \r\nQ 31.109375 20.453125 19.1875 8.296875 \r\nz\r\n\" id=\"DejaVuSans-50\"/>\r\n      </defs>\r\n      <g transform=\"translate(90.544411 242.15788)scale(0.1 -0.1)\">\r\n       <use xlink:href=\"#DejaVuSans-50\"/>\r\n       <use x=\"63.623047\" xlink:href=\"#DejaVuSans-48\"/>\r\n       <use x=\"127.246094\" xlink:href=\"#DejaVuSans-48\"/>\r\n      </g>\r\n     </g>\r\n    </g>\r\n    <g id=\"xtick_3\">\r\n     <g id=\"line2d_3\">\r\n      <g>\r\n       <use style=\"stroke:#000000;stroke-width:0.8;\" x=\"154.101229\" xlink:href=\"#mf064516d09\" y=\"227.559443\"/>\r\n      </g>\r\n     </g>\r\n     <g id=\"text_3\">\r\n      <!-- 400 -->\r\n      <defs>\r\n       <path d=\"M 37.796875 64.3125 \r\nL 12.890625 25.390625 \r\nL 37.796875 25.390625 \r\nz\r\nM 35.203125 72.90625 \r\nL 47.609375 72.90625 \r\nL 47.609375 25.390625 \r\nL 58.015625 25.390625 \r\nL 58.015625 17.1875 \r\nL 47.609375 17.1875 \r\nL 47.609375 0 \r\nL 37.796875 0 \r\nL 37.796875 17.1875 \r\nL 4.890625 17.1875 \r\nL 4.890625 26.703125 \r\nz\r\n\" id=\"DejaVuSans-52\"/>\r\n      </defs>\r\n      <g transform=\"translate(144.557479 242.15788)scale(0.1 -0.1)\">\r\n       <use xlink:href=\"#DejaVuSans-52\"/>\r\n       <use x=\"63.623047\" xlink:href=\"#DejaVuSans-48\"/>\r\n       <use x=\"127.246094\" xlink:href=\"#DejaVuSans-48\"/>\r\n      </g>\r\n     </g>\r\n    </g>\r\n    <g id=\"xtick_4\">\r\n     <g id=\"line2d_4\">\r\n      <g>\r\n       <use style=\"stroke:#000000;stroke-width:0.8;\" x=\"208.114297\" xlink:href=\"#mf064516d09\" y=\"227.559443\"/>\r\n      </g>\r\n     </g>\r\n     <g id=\"text_4\">\r\n      <!-- 600 -->\r\n      <defs>\r\n       <path d=\"M 33.015625 40.375 \r\nQ 26.375 40.375 22.484375 35.828125 \r\nQ 18.609375 31.296875 18.609375 23.390625 \r\nQ 18.609375 15.53125 22.484375 10.953125 \r\nQ 26.375 6.390625 33.015625 6.390625 \r\nQ 39.65625 6.390625 43.53125 10.953125 \r\nQ 47.40625 15.53125 47.40625 23.390625 \r\nQ 47.40625 31.296875 43.53125 35.828125 \r\nQ 39.65625 40.375 33.015625 40.375 \r\nz\r\nM 52.59375 71.296875 \r\nL 52.59375 62.3125 \r\nQ 48.875 64.0625 45.09375 64.984375 \r\nQ 41.3125 65.921875 37.59375 65.921875 \r\nQ 27.828125 65.921875 22.671875 59.328125 \r\nQ 17.53125 52.734375 16.796875 39.40625 \r\nQ 19.671875 43.65625 24.015625 45.921875 \r\nQ 28.375 48.1875 33.59375 48.1875 \r\nQ 44.578125 48.1875 50.953125 41.515625 \r\nQ 57.328125 34.859375 57.328125 23.390625 \r\nQ 57.328125 12.15625 50.6875 5.359375 \r\nQ 44.046875 -1.421875 33.015625 -1.421875 \r\nQ 20.359375 -1.421875 13.671875 8.265625 \r\nQ 6.984375 17.96875 6.984375 36.375 \r\nQ 6.984375 53.65625 15.1875 63.9375 \r\nQ 23.390625 74.21875 37.203125 74.21875 \r\nQ 40.921875 74.21875 44.703125 73.484375 \r\nQ 48.484375 72.75 52.59375 71.296875 \r\nz\r\n\" id=\"DejaVuSans-54\"/>\r\n      </defs>\r\n      <g transform=\"translate(198.570547 242.15788)scale(0.1 -0.1)\">\r\n       <use xlink:href=\"#DejaVuSans-54\"/>\r\n       <use x=\"63.623047\" xlink:href=\"#DejaVuSans-48\"/>\r\n       <use x=\"127.246094\" xlink:href=\"#DejaVuSans-48\"/>\r\n      </g>\r\n     </g>\r\n    </g>\r\n    <g id=\"xtick_5\">\r\n     <g id=\"line2d_5\">\r\n      <g>\r\n       <use style=\"stroke:#000000;stroke-width:0.8;\" x=\"262.127364\" xlink:href=\"#mf064516d09\" y=\"227.559443\"/>\r\n      </g>\r\n     </g>\r\n     <g id=\"text_5\">\r\n      <!-- 800 -->\r\n      <defs>\r\n       <path d=\"M 31.78125 34.625 \r\nQ 24.75 34.625 20.71875 30.859375 \r\nQ 16.703125 27.09375 16.703125 20.515625 \r\nQ 16.703125 13.921875 20.71875 10.15625 \r\nQ 24.75 6.390625 31.78125 6.390625 \r\nQ 38.8125 6.390625 42.859375 10.171875 \r\nQ 46.921875 13.96875 46.921875 20.515625 \r\nQ 46.921875 27.09375 42.890625 30.859375 \r\nQ 38.875 34.625 31.78125 34.625 \r\nz\r\nM 21.921875 38.8125 \r\nQ 15.578125 40.375 12.03125 44.71875 \r\nQ 8.5 49.078125 8.5 55.328125 \r\nQ 8.5 64.0625 14.71875 69.140625 \r\nQ 20.953125 74.21875 31.78125 74.21875 \r\nQ 42.671875 74.21875 48.875 69.140625 \r\nQ 55.078125 64.0625 55.078125 55.328125 \r\nQ 55.078125 49.078125 51.53125 44.71875 \r\nQ 48 40.375 41.703125 38.8125 \r\nQ 48.828125 37.15625 52.796875 32.3125 \r\nQ 56.78125 27.484375 56.78125 20.515625 \r\nQ 56.78125 9.90625 50.3125 4.234375 \r\nQ 43.84375 -1.421875 31.78125 -1.421875 \r\nQ 19.734375 -1.421875 13.25 4.234375 \r\nQ 6.78125 9.90625 6.78125 20.515625 \r\nQ 6.78125 27.484375 10.78125 32.3125 \r\nQ 14.796875 37.15625 21.921875 38.8125 \r\nz\r\nM 18.3125 54.390625 \r\nQ 18.3125 48.734375 21.84375 45.5625 \r\nQ 25.390625 42.390625 31.78125 42.390625 \r\nQ 38.140625 42.390625 41.71875 45.5625 \r\nQ 45.3125 48.734375 45.3125 54.390625 \r\nQ 45.3125 60.0625 41.71875 63.234375 \r\nQ 38.140625 66.40625 31.78125 66.40625 \r\nQ 25.390625 66.40625 21.84375 63.234375 \r\nQ 18.3125 60.0625 18.3125 54.390625 \r\nz\r\n\" id=\"DejaVuSans-56\"/>\r\n      </defs>\r\n      <g transform=\"translate(252.583614 242.15788)scale(0.1 -0.1)\">\r\n       <use xlink:href=\"#DejaVuSans-56\"/>\r\n       <use x=\"63.623047\" xlink:href=\"#DejaVuSans-48\"/>\r\n       <use x=\"127.246094\" xlink:href=\"#DejaVuSans-48\"/>\r\n      </g>\r\n     </g>\r\n    </g>\r\n    <g id=\"xtick_6\">\r\n     <g id=\"line2d_6\">\r\n      <g>\r\n       <use style=\"stroke:#000000;stroke-width:0.8;\" x=\"316.140432\" xlink:href=\"#mf064516d09\" y=\"227.559443\"/>\r\n      </g>\r\n     </g>\r\n     <g id=\"text_6\">\r\n      <!-- 1000 -->\r\n      <defs>\r\n       <path d=\"M 12.40625 8.296875 \r\nL 28.515625 8.296875 \r\nL 28.515625 63.921875 \r\nL 10.984375 60.40625 \r\nL 10.984375 69.390625 \r\nL 28.421875 72.90625 \r\nL 38.28125 72.90625 \r\nL 38.28125 8.296875 \r\nL 54.390625 8.296875 \r\nL 54.390625 0 \r\nL 12.40625 0 \r\nz\r\n\" id=\"DejaVuSans-49\"/>\r\n      </defs>\r\n      <g transform=\"translate(303.415432 242.15788)scale(0.1 -0.1)\">\r\n       <use xlink:href=\"#DejaVuSans-49\"/>\r\n       <use x=\"63.623047\" xlink:href=\"#DejaVuSans-48\"/>\r\n       <use x=\"127.246094\" xlink:href=\"#DejaVuSans-48\"/>\r\n       <use x=\"190.869141\" xlink:href=\"#DejaVuSans-48\"/>\r\n      </g>\r\n     </g>\r\n    </g>\r\n   </g>\r\n   <g id=\"matplotlib.axis_2\">\r\n    <g id=\"ytick_1\">\r\n     <g id=\"line2d_7\">\r\n      <defs>\r\n       <path d=\"M 0 0 \r\nL -3.5 0 \r\n\" id=\"mbe5a9d5839\" style=\"stroke:#000000;stroke-width:0.8;\"/>\r\n      </defs>\r\n      <g>\r\n       <use style=\"stroke:#000000;stroke-width:0.8;\" x=\"33.2875\" xlink:href=\"#mbe5a9d5839\" y=\"227.559443\"/>\r\n      </g>\r\n     </g>\r\n     <g id=\"text_7\">\r\n      <!-- 0 -->\r\n      <g transform=\"translate(19.925 231.358662)scale(0.1 -0.1)\">\r\n       <use xlink:href=\"#DejaVuSans-48\"/>\r\n      </g>\r\n     </g>\r\n    </g>\r\n    <g id=\"ytick_2\">\r\n     <g id=\"line2d_8\">\r\n      <g>\r\n       <use style=\"stroke:#000000;stroke-width:0.8;\" x=\"33.2875\" xlink:href=\"#mbe5a9d5839\" y=\"200.489415\"/>\r\n      </g>\r\n     </g>\r\n     <g id=\"text_8\">\r\n      <!-- 20 -->\r\n      <g transform=\"translate(13.5625 204.288634)scale(0.1 -0.1)\">\r\n       <use xlink:href=\"#DejaVuSans-50\"/>\r\n       <use x=\"63.623047\" xlink:href=\"#DejaVuSans-48\"/>\r\n      </g>\r\n     </g>\r\n    </g>\r\n    <g id=\"ytick_3\">\r\n     <g id=\"line2d_9\">\r\n      <g>\r\n       <use style=\"stroke:#000000;stroke-width:0.8;\" x=\"33.2875\" xlink:href=\"#mbe5a9d5839\" y=\"173.419387\"/>\r\n      </g>\r\n     </g>\r\n     <g id=\"text_9\">\r\n      <!-- 40 -->\r\n      <g transform=\"translate(13.5625 177.218606)scale(0.1 -0.1)\">\r\n       <use xlink:href=\"#DejaVuSans-52\"/>\r\n       <use x=\"63.623047\" xlink:href=\"#DejaVuSans-48\"/>\r\n      </g>\r\n     </g>\r\n    </g>\r\n    <g id=\"ytick_4\">\r\n     <g id=\"line2d_10\">\r\n      <g>\r\n       <use style=\"stroke:#000000;stroke-width:0.8;\" x=\"33.2875\" xlink:href=\"#mbe5a9d5839\" y=\"146.349359\"/>\r\n      </g>\r\n     </g>\r\n     <g id=\"text_10\">\r\n      <!-- 60 -->\r\n      <g transform=\"translate(13.5625 150.148578)scale(0.1 -0.1)\">\r\n       <use xlink:href=\"#DejaVuSans-54\"/>\r\n       <use x=\"63.623047\" xlink:href=\"#DejaVuSans-48\"/>\r\n      </g>\r\n     </g>\r\n    </g>\r\n    <g id=\"ytick_5\">\r\n     <g id=\"line2d_11\">\r\n      <g>\r\n       <use style=\"stroke:#000000;stroke-width:0.8;\" x=\"33.2875\" xlink:href=\"#mbe5a9d5839\" y=\"119.279331\"/>\r\n      </g>\r\n     </g>\r\n     <g id=\"text_11\">\r\n      <!-- 80 -->\r\n      <g transform=\"translate(13.5625 123.07855)scale(0.1 -0.1)\">\r\n       <use xlink:href=\"#DejaVuSans-56\"/>\r\n       <use x=\"63.623047\" xlink:href=\"#DejaVuSans-48\"/>\r\n      </g>\r\n     </g>\r\n    </g>\r\n    <g id=\"ytick_6\">\r\n     <g id=\"line2d_12\">\r\n      <g>\r\n       <use style=\"stroke:#000000;stroke-width:0.8;\" x=\"33.2875\" xlink:href=\"#mbe5a9d5839\" y=\"92.209303\"/>\r\n      </g>\r\n     </g>\r\n     <g id=\"text_12\">\r\n      <!-- 100 -->\r\n      <g transform=\"translate(7.2 96.008522)scale(0.1 -0.1)\">\r\n       <use xlink:href=\"#DejaVuSans-49\"/>\r\n       <use x=\"63.623047\" xlink:href=\"#DejaVuSans-48\"/>\r\n       <use x=\"127.246094\" xlink:href=\"#DejaVuSans-48\"/>\r\n      </g>\r\n     </g>\r\n    </g>\r\n    <g id=\"ytick_7\">\r\n     <g id=\"line2d_13\">\r\n      <g>\r\n       <use style=\"stroke:#000000;stroke-width:0.8;\" x=\"33.2875\" xlink:href=\"#mbe5a9d5839\" y=\"65.139275\"/>\r\n      </g>\r\n     </g>\r\n     <g id=\"text_13\">\r\n      <!-- 120 -->\r\n      <g transform=\"translate(7.2 68.938494)scale(0.1 -0.1)\">\r\n       <use xlink:href=\"#DejaVuSans-49\"/>\r\n       <use x=\"63.623047\" xlink:href=\"#DejaVuSans-50\"/>\r\n       <use x=\"127.246094\" xlink:href=\"#DejaVuSans-48\"/>\r\n      </g>\r\n     </g>\r\n    </g>\r\n    <g id=\"ytick_8\">\r\n     <g id=\"line2d_14\">\r\n      <g>\r\n       <use style=\"stroke:#000000;stroke-width:0.8;\" x=\"33.2875\" xlink:href=\"#mbe5a9d5839\" y=\"38.069247\"/>\r\n      </g>\r\n     </g>\r\n     <g id=\"text_14\">\r\n      <!-- 140 -->\r\n      <g transform=\"translate(7.2 41.868466)scale(0.1 -0.1)\">\r\n       <use xlink:href=\"#DejaVuSans-49\"/>\r\n       <use x=\"63.623047\" xlink:href=\"#DejaVuSans-52\"/>\r\n       <use x=\"127.246094\" xlink:href=\"#DejaVuSans-48\"/>\r\n      </g>\r\n     </g>\r\n    </g>\r\n    <g id=\"ytick_9\">\r\n     <g id=\"line2d_15\">\r\n      <g>\r\n       <use style=\"stroke:#000000;stroke-width:0.8;\" x=\"33.2875\" xlink:href=\"#mbe5a9d5839\" y=\"10.999219\"/>\r\n      </g>\r\n     </g>\r\n     <g id=\"text_15\">\r\n      <!-- 160 -->\r\n      <g transform=\"translate(7.2 14.798437)scale(0.1 -0.1)\">\r\n       <use xlink:href=\"#DejaVuSans-49\"/>\r\n       <use x=\"63.623047\" xlink:href=\"#DejaVuSans-54\"/>\r\n       <use x=\"127.246094\" xlink:href=\"#DejaVuSans-48\"/>\r\n      </g>\r\n     </g>\r\n    </g>\r\n   </g>\r\n   <g id=\"patch_203\">\r\n    <path d=\"M 33.2875 227.559443 \r\nL 33.2875 10.119443 \r\n\" style=\"fill:none;stroke:#000000;stroke-linecap:square;stroke-linejoin:miter;stroke-width:0.8;\"/>\r\n   </g>\r\n   <g id=\"patch_204\">\r\n    <path d=\"M 368.0875 227.559443 \r\nL 368.0875 10.119443 \r\n\" style=\"fill:none;stroke:#000000;stroke-linecap:square;stroke-linejoin:miter;stroke-width:0.8;\"/>\r\n   </g>\r\n   <g id=\"patch_205\">\r\n    <path d=\"M 33.2875 227.559443 \r\nL 368.0875 227.559443 \r\n\" style=\"fill:none;stroke:#000000;stroke-linecap:square;stroke-linejoin:miter;stroke-width:0.8;\"/>\r\n   </g>\r\n   <g id=\"patch_206\">\r\n    <path d=\"M 33.2875 10.119443 \r\nL 368.0875 10.119443 \r\n\" style=\"fill:none;stroke:#000000;stroke-linecap:square;stroke-linejoin:miter;stroke-width:0.8;\"/>\r\n   </g>\r\n  </g>\r\n </g>\r\n <defs>\r\n  <clipPath id=\"pf80f7f8c6c\">\r\n   <rect height=\"217.44\" width=\"334.8\" x=\"33.2875\" y=\"10.119443\"/>\r\n  </clipPath>\r\n </defs>\r\n</svg>\r\n",
      "image/png": "[encoded data removed]"
     },
     "metadata": {
      "needs_background": "light"
     }
    }
   ],
   "source": [
    " import matplotlib.pyplot as plt\n",
    " a = X_train+X_test\n",
    " b=[]\n",
    " for i in a:\n",
    "     b.append(len(i))\n",
    "# b\n",
    " plt.hist(b, bins=200)\n",
    " plt.show()"
   ]
  },
  {
   "cell_type": "code",
   "execution_count": 20,
   "metadata": {
    "tags": []
   },
   "outputs": [
    {
     "output_type": "stream",
     "name": "stdout",
     "text": "# int_encoding done\n"
    }
   ],
   "source": [
    "# X_train 단어들을 토대로 정수 인덱스 설정, 전체 단어 갯수 설정\n",
    "# 유의미한 단어? 빈도수가 1~2개인 단어 버려도 큰 영향을 끼치지 않을것 -> count함수써서 빈도수 낮은 것들을 버리고, 남은 단어의 갯수들\n",
    "max_num_words = 2802\n",
    "tokenizer = Tokenizer(max_num_words)\n",
    "tokenizer.fit_on_texts(X_train+X_test)\n",
    "\n",
    "# 설정된 정수 인덱스를 토대로 변환\n",
    "X_train = tokenizer.texts_to_sequences(X_train)\n",
    "X_test = tokenizer.texts_to_sequences(X_test)\n",
    "\n",
    "print('# int_encoding done')"
   ]
  },
  {
   "cell_type": "code",
   "execution_count": 21,
   "metadata": {},
   "outputs": [
    {
     "output_type": "execute_result",
     "data": {
      "text/plain": "(3319, 3319, 1107, 1107, 4426)"
     },
     "metadata": {},
     "execution_count": 21
    }
   ],
   "source": [
    "len(X_train), len(y_train), len(X_test), len(y_test), len(X_train) + len(X_test)"
   ]
  },
  {
   "cell_type": "code",
   "execution_count": 22,
   "metadata": {
    "tags": []
   },
   "outputs": [
    {
     "output_type": "stream",
     "name": "stdout",
     "text": "Found 36544 unique tokens\n"
    }
   ],
   "source": [
    "word_index = tokenizer.word_index\n",
    "print(f'Found {len(word_index)} unique tokens')\n",
    "vocab_size = len(word_index) + 1"
   ]
  },
  {
   "cell_type": "code",
   "execution_count": 23,
   "metadata": {},
   "outputs": [
    {
     "output_type": "execute_result",
     "data": {
      "text/plain": "19"
     },
     "metadata": {},
     "execution_count": 23
    }
   ],
   "source": [
    "# # len(sorted(y_train.unique()))\n",
    "# len(sorted(y_test.unique()))\n",
    "len(np.unique(np.concatenate([np.array(y_train), np.array(y_test)])))"
   ]
  },
  {
   "cell_type": "code",
   "execution_count": 24,
   "metadata": {},
   "outputs": [],
   "source": [
    "max_length = 200\n",
    "X_train = pad_sequences(X_train, padding='post', maxlen=max_length)\n",
    "X_test = pad_sequences(X_test, padding='post', maxlen=max_length)"
   ]
  },
  {
   "cell_type": "code",
   "execution_count": 25,
   "metadata": {},
   "outputs": [
    {
     "output_type": "execute_result",
     "data": {
      "text/plain": "200"
     },
     "metadata": {},
     "execution_count": 25
    }
   ],
   "source": [
    "len(X_test[0])"
   ]
  },
  {
   "cell_type": "code",
   "execution_count": 26,
   "metadata": {},
   "outputs": [],
   "source": [
    "import pickle\n",
    "with open('lyrics_word2vec_remove_eng.p', 'rb') as f:\n",
    "    vector = pickle.load(f)"
   ]
  },
  {
   "cell_type": "code",
   "execution_count": 27,
   "metadata": {
    "tags": []
   },
   "outputs": [
    {
     "output_type": "stream",
     "name": "stdout",
     "text": "(10702, 400)\n"
    }
   ],
   "source": [
    "print(vector.wv.vectors.shape)"
   ]
  },
  {
   "cell_type": "code",
   "execution_count": 28,
   "metadata": {
    "tags": []
   },
   "outputs": [
    {
     "output_type": "stream",
     "name": "stdout",
     "text": "(36545, 400)\n"
    }
   ],
   "source": [
    "embedding_matrix = np.zeros((vocab_size, 400))\n",
    "\n",
    "print(np.shape(embedding_matrix))"
   ]
  },
  {
   "cell_type": "code",
   "execution_count": 29,
   "metadata": {},
   "outputs": [],
   "source": [
    "def get_vector(word):\n",
    "    if word in vector:\n",
    "        return vector[word]\n",
    "    else:\n",
    "        return None\n",
    "for word, i in word_index.items():\n",
    "    temp = get_vector(word)\n",
    "    if temp is not None:\n",
    "        embedding_matrix[i] = temp"
   ]
  },
  {
   "cell_type": "code",
   "execution_count": 30,
   "metadata": {},
   "outputs": [],
   "source": [
    "y_unique = np.unique(np.concatenate([ np.array(y_train), np.array(y_test) ]))"
   ]
  },
  {
   "cell_type": "code",
   "execution_count": 31,
   "metadata": {},
   "outputs": [],
   "source": [
    "model = Sequential()\n",
    "e = Embedding(vocab_size, 400, weights=[embedding_matrix], input_length=max_length, trainable=False)\n",
    "model.add(e)\n",
    "# model.add(Embedding())\n",
    "model.add(Bidirectional(LSTM(units=128, return_sequences=True, dropout=0.2, recurrent_dropout=0.2)))\n",
    "# model.add(Bidirectional(LSTM(units=128, return_sequences=True, dropout=0.2, recurrent_dropout=0.2)))\n",
    "# model.add(Bidirectional(LSTM(units=128, return_sequences=True, dropout=0.2, recurrent_dropout=0.2)))\n",
    "# model.add(Bidirectional(LSTM(units=128, return_sequences=True, dropout=0.2, recurrent_dropout=0.2)))\n",
    "model.add(SeqSelfAttention(attention_activation='softmax'))\n",
    "# model.add(SeqSelfAttention())\n",
    "model.add(Flatten())\n",
    "model.add(Dense(len(y_unique), activation='softmax'))"
   ]
  },
  {
   "cell_type": "code",
   "execution_count": 32,
   "metadata": {
    "tags": []
   },
   "outputs": [
    {
     "output_type": "stream",
     "name": "stdout",
     "text": "Model: \"sequential_2\"\n_________________________________________________________________\nLayer (type)                 Output Shape              Param #   \n=================================================================\nembedding_1 (Embedding)      (None, 200, 400)          14618000  \n_________________________________________________________________\nbidirectional_1 (Bidirection (None, 200, 256)          541696    \n_________________________________________________________________\nseq_self_attention_1 (SeqSel (None, 200, 256)          16449     \n_________________________________________________________________\nflatten_1 (Flatten)          (None, 51200)             0         \n_________________________________________________________________\ndense_1 (Dense)              (None, 19)                972819    \n=================================================================\nTotal params: 16,148,964\nTrainable params: 1,530,964\nNon-trainable params: 14,618,000\n_________________________________________________________________\n"
    }
   ],
   "source": [
    "model.summary()"
   ]
  },
  {
   "cell_type": "code",
   "execution_count": 33,
   "metadata": {},
   "outputs": [],
   "source": [
    "from tensorflow.keras.optimizers import Adam\n",
    "opt = Adam(0.001)"
   ]
  },
  {
   "cell_type": "code",
   "execution_count": 34,
   "metadata": {},
   "outputs": [],
   "source": [
    "# from keras.optimizers import SGD\n",
    "# opt = SGD(lr=0.01)"
   ]
  },
  {
   "cell_type": "code",
   "execution_count": 35,
   "metadata": {},
   "outputs": [
    {
     "output_type": "execute_result",
     "data": {
      "text/plain": "numpy.ndarray"
     },
     "metadata": {},
     "execution_count": 35
    }
   ],
   "source": [
    "type(X_train)"
   ]
  },
  {
   "cell_type": "code",
   "execution_count": 36,
   "metadata": {},
   "outputs": [],
   "source": [
    "model.compile(optimizer=opt, loss = 'sparse_categorical_crossentropy', metrics=['acc'])"
   ]
  },
  {
   "cell_type": "code",
   "execution_count": 39,
   "metadata": {
    "tags": []
   },
   "outputs": [
    {
     "output_type": "stream",
     "name": "stdout",
     "text": "Train on 3319 samples, validate on 1107 samples\nEpoch 1/20\n3319/3319 [==============================] - 90s 27ms/step - loss: 1.3650 - acc: 0.5592 - val_loss: 1.4642 - val_acc: 0.5330\nEpoch 2/20\n3319/3319 [==============================] - 88s 27ms/step - loss: 1.2586 - acc: 0.5845 - val_loss: 1.3592 - val_acc: 0.5483\nEpoch 3/20\n3319/3319 [==============================] - 102s 31ms/step - loss: 1.2277 - acc: 0.5936 - val_loss: 1.3941 - val_acc: 0.5510\nEpoch 4/20\n3319/3319 [==============================] - 114s 34ms/step - loss: 1.1930 - acc: 0.6086 - val_loss: 1.3836 - val_acc: 0.5519\nEpoch 5/20\n3319/3319 [==============================] - 113s 34ms/step - loss: 1.1721 - acc: 0.5978 - val_loss: 1.4159 - val_acc: 0.5339\nEpoch 6/20\n3319/3319 [==============================] - 112s 34ms/step - loss: 1.1543 - acc: 0.6161 - val_loss: 1.4274 - val_acc: 0.5465\nEpoch 7/20\n3319/3319 [==============================] - 109s 33ms/step - loss: 1.1302 - acc: 0.6146 - val_loss: 1.4133 - val_acc: 0.5664\nEpoch 8/20\n3319/3319 [==============================] - 109s 33ms/step - loss: 1.1126 - acc: 0.6171 - val_loss: 1.5082 - val_acc: 0.5194\nEpoch 9/20\n3319/3319 [==============================] - 110s 33ms/step - loss: 1.0940 - acc: 0.6195 - val_loss: 1.4044 - val_acc: 0.5619\nEpoch 10/20\n3319/3319 [==============================] - 107s 32ms/step - loss: 1.0678 - acc: 0.6297 - val_loss: 1.4367 - val_acc: 0.5519\nEpoch 11/20\n3319/3319 [==============================] - 109s 33ms/step - loss: 1.0445 - acc: 0.6403 - val_loss: 1.4255 - val_acc: 0.5420\nEpoch 12/20\n3319/3319 [==============================] - 109s 33ms/step - loss: 1.0298 - acc: 0.6363 - val_loss: 1.4615 - val_acc: 0.5483\nEpoch 13/20\n3319/3319 [==============================] - 109s 33ms/step - loss: 1.0125 - acc: 0.6529 - val_loss: 1.4731 - val_acc: 0.5519\nEpoch 14/20\n3319/3319 [==============================] - 110s 33ms/step - loss: 0.9860 - acc: 0.6583 - val_loss: 1.5014 - val_acc: 0.5483\nEpoch 15/20\n3319/3319 [==============================] - 113s 34ms/step - loss: 0.9541 - acc: 0.6671 - val_loss: 1.5125 - val_acc: 0.5465\nEpoch 16/20\n3319/3319 [==============================] - 97s 29ms/step - loss: 0.9329 - acc: 0.6749 - val_loss: 1.5279 - val_acc: 0.5339\nEpoch 17/20\n3319/3319 [==============================] - 96s 29ms/step - loss: 0.9057 - acc: 0.6809 - val_loss: 1.5538 - val_acc: 0.5239\nEpoch 18/20\n3319/3319 [==============================] - 95s 29ms/step - loss: 0.8821 - acc: 0.6915 - val_loss: 1.5365 - val_acc: 0.5384\nEpoch 19/20\n3319/3319 [==============================] - 96s 29ms/step - loss: 0.8474 - acc: 0.7059 - val_loss: 1.6887 - val_acc: 0.5167\nEpoch 20/20\n3319/3319 [==============================] - 106s 32ms/step - loss: 0.8271 - acc: 0.7129 - val_loss: 1.6078 - val_acc: 0.5420\n"
    },
    {
     "output_type": "execute_result",
     "data": {
      "text/plain": "<keras.callbacks.callbacks.History at 0x149122cfb48>"
     },
     "metadata": {},
     "execution_count": 39
    }
   ],
   "source": [
    "model.fit(X_train, y_train, validation_data=(X_test, y_test), epochs=20, batch_size=10)"
   ]
  },
  {
   "cell_type": "code",
   "execution_count": null,
   "metadata": {},
   "outputs": [],
   "source": [
    "# model.save('./model_eng_entirely_removed', include_optimizer=False)"
   ]
  },
  {
   "cell_type": "code",
   "execution_count": 54,
   "metadata": {},
   "outputs": [],
   "source": [
    "model.save('model_eng_partially_removed.h5', include_optimizer=False)"
   ]
  },
  {
   "cell_type": "code",
   "execution_count": 55,
   "metadata": {},
   "outputs": [
    {
     "output_type": "error",
     "ename": "ValueError",
     "evalue": "Unknown layer: SeqSelfAttention",
     "traceback": [
      "\u001b[1;31m---------------------------------------------------------------------------\u001b[0m",
      "\u001b[1;31mValueError\u001b[0m                                Traceback (most recent call last)",
      "\u001b[1;32m<ipython-input-55-f196ad9da8c9>\u001b[0m in \u001b[0;36m<module>\u001b[1;34m\u001b[0m\n\u001b[0;32m      1\u001b[0m \u001b[1;32mimport\u001b[0m \u001b[0mtensorflow\u001b[0m \u001b[1;32mas\u001b[0m \u001b[0mtf\u001b[0m\u001b[1;33m\u001b[0m\u001b[1;33m\u001b[0m\u001b[0m\n\u001b[1;32m----> 2\u001b[1;33m \u001b[0mmodel\u001b[0m \u001b[1;33m=\u001b[0m \u001b[0mtf\u001b[0m\u001b[1;33m.\u001b[0m\u001b[0mkeras\u001b[0m\u001b[1;33m.\u001b[0m\u001b[0mmodels\u001b[0m\u001b[1;33m.\u001b[0m\u001b[0mload_model\u001b[0m\u001b[1;33m(\u001b[0m\u001b[1;34m'./model_eng_partially_removed.h5'\u001b[0m\u001b[1;33m)\u001b[0m\u001b[1;33m\u001b[0m\u001b[1;33m\u001b[0m\u001b[0m\n\u001b[0m",
      "\u001b[1;32m~\\anaconda3\\envs\\tensorflow2_env\\lib\\site-packages\\tensorflow_core\\python\\keras\\saving\\save.py\u001b[0m in \u001b[0;36mload_model\u001b[1;34m(filepath, custom_objects, compile)\u001b[0m\n\u001b[0;32m    144\u001b[0m   if (h5py is not None and (\n\u001b[0;32m    145\u001b[0m       isinstance(filepath, h5py.File) or h5py.is_hdf5(filepath))):\n\u001b[1;32m--> 146\u001b[1;33m     \u001b[1;32mreturn\u001b[0m \u001b[0mhdf5_format\u001b[0m\u001b[1;33m.\u001b[0m\u001b[0mload_model_from_hdf5\u001b[0m\u001b[1;33m(\u001b[0m\u001b[0mfilepath\u001b[0m\u001b[1;33m,\u001b[0m \u001b[0mcustom_objects\u001b[0m\u001b[1;33m,\u001b[0m \u001b[0mcompile\u001b[0m\u001b[1;33m)\u001b[0m\u001b[1;33m\u001b[0m\u001b[1;33m\u001b[0m\u001b[0m\n\u001b[0m\u001b[0;32m    147\u001b[0m \u001b[1;33m\u001b[0m\u001b[0m\n\u001b[0;32m    148\u001b[0m   \u001b[1;32mif\u001b[0m \u001b[0misinstance\u001b[0m\u001b[1;33m(\u001b[0m\u001b[0mfilepath\u001b[0m\u001b[1;33m,\u001b[0m \u001b[0msix\u001b[0m\u001b[1;33m.\u001b[0m\u001b[0mstring_types\u001b[0m\u001b[1;33m)\u001b[0m\u001b[1;33m:\u001b[0m\u001b[1;33m\u001b[0m\u001b[1;33m\u001b[0m\u001b[0m\n",
      "\u001b[1;32m~\\anaconda3\\envs\\tensorflow2_env\\lib\\site-packages\\tensorflow_core\\python\\keras\\saving\\hdf5_format.py\u001b[0m in \u001b[0;36mload_model_from_hdf5\u001b[1;34m(filepath, custom_objects, compile)\u001b[0m\n\u001b[0;32m    166\u001b[0m     \u001b[0mmodel_config\u001b[0m \u001b[1;33m=\u001b[0m \u001b[0mjson\u001b[0m\u001b[1;33m.\u001b[0m\u001b[0mloads\u001b[0m\u001b[1;33m(\u001b[0m\u001b[0mmodel_config\u001b[0m\u001b[1;33m.\u001b[0m\u001b[0mdecode\u001b[0m\u001b[1;33m(\u001b[0m\u001b[1;34m'utf-8'\u001b[0m\u001b[1;33m)\u001b[0m\u001b[1;33m)\u001b[0m\u001b[1;33m\u001b[0m\u001b[1;33m\u001b[0m\u001b[0m\n\u001b[0;32m    167\u001b[0m     model = model_config_lib.model_from_config(model_config,\n\u001b[1;32m--> 168\u001b[1;33m                                                custom_objects=custom_objects)\n\u001b[0m\u001b[0;32m    169\u001b[0m \u001b[1;33m\u001b[0m\u001b[0m\n\u001b[0;32m    170\u001b[0m     \u001b[1;31m# set weights\u001b[0m\u001b[1;33m\u001b[0m\u001b[1;33m\u001b[0m\u001b[1;33m\u001b[0m\u001b[0m\n",
      "\u001b[1;32m~\\anaconda3\\envs\\tensorflow2_env\\lib\\site-packages\\tensorflow_core\\python\\keras\\saving\\model_config.py\u001b[0m in \u001b[0;36mmodel_from_config\u001b[1;34m(config, custom_objects)\u001b[0m\n\u001b[0;32m     53\u001b[0m                     '`Sequential.from_config(config)`?')\n\u001b[0;32m     54\u001b[0m   \u001b[1;32mfrom\u001b[0m \u001b[0mtensorflow\u001b[0m\u001b[1;33m.\u001b[0m\u001b[0mpython\u001b[0m\u001b[1;33m.\u001b[0m\u001b[0mkeras\u001b[0m\u001b[1;33m.\u001b[0m\u001b[0mlayers\u001b[0m \u001b[1;32mimport\u001b[0m \u001b[0mdeserialize\u001b[0m  \u001b[1;31m# pylint: disable=g-import-not-at-top\u001b[0m\u001b[1;33m\u001b[0m\u001b[1;33m\u001b[0m\u001b[0m\n\u001b[1;32m---> 55\u001b[1;33m   \u001b[1;32mreturn\u001b[0m \u001b[0mdeserialize\u001b[0m\u001b[1;33m(\u001b[0m\u001b[0mconfig\u001b[0m\u001b[1;33m,\u001b[0m \u001b[0mcustom_objects\u001b[0m\u001b[1;33m=\u001b[0m\u001b[0mcustom_objects\u001b[0m\u001b[1;33m)\u001b[0m\u001b[1;33m\u001b[0m\u001b[1;33m\u001b[0m\u001b[0m\n\u001b[0m\u001b[0;32m     56\u001b[0m \u001b[1;33m\u001b[0m\u001b[0m\n\u001b[0;32m     57\u001b[0m \u001b[1;33m\u001b[0m\u001b[0m\n",
      "\u001b[1;32m~\\anaconda3\\envs\\tensorflow2_env\\lib\\site-packages\\tensorflow_core\\python\\keras\\layers\\serialization.py\u001b[0m in \u001b[0;36mdeserialize\u001b[1;34m(config, custom_objects)\u001b[0m\n\u001b[0;32m    104\u001b[0m       \u001b[0mmodule_objects\u001b[0m\u001b[1;33m=\u001b[0m\u001b[0mglobs\u001b[0m\u001b[1;33m,\u001b[0m\u001b[1;33m\u001b[0m\u001b[1;33m\u001b[0m\u001b[0m\n\u001b[0;32m    105\u001b[0m       \u001b[0mcustom_objects\u001b[0m\u001b[1;33m=\u001b[0m\u001b[0mcustom_objects\u001b[0m\u001b[1;33m,\u001b[0m\u001b[1;33m\u001b[0m\u001b[1;33m\u001b[0m\u001b[0m\n\u001b[1;32m--> 106\u001b[1;33m       printable_module_name='layer')\n\u001b[0m",
      "\u001b[1;32m~\\anaconda3\\envs\\tensorflow2_env\\lib\\site-packages\\tensorflow_core\\python\\keras\\utils\\generic_utils.py\u001b[0m in \u001b[0;36mdeserialize_keras_object\u001b[1;34m(identifier, module_objects, custom_objects, printable_module_name)\u001b[0m\n\u001b[0;32m    301\u001b[0m             custom_objects=dict(\n\u001b[0;32m    302\u001b[0m                 \u001b[0mlist\u001b[0m\u001b[1;33m(\u001b[0m\u001b[0m_GLOBAL_CUSTOM_OBJECTS\u001b[0m\u001b[1;33m.\u001b[0m\u001b[0mitems\u001b[0m\u001b[1;33m(\u001b[0m\u001b[1;33m)\u001b[0m\u001b[1;33m)\u001b[0m \u001b[1;33m+\u001b[0m\u001b[1;33m\u001b[0m\u001b[1;33m\u001b[0m\u001b[0m\n\u001b[1;32m--> 303\u001b[1;33m                 list(custom_objects.items())))\n\u001b[0m\u001b[0;32m    304\u001b[0m       \u001b[1;32mwith\u001b[0m \u001b[0mCustomObjectScope\u001b[0m\u001b[1;33m(\u001b[0m\u001b[0mcustom_objects\u001b[0m\u001b[1;33m)\u001b[0m\u001b[1;33m:\u001b[0m\u001b[1;33m\u001b[0m\u001b[1;33m\u001b[0m\u001b[0m\n\u001b[0;32m    305\u001b[0m         \u001b[1;32mreturn\u001b[0m \u001b[0mcls\u001b[0m\u001b[1;33m.\u001b[0m\u001b[0mfrom_config\u001b[0m\u001b[1;33m(\u001b[0m\u001b[0mcls_config\u001b[0m\u001b[1;33m)\u001b[0m\u001b[1;33m\u001b[0m\u001b[1;33m\u001b[0m\u001b[0m\n",
      "\u001b[1;32m~\\anaconda3\\envs\\tensorflow2_env\\lib\\site-packages\\tensorflow_core\\python\\keras\\engine\\sequential.py\u001b[0m in \u001b[0;36mfrom_config\u001b[1;34m(cls, config, custom_objects)\u001b[0m\n\u001b[0;32m    375\u001b[0m     \u001b[1;32mfor\u001b[0m \u001b[0mlayer_config\u001b[0m \u001b[1;32min\u001b[0m \u001b[0mlayer_configs\u001b[0m\u001b[1;33m:\u001b[0m\u001b[1;33m\u001b[0m\u001b[1;33m\u001b[0m\u001b[0m\n\u001b[0;32m    376\u001b[0m       layer = layer_module.deserialize(layer_config,\n\u001b[1;32m--> 377\u001b[1;33m                                        custom_objects=custom_objects)\n\u001b[0m\u001b[0;32m    378\u001b[0m       \u001b[0mmodel\u001b[0m\u001b[1;33m.\u001b[0m\u001b[0madd\u001b[0m\u001b[1;33m(\u001b[0m\u001b[0mlayer\u001b[0m\u001b[1;33m)\u001b[0m\u001b[1;33m\u001b[0m\u001b[1;33m\u001b[0m\u001b[0m\n\u001b[0;32m    379\u001b[0m     \u001b[1;32mif\u001b[0m \u001b[1;32mnot\u001b[0m \u001b[0mmodel\u001b[0m\u001b[1;33m.\u001b[0m\u001b[0minputs\u001b[0m \u001b[1;32mand\u001b[0m \u001b[0mbuild_input_shape\u001b[0m\u001b[1;33m:\u001b[0m\u001b[1;33m\u001b[0m\u001b[1;33m\u001b[0m\u001b[0m\n",
      "\u001b[1;32m~\\anaconda3\\envs\\tensorflow2_env\\lib\\site-packages\\tensorflow_core\\python\\keras\\layers\\serialization.py\u001b[0m in \u001b[0;36mdeserialize\u001b[1;34m(config, custom_objects)\u001b[0m\n\u001b[0;32m    104\u001b[0m       \u001b[0mmodule_objects\u001b[0m\u001b[1;33m=\u001b[0m\u001b[0mglobs\u001b[0m\u001b[1;33m,\u001b[0m\u001b[1;33m\u001b[0m\u001b[1;33m\u001b[0m\u001b[0m\n\u001b[0;32m    105\u001b[0m       \u001b[0mcustom_objects\u001b[0m\u001b[1;33m=\u001b[0m\u001b[0mcustom_objects\u001b[0m\u001b[1;33m,\u001b[0m\u001b[1;33m\u001b[0m\u001b[1;33m\u001b[0m\u001b[0m\n\u001b[1;32m--> 106\u001b[1;33m       printable_module_name='layer')\n\u001b[0m",
      "\u001b[1;32m~\\anaconda3\\envs\\tensorflow2_env\\lib\\site-packages\\tensorflow_core\\python\\keras\\utils\\generic_utils.py\u001b[0m in \u001b[0;36mdeserialize_keras_object\u001b[1;34m(identifier, module_objects, custom_objects, printable_module_name)\u001b[0m\n\u001b[0;32m    290\u001b[0m     \u001b[0mconfig\u001b[0m \u001b[1;33m=\u001b[0m \u001b[0midentifier\u001b[0m\u001b[1;33m\u001b[0m\u001b[1;33m\u001b[0m\u001b[0m\n\u001b[0;32m    291\u001b[0m     (cls, cls_config) = class_and_config_for_serialized_keras_object(\n\u001b[1;32m--> 292\u001b[1;33m         config, module_objects, custom_objects, printable_module_name)\n\u001b[0m\u001b[0;32m    293\u001b[0m \u001b[1;33m\u001b[0m\u001b[0m\n\u001b[0;32m    294\u001b[0m     \u001b[1;32mif\u001b[0m \u001b[0mhasattr\u001b[0m\u001b[1;33m(\u001b[0m\u001b[0mcls\u001b[0m\u001b[1;33m,\u001b[0m \u001b[1;34m'from_config'\u001b[0m\u001b[1;33m)\u001b[0m\u001b[1;33m:\u001b[0m\u001b[1;33m\u001b[0m\u001b[1;33m\u001b[0m\u001b[0m\n",
      "\u001b[1;32m~\\anaconda3\\envs\\tensorflow2_env\\lib\\site-packages\\tensorflow_core\\python\\keras\\utils\\generic_utils.py\u001b[0m in \u001b[0;36mclass_and_config_for_serialized_keras_object\u001b[1;34m(config, module_objects, custom_objects, printable_module_name)\u001b[0m\n\u001b[0;32m    248\u001b[0m     \u001b[0mcls\u001b[0m \u001b[1;33m=\u001b[0m \u001b[0mmodule_objects\u001b[0m\u001b[1;33m.\u001b[0m\u001b[0mget\u001b[0m\u001b[1;33m(\u001b[0m\u001b[0mclass_name\u001b[0m\u001b[1;33m)\u001b[0m\u001b[1;33m\u001b[0m\u001b[1;33m\u001b[0m\u001b[0m\n\u001b[0;32m    249\u001b[0m     \u001b[1;32mif\u001b[0m \u001b[0mcls\u001b[0m \u001b[1;32mis\u001b[0m \u001b[1;32mNone\u001b[0m\u001b[1;33m:\u001b[0m\u001b[1;33m\u001b[0m\u001b[1;33m\u001b[0m\u001b[0m\n\u001b[1;32m--> 250\u001b[1;33m       \u001b[1;32mraise\u001b[0m \u001b[0mValueError\u001b[0m\u001b[1;33m(\u001b[0m\u001b[1;34m'Unknown '\u001b[0m \u001b[1;33m+\u001b[0m \u001b[0mprintable_module_name\u001b[0m \u001b[1;33m+\u001b[0m \u001b[1;34m': '\u001b[0m \u001b[1;33m+\u001b[0m \u001b[0mclass_name\u001b[0m\u001b[1;33m)\u001b[0m\u001b[1;33m\u001b[0m\u001b[1;33m\u001b[0m\u001b[0m\n\u001b[0m\u001b[0;32m    251\u001b[0m \u001b[1;33m\u001b[0m\u001b[0m\n\u001b[0;32m    252\u001b[0m   \u001b[0mcls_config\u001b[0m \u001b[1;33m=\u001b[0m \u001b[0mconfig\u001b[0m\u001b[1;33m[\u001b[0m\u001b[1;34m'config'\u001b[0m\u001b[1;33m]\u001b[0m\u001b[1;33m\u001b[0m\u001b[1;33m\u001b[0m\u001b[0m\n",
      "\u001b[1;31mValueError\u001b[0m: Unknown layer: SeqSelfAttention"
     ]
    }
   ],
   "source": [
    "import tensorflow as tf\n",
    "model = tf.keras.models.load_model('./model_eng_partially_removed.h5')"
   ]
  },
  {
   "cell_type": "code",
   "execution_count": 56,
   "metadata": {},
   "outputs": [],
   "source": [
    "def model_predict(input_txt):\n",
    "    # input_txt = input()\n",
    "\n",
    "    # 영어 가사 제거\n",
    "    input_txt = input_txt.replace('[a-z}+', '')\n",
    "\n",
    "    # 토큰화\n",
    "    tokens = Okt().morphs(input_txt, stem=True)\n",
    "\n",
    "    # 불용어 제거\n",
    "    tmp = []\n",
    "    for word in tokens:\n",
    "        if word not in stopwords:\n",
    "            tmp.append(word)\n",
    "    tokens=tmp.copy()\n",
    "    del(tmp)\n",
    "\n",
    "    token_seq = tokenizer.texts_to_sequences([tokens])\n",
    "    padded_seq = pad_sequences(token_seq, padding='post', maxlen=max_length)\n",
    "\n",
    "    predict_result = model.predict(padded_seq)\n",
    "    predict_result = np.round(predict_result[0], 2)\n",
    "\n",
    "    return predict_result\n",
    "\n",
    "def show_genre(predict_result, show_prob=False):\n",
    "    if show_prob:\n",
    "        print(\"==장르당 확률==\")\n",
    "        for i in range(len(predict_result)):\n",
    "            print(f\"{genre_list[i]} : \", end='')\n",
    "            print(predict_result[i])\n",
    "    # print(f\"\\n최종 예측 결과 : {genre_list[predict_result.argmax()]}\")\n",
    "    return genre_list[predict_result.argmax()]"
   ]
  },
  {
   "cell_type": "code",
   "execution_count": 58,
   "metadata": {
    "tags": []
   },
   "outputs": [
    {
     "output_type": "stream",
     "name": "stdout",
     "text": "Count : 0\nCount : 500\nCount : 1000\nCount : 1500\nCount : 2000\nCount : 2500\nCount : 3000\nCount : 3500\nCount : 4000\n"
    }
   ],
   "source": [
    "# genre_list[df2['genre']]\n",
    "\n",
    "predicted_list = []\n",
    "for i in range(df2.shape[0]):\n",
    "# for i in range(10):\n",
    "    if i % 500 == 0:\n",
    "        print(f\"Count : {i}\")\n",
    "    predict = model_predict( df2['lyrics'].iloc[i] )\n",
    "    predicted_list.append(show_genre(predict))\n",
    "\n",
    "predicted_table = pd.DataFrame({ 'title' : df2['title'], 'predicted':predicted_list, 'actual' : genre_list[df2['genre']] })"
   ]
  },
  {
   "cell_type": "code",
   "execution_count": 59,
   "metadata": {},
   "outputs": [
    {
     "output_type": "execute_result",
     "data": {
      "text/plain": "                     title predicted actual\n0                다시 여기 바닷가        댄스     댄스\n1         눈누난나 (NUNU NANA)      랩/힙합   랩/힙합\n2              마리아 (Maria)        댄스     댄스\n3                그 여름을 틀어줘        댄스     댄스\n4        How You Like That      랩/힙합   랩/힙합\n...                    ...       ...    ...\n4421                  당신만이       발라드    발라드\n4422      겁나 (Feat. 매드클라운)        댄스    발라드\n4423                시간과 낙엽       발라드    발라드\n4424                    내일       발라드   록/메탈\n4425  New York (Feat. 백지영)        댄스   랩/힙합\n\n[4426 rows x 3 columns]",
      "text/html": "<div>\n<style scoped>\n    .dataframe tbody tr th:only-of-type {\n        vertical-align: middle;\n    }\n\n    .dataframe tbody tr th {\n        vertical-align: top;\n    }\n\n    .dataframe thead th {\n        text-align: right;\n    }\n</style>\n<table border=\"1\" class=\"dataframe\">\n  <thead>\n    <tr style=\"text-align: right;\">\n      <th></th>\n      <th>title</th>\n      <th>predicted</th>\n      <th>actual</th>\n    </tr>\n  </thead>\n  <tbody>\n    <tr>\n      <th>0</th>\n      <td>다시 여기 바닷가</td>\n      <td>댄스</td>\n      <td>댄스</td>\n    </tr>\n    <tr>\n      <th>1</th>\n      <td>눈누난나 (NUNU NANA)</td>\n      <td>랩/힙합</td>\n      <td>랩/힙합</td>\n    </tr>\n    <tr>\n      <th>2</th>\n      <td>마리아 (Maria)</td>\n      <td>댄스</td>\n      <td>댄스</td>\n    </tr>\n    <tr>\n      <th>3</th>\n      <td>그 여름을 틀어줘</td>\n      <td>댄스</td>\n      <td>댄스</td>\n    </tr>\n    <tr>\n      <th>4</th>\n      <td>How You Like That</td>\n      <td>랩/힙합</td>\n      <td>랩/힙합</td>\n    </tr>\n    <tr>\n      <th>...</th>\n      <td>...</td>\n      <td>...</td>\n      <td>...</td>\n    </tr>\n    <tr>\n      <th>4421</th>\n      <td>당신만이</td>\n      <td>발라드</td>\n      <td>발라드</td>\n    </tr>\n    <tr>\n      <th>4422</th>\n      <td>겁나 (Feat. 매드클라운)</td>\n      <td>댄스</td>\n      <td>발라드</td>\n    </tr>\n    <tr>\n      <th>4423</th>\n      <td>시간과 낙엽</td>\n      <td>발라드</td>\n      <td>발라드</td>\n    </tr>\n    <tr>\n      <th>4424</th>\n      <td>내일</td>\n      <td>발라드</td>\n      <td>록/메탈</td>\n    </tr>\n    <tr>\n      <th>4425</th>\n      <td>New York (Feat. 백지영)</td>\n      <td>댄스</td>\n      <td>랩/힙합</td>\n    </tr>\n  </tbody>\n</table>\n<p>4426 rows × 3 columns</p>\n</div>"
     },
     "metadata": {},
     "execution_count": 59
    }
   ],
   "source": [
    "predicted_table"
   ]
  },
  {
   "cell_type": "code",
   "execution_count": 60,
   "metadata": {},
   "outputs": [],
   "source": [
    "with open('predicted_table.p', 'wb') as f:\n",
    "    pickle.dump(predicted_table, f)"
   ]
  },
  {
   "cell_type": "code",
   "execution_count": null,
   "metadata": {},
   "outputs": [],
   "source": []
  }
 ]
}